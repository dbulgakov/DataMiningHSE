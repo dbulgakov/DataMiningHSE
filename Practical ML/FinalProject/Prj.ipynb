{
 "cells": [
  {
   "cell_type": "code",
   "execution_count": 23,
   "metadata": {
    "collapsed": true
   },
   "outputs": [],
   "source": [
    "import warnings\n",
    "warnings.filterwarnings('ignore')\n",
    "import pandas as pd\n",
    "import numpy as np\n",
    "import seaborn as sns\n",
    "import matplotlib.pyplot as plt\n",
    "from sklearn.model_selection import train_test_split\n",
    "from imblearn.over_sampling import SMOTE\n",
    "from sklearn.linear_model import LinearRegression\n",
    "from sklearn.model_selection import StratifiedKFold\n",
    "from sklearn.ensemble import GradientBoostingClassifier \n",
    "from sklearn.model_selection import GridSearchCV\n",
    "from sklearn.metrics import roc_auc_score\n",
    "from sklearn.metrics import roc_curve, auc\n",
    "from sklearn.linear_model import LogisticRegression\n",
    "from sklearn.ensemble import RandomForestClassifier\n",
    "from sklearn.ensemble import AdaBoostClassifier\n",
    "from sklearn.tree import DecisionTreeClassifier\n",
    "from sklearn.neighbors import KNeighborsClassifier\n",
    "from xgboost import XGBClassifier\n",
    "from sklearn.svm import SVC\n",
    "from ggplot import *\n",
    "\n",
    "RND_STATE = 51834\n",
    "%matplotlib inline\n",
    "sns.set_style(\"whitegrid\")"
   ]
  },
  {
   "cell_type": "markdown",
   "metadata": {},
   "source": [
    "## 1. Loading data"
   ]
  },
  {
   "cell_type": "markdown",
   "metadata": {},
   "source": [
    "### 1.1 Data load from file"
   ]
  },
  {
   "cell_type": "code",
   "execution_count": 24,
   "metadata": {
    "collapsed": true
   },
   "outputs": [],
   "source": [
    "data = pd.read_csv('data/cs-training.csv').drop('Unnamed: 0', axis = 1)"
   ]
  },
  {
   "cell_type": "code",
   "execution_count": 25,
   "metadata": {
    "collapsed": false
   },
   "outputs": [
    {
     "data": {
      "text/html": [
       "<div>\n",
       "<table border=\"1\" class=\"dataframe\">\n",
       "  <thead>\n",
       "    <tr style=\"text-align: right;\">\n",
       "      <th></th>\n",
       "      <th>SeriousDlqin2yrs</th>\n",
       "      <th>RevolvingUtilizationOfUnsecuredLines</th>\n",
       "      <th>age</th>\n",
       "      <th>NumberOfTime30-59DaysPastDueNotWorse</th>\n",
       "      <th>DebtRatio</th>\n",
       "      <th>MonthlyIncome</th>\n",
       "      <th>NumberOfOpenCreditLinesAndLoans</th>\n",
       "      <th>NumberOfTimes90DaysLate</th>\n",
       "      <th>NumberRealEstateLoansOrLines</th>\n",
       "      <th>NumberOfTime60-89DaysPastDueNotWorse</th>\n",
       "      <th>NumberOfDependents</th>\n",
       "    </tr>\n",
       "  </thead>\n",
       "  <tbody>\n",
       "    <tr>\n",
       "      <th>count</th>\n",
       "      <td>150000.000000</td>\n",
       "      <td>150000.000000</td>\n",
       "      <td>150000.000000</td>\n",
       "      <td>150000.000000</td>\n",
       "      <td>150000.000000</td>\n",
       "      <td>1.202690e+05</td>\n",
       "      <td>150000.000000</td>\n",
       "      <td>150000.000000</td>\n",
       "      <td>150000.000000</td>\n",
       "      <td>150000.000000</td>\n",
       "      <td>146076.000000</td>\n",
       "    </tr>\n",
       "    <tr>\n",
       "      <th>mean</th>\n",
       "      <td>0.066840</td>\n",
       "      <td>6.048438</td>\n",
       "      <td>52.295207</td>\n",
       "      <td>0.421033</td>\n",
       "      <td>353.005076</td>\n",
       "      <td>6.670221e+03</td>\n",
       "      <td>8.452760</td>\n",
       "      <td>0.265973</td>\n",
       "      <td>1.018240</td>\n",
       "      <td>0.240387</td>\n",
       "      <td>0.757222</td>\n",
       "    </tr>\n",
       "    <tr>\n",
       "      <th>std</th>\n",
       "      <td>0.249746</td>\n",
       "      <td>249.755371</td>\n",
       "      <td>14.771866</td>\n",
       "      <td>4.192781</td>\n",
       "      <td>2037.818523</td>\n",
       "      <td>1.438467e+04</td>\n",
       "      <td>5.145951</td>\n",
       "      <td>4.169304</td>\n",
       "      <td>1.129771</td>\n",
       "      <td>4.155179</td>\n",
       "      <td>1.115086</td>\n",
       "    </tr>\n",
       "    <tr>\n",
       "      <th>min</th>\n",
       "      <td>0.000000</td>\n",
       "      <td>0.000000</td>\n",
       "      <td>0.000000</td>\n",
       "      <td>0.000000</td>\n",
       "      <td>0.000000</td>\n",
       "      <td>0.000000e+00</td>\n",
       "      <td>0.000000</td>\n",
       "      <td>0.000000</td>\n",
       "      <td>0.000000</td>\n",
       "      <td>0.000000</td>\n",
       "      <td>0.000000</td>\n",
       "    </tr>\n",
       "    <tr>\n",
       "      <th>25%</th>\n",
       "      <td>0.000000</td>\n",
       "      <td>0.029867</td>\n",
       "      <td>41.000000</td>\n",
       "      <td>0.000000</td>\n",
       "      <td>0.175074</td>\n",
       "      <td>3.400000e+03</td>\n",
       "      <td>5.000000</td>\n",
       "      <td>0.000000</td>\n",
       "      <td>0.000000</td>\n",
       "      <td>0.000000</td>\n",
       "      <td>0.000000</td>\n",
       "    </tr>\n",
       "    <tr>\n",
       "      <th>50%</th>\n",
       "      <td>0.000000</td>\n",
       "      <td>0.154181</td>\n",
       "      <td>52.000000</td>\n",
       "      <td>0.000000</td>\n",
       "      <td>0.366508</td>\n",
       "      <td>5.400000e+03</td>\n",
       "      <td>8.000000</td>\n",
       "      <td>0.000000</td>\n",
       "      <td>1.000000</td>\n",
       "      <td>0.000000</td>\n",
       "      <td>0.000000</td>\n",
       "    </tr>\n",
       "    <tr>\n",
       "      <th>75%</th>\n",
       "      <td>0.000000</td>\n",
       "      <td>0.559046</td>\n",
       "      <td>63.000000</td>\n",
       "      <td>0.000000</td>\n",
       "      <td>0.868254</td>\n",
       "      <td>8.249000e+03</td>\n",
       "      <td>11.000000</td>\n",
       "      <td>0.000000</td>\n",
       "      <td>2.000000</td>\n",
       "      <td>0.000000</td>\n",
       "      <td>1.000000</td>\n",
       "    </tr>\n",
       "    <tr>\n",
       "      <th>max</th>\n",
       "      <td>1.000000</td>\n",
       "      <td>50708.000000</td>\n",
       "      <td>109.000000</td>\n",
       "      <td>98.000000</td>\n",
       "      <td>329664.000000</td>\n",
       "      <td>3.008750e+06</td>\n",
       "      <td>58.000000</td>\n",
       "      <td>98.000000</td>\n",
       "      <td>54.000000</td>\n",
       "      <td>98.000000</td>\n",
       "      <td>20.000000</td>\n",
       "    </tr>\n",
       "  </tbody>\n",
       "</table>\n",
       "</div>"
      ],
      "text/plain": [
       "       SeriousDlqin2yrs  RevolvingUtilizationOfUnsecuredLines            age  \\\n",
       "count     150000.000000                         150000.000000  150000.000000   \n",
       "mean           0.066840                              6.048438      52.295207   \n",
       "std            0.249746                            249.755371      14.771866   \n",
       "min            0.000000                              0.000000       0.000000   \n",
       "25%            0.000000                              0.029867      41.000000   \n",
       "50%            0.000000                              0.154181      52.000000   \n",
       "75%            0.000000                              0.559046      63.000000   \n",
       "max            1.000000                          50708.000000     109.000000   \n",
       "\n",
       "       NumberOfTime30-59DaysPastDueNotWorse      DebtRatio  MonthlyIncome  \\\n",
       "count                         150000.000000  150000.000000   1.202690e+05   \n",
       "mean                               0.421033     353.005076   6.670221e+03   \n",
       "std                                4.192781    2037.818523   1.438467e+04   \n",
       "min                                0.000000       0.000000   0.000000e+00   \n",
       "25%                                0.000000       0.175074   3.400000e+03   \n",
       "50%                                0.000000       0.366508   5.400000e+03   \n",
       "75%                                0.000000       0.868254   8.249000e+03   \n",
       "max                               98.000000  329664.000000   3.008750e+06   \n",
       "\n",
       "       NumberOfOpenCreditLinesAndLoans  NumberOfTimes90DaysLate  \\\n",
       "count                    150000.000000            150000.000000   \n",
       "mean                          8.452760                 0.265973   \n",
       "std                           5.145951                 4.169304   \n",
       "min                           0.000000                 0.000000   \n",
       "25%                           5.000000                 0.000000   \n",
       "50%                           8.000000                 0.000000   \n",
       "75%                          11.000000                 0.000000   \n",
       "max                          58.000000                98.000000   \n",
       "\n",
       "       NumberRealEstateLoansOrLines  NumberOfTime60-89DaysPastDueNotWorse  \\\n",
       "count                 150000.000000                         150000.000000   \n",
       "mean                       1.018240                              0.240387   \n",
       "std                        1.129771                              4.155179   \n",
       "min                        0.000000                              0.000000   \n",
       "25%                        0.000000                              0.000000   \n",
       "50%                        1.000000                              0.000000   \n",
       "75%                        2.000000                              0.000000   \n",
       "max                       54.000000                             98.000000   \n",
       "\n",
       "       NumberOfDependents  \n",
       "count       146076.000000  \n",
       "mean             0.757222  \n",
       "std              1.115086  \n",
       "min              0.000000  \n",
       "25%              0.000000  \n",
       "50%              0.000000  \n",
       "75%              1.000000  \n",
       "max             20.000000  "
      ]
     },
     "execution_count": 25,
     "metadata": {},
     "output_type": "execute_result"
    }
   ],
   "source": [
    "data.describe()"
   ]
  },
  {
   "cell_type": "markdown",
   "metadata": {},
   "source": [
    "### 1.1 Data exploration"
   ]
  },
  {
   "cell_type": "markdown",
   "metadata": {},
   "source": [
    "| Variable Name | Description | Type |\n",
    "| :- | :- | :- |\n",
    "| SeriousDlqin2yrs | Person experienced 90 days past due delinquency or worse | Y/N |\n",
    "| RevolvingUtilizationOfUnsecuredLines | Total balance on credit cards and personal lines of credit except real estate and no installment debt like car loans divided by the sum of credit limits | percentage |\n",
    "| age | Age of borrower in years | integer |\n",
    "| NumberOfTime30-59DaysPastDueNotWorse | Number of times borrower has been 30-59 days past due but no worse in the last 2 years. | integer |\n",
    "| DebtRatio | Monthly debt payments, alimony,living costs divided by monthy gross income | percentage |\n",
    "| MonthlyIncome | Monthly income | real |\n",
    "| NumberOfOpenCreditLinesAndLoans | Number of Open loans (installment like car loan or mortgage) and Lines of credit (e.g. credit cards) | integer |\n",
    "| NumberOfTimes90DaysLate | Number of times borrower has been 90 days or more past due. | integer |\n",
    "| NumberRealEstateLoansOrLines | Number of mortgage and real estate loans including home equity lines of credit | integer |\n",
    "| NumberOfTime60-89DaysPastDueNotWorse | Number of times borrower has been 60-89 days past due but no worse in the last 2 years. | integer |\n",
    "| NumberOfDependents | Number of dependents in family excluding themselves (spouse, children etc.) | integer |\n",
    "\n",
    "\n",
    "\n",
    "\n"
   ]
  },
  {
   "cell_type": "markdown",
   "metadata": {},
   "source": [
    "### 1.2 Checking if classes are imbalanced"
   ]
  },
  {
   "cell_type": "code",
   "execution_count": 26,
   "metadata": {
    "collapsed": true
   },
   "outputs": [],
   "source": [
    "def plotClassBalance(classesData):\n",
    "    ax = sns.countplot(x = classesData)\n",
    "    ax.set_title('Dataset class balance check')\n",
    "    ax.set_xlabel('Person experienced 90 days past due delinquency or worse ')\n",
    "    ax.set_ylabel('Count')\n",
    "    plt.show()"
   ]
  },
  {
   "cell_type": "code",
   "execution_count": 27,
   "metadata": {
    "collapsed": false
   },
   "outputs": [
    {
     "data": {
      "image/png": "[encoded data removed]",
      "text/plain": [
       "<matplotlib.figure.Figure at 0x11c5cc710>"
      ]
     },
     "metadata": {},
     "output_type": "display_data"
    }
   ],
   "source": [
    "plotClassBalance(data.SeriousDlqin2yrs)"
   ]
  },
  {
   "cell_type": "markdown",
   "metadata": {},
   "source": [
    "### 1.3 Checking for NAN values"
   ]
  },
  {
   "cell_type": "code",
   "execution_count": 28,
   "metadata": {
    "collapsed": true
   },
   "outputs": [],
   "source": [
    "def checkDataFrameNANs(df):\n",
    "    print('Number of nans by property:')\n",
    "    print(df.isnull().sum())"
   ]
  },
  {
   "cell_type": "code",
   "execution_count": 29,
   "metadata": {
    "collapsed": false
   },
   "outputs": [
    {
     "name": "stdout",
     "output_type": "stream",
     "text": [
      "Number of nans by property:\n",
      "SeriousDlqin2yrs                            0\n",
      "RevolvingUtilizationOfUnsecuredLines        0\n",
      "age                                         0\n",
      "NumberOfTime30-59DaysPastDueNotWorse        0\n",
      "DebtRatio                                   0\n",
      "MonthlyIncome                           29731\n",
      "NumberOfOpenCreditLinesAndLoans             0\n",
      "NumberOfTimes90DaysLate                     0\n",
      "NumberRealEstateLoansOrLines                0\n",
      "NumberOfTime60-89DaysPastDueNotWorse        0\n",
      "NumberOfDependents                       3924\n",
      "dtype: int64\n"
     ]
    }
   ],
   "source": [
    "checkDataFrameNANs(data)"
   ]
  },
  {
   "cell_type": "markdown",
   "metadata": {},
   "source": [
    "## 2. Data preprocessing"
   ]
  },
  {
   "cell_type": "markdown",
   "metadata": {},
   "source": [
    "### 2.1 Working with NANs"
   ]
  },
  {
   "cell_type": "markdown",
   "metadata": {},
   "source": [
    "#### 2.1.1 Working with NumberOfDependents parameter "
   ]
  },
  {
   "cell_type": "markdown",
   "metadata": {},
   "source": [
    "Рассматриваемый датасет содержит пропуски в параметре NumberOfDependents. Пропусков достаточно немного, и, чтобы не удалять значения, заменим пропуски в данных медианными значениями."
   ]
  },
  {
   "cell_type": "code",
   "execution_count": 30,
   "metadata": {
    "collapsed": true
   },
   "outputs": [],
   "source": [
    "data['NumberOfDependents'].fillna(data['NumberOfDependents'].median(), inplace = True)"
   ]
  },
  {
   "cell_type": "markdown",
   "metadata": {},
   "source": [
    "#### 2.1.2 Working with MonthlyIncome parameter "
   ]
  },
  {
   "cell_type": "markdown",
   "metadata": {},
   "source": [
    "В используемом датасете очень много пустых значений параметра MonthlyIncome. \n",
    "Построим линейную регрессию для восстановления значений параметра."
   ]
  },
  {
   "cell_type": "code",
   "execution_count": 31,
   "metadata": {
    "collapsed": true
   },
   "outputs": [],
   "source": [
    "non_null_data_monInc = data[data.MonthlyIncome.isnull() == False]\n",
    "null_monInc = data[data.MonthlyIncome.isnull() == True]\n",
    "\n",
    "monInc_y_train = non_null_data_monInc.MonthlyIncome\n",
    "monInc_X_train = non_null_data_monInc.drop(['MonthlyIncome', 'SeriousDlqin2yrs'], axis = 1)\n",
    "null_monInc = null_monInc.drop(['MonthlyIncome', 'SeriousDlqin2yrs'], axis=1)\n",
    "\n",
    "monIncLR = LinearRegression(fit_intercept=True, normalize=True).fit(monInc_X_train, monInc_y_train)"
   ]
  },
  {
   "cell_type": "markdown",
   "metadata": {},
   "source": [
    "С помощью полученной модели предскажем значения параметра для NAN значений "
   ]
  },
  {
   "cell_type": "code",
   "execution_count": 32,
   "metadata": {
    "collapsed": true
   },
   "outputs": [],
   "source": [
    "monInc_y_pred = monIncLR.predict(null_monInc)\n",
    "monInc_y_pred[monInc_y_pred < 0] = 0\n",
    "null_monInc['MonthlyIncome'] = monInc_y_pred"
   ]
  },
  {
   "cell_type": "code",
   "execution_count": 33,
   "metadata": {
    "collapsed": true
   },
   "outputs": [],
   "source": [
    "monNew = []\n",
    "for index in data.index:\n",
    "    if data.MonthlyIncome[index].is_integer() == True:\n",
    "        monNew.append(data.MonthlyIncome[index])\n",
    "    else:\n",
    "        monNew.append(null_monInc.MonthlyIncome[index])\n",
    "data.MonthlyIncome = monNew"
   ]
  },
  {
   "cell_type": "markdown",
   "metadata": {},
   "source": [
    "#### 2.1.3 Cheking for NANs again"
   ]
  },
  {
   "cell_type": "code",
   "execution_count": 34,
   "metadata": {
    "collapsed": false
   },
   "outputs": [
    {
     "name": "stdout",
     "output_type": "stream",
     "text": [
      "Number of nans by property:\n",
      "Number of nans by property:\n",
      "SeriousDlqin2yrs                        0\n",
      "RevolvingUtilizationOfUnsecuredLines    0\n",
      "age                                     0\n",
      "NumberOfTime30-59DaysPastDueNotWorse    0\n",
      "DebtRatio                               0\n",
      "MonthlyIncome                           0\n",
      "NumberOfOpenCreditLinesAndLoans         0\n",
      "NumberOfTimes90DaysLate                 0\n",
      "NumberRealEstateLoansOrLines            0\n",
      "NumberOfTime60-89DaysPastDueNotWorse    0\n",
      "NumberOfDependents                      0\n",
      "dtype: int64\n"
     ]
    }
   ],
   "source": [
    "print('Number of nans by property:')\n",
    "checkDataFrameNANs(data)"
   ]
  },
  {
   "cell_type": "markdown",
   "metadata": {},
   "source": [
    "### 2.2 Train test split"
   ]
  },
  {
   "cell_type": "code",
   "execution_count": 35,
   "metadata": {
    "collapsed": true
   },
   "outputs": [],
   "source": [
    "X = data.drop('SeriousDlqin2yrs', axis=1)\n",
    "y = data.SeriousDlqin2yrs"
   ]
  },
  {
   "cell_type": "code",
   "execution_count": 36,
   "metadata": {
    "collapsed": true
   },
   "outputs": [],
   "source": [
    "X_train, X_test, y_train, y_test = train_test_split(X, y, test_size = 0.3, random_state = RND_STATE)"
   ]
  },
  {
   "cell_type": "markdown",
   "metadata": {
    "collapsed": true
   },
   "source": [
    "### 2.3 Oversampling minor class"
   ]
  },
  {
   "cell_type": "markdown",
   "metadata": {},
   "source": [
    "Train subset balance before oversampling"
   ]
  },
  {
   "cell_type": "code",
   "execution_count": 37,
   "metadata": {
    "collapsed": false
   },
   "outputs": [
    {
     "data": {
      "image/png": "[encoded data removed]",
      "text/plain": [
       "<matplotlib.figure.Figure at 0x11ce90b38>"
      ]
     },
     "metadata": {},
     "output_type": "display_data"
    }
   ],
   "source": [
    "plotClassBalance(y_train)"
   ]
  },
  {
   "cell_type": "code",
   "execution_count": 38,
   "metadata": {
    "collapsed": true
   },
   "outputs": [],
   "source": [
    "sm = SMOTE(random_state = RND_STATE)\n",
    "X_res, y_res = sm.fit_sample(X_train, y_train)"
   ]
  },
  {
   "cell_type": "markdown",
   "metadata": {},
   "source": [
    "And after oversampling"
   ]
  },
  {
   "cell_type": "code",
   "execution_count": 39,
   "metadata": {
    "collapsed": false
   },
   "outputs": [
    {
     "data": {
      "image/png": "[encoded data removed]",
      "text/plain": [
       "<matplotlib.figure.Figure at 0x11a377160>"
      ]
     },
     "metadata": {},
     "output_type": "display_data"
    }
   ],
   "source": [
    "plotClassBalance(y_res)"
   ]
  },
  {
   "cell_type": "code",
   "execution_count": 40,
   "metadata": {
    "collapsed": true
   },
   "outputs": [],
   "source": [
    "X_train = X_res.copy()\n",
    "y_train = y_res.copy()"
   ]
  },
  {
   "cell_type": "markdown",
   "metadata": {},
   "source": [
    "## 3. Data prediction"
   ]
  },
  {
   "cell_type": "markdown",
   "metadata": {},
   "source": [
    "### 3.1 Building models"
   ]
  },
  {
   "cell_type": "markdown",
   "metadata": {},
   "source": [
    "#### 3.1.1 Gradient Boosting"
   ]
  },
  {
   "cell_type": "code",
   "execution_count": 41,
   "metadata": {
    "collapsed": false
   },
   "outputs": [
    {
     "name": "stdout",
     "output_type": "stream",
     "text": [
      "Fitting 10 folds for each of 8 candidates, totalling 80 fits\n"
     ]
    },
    {
     "name": "stderr",
     "output_type": "stream",
     "text": [
      "[Parallel(n_jobs=-1)]: Done  42 tasks      | elapsed: 10.3min\n",
      "[Parallel(n_jobs=-1)]: Done  80 out of  80 | elapsed: 20.6min finished\n"
     ]
    }
   ],
   "source": [
    "folds = StratifiedKFold(n_splits = 10, random_state = RND_STATE, shuffle = False)\n",
    "#создаем объект класса GradientBoostingClassifier() с определенным набором параметров\n",
    "gb = GradientBoostingClassifier(learning_rate = 0.1, subsample = 0.7,  \n",
    "                                max_features = 'sqrt', random_state = RND_STATE)\n",
    "#устанавливаем диапозон параметров для скользящего контроля\n",
    "gb_params = {'loss': ['deviance', 'exponential'],\n",
    "             'min_samples_leaf': [2, 3, 4, 5], \n",
    "             'n_estimators': [150], 'random_state' : [RND_STATE]}\n",
    "#создаем объект класса GridSearchCV()\n",
    "gb_cv = GridSearchCV(gb, param_grid = gb_params, scoring = 'roc_auc', cv = folds, n_jobs = -1, verbose = 1)\n",
    "#обучаемся на обучающей выборке\n",
    "gb_cv.fit(X_train, y_train)\n",
    "#делаем предсказание меток класса на тестовой\n",
    "gb_cv_predict = gb_cv.predict(X_test)\n",
    "#делаем предсказание вероятности класса на тестовой\n",
    "gb_cv_predict_proba = gb_cv.predict_proba(X_test)[:, 1]\n",
    "#вычисляем значение метрики \n",
    "roc_auc_gb = roc_auc_score(y_test, gb_cv_predict_proba)"
   ]
  },
  {
   "cell_type": "code",
   "execution_count": 42,
   "metadata": {
    "collapsed": false
   },
   "outputs": [
    {
     "name": "stdout",
     "output_type": "stream",
     "text": [
      "ROC AUC score: 0.853971358188 CV best score: 0.98231154513\n"
     ]
    }
   ],
   "source": [
    "print(\"ROC AUC score:\", roc_auc_gb,\n",
    "      \"CV best score:\", gb_cv.best_score_)"
   ]
  },
  {
   "cell_type": "code",
   "execution_count": 43,
   "metadata": {
    "collapsed": false
   },
   "outputs": [
    {
     "name": "stdout",
     "output_type": "stream",
     "text": [
      "ROC AUC score: 0.853971358188\n"
     ]
    }
   ],
   "source": [
    "fpr, tpr, thresholds = roc_curve(y_test, gb_cv_predict_proba)\n",
    "print(\"ROC AUC score:\", auc(fpr, tpr))"
   ]
  },
  {
   "cell_type": "code",
   "execution_count": 59,
   "metadata": {
    "collapsed": false
   },
   "outputs": [
    {
     "data": {
      "image/png": "[encoded data removed]",
      "text/plain": [
       "<matplotlib.figure.Figure at 0x11f9b8da0>"
      ]
     },
     "metadata": {},
     "output_type": "display_data"
    },
    {
     "data": {
      "text/plain": [
       "<ggplot: (-9223372036552748705)>"
      ]
     },
     "execution_count": 59,
     "metadata": {},
     "output_type": "execute_result"
    }
   ],
   "source": [
    "df = pd.DataFrame(dict(fpr = fpr, tpr = tpr))\n",
    "ggplot(df, aes(x = 'fpr', y ='tpr')) +\\\n",
    "    geom_line(color='purple', size = 2, alpha = 0.5) +\\\n",
    "    geom_abline(linetype = 'dashed') +\\\n",
    "    xlab(\"false positive rate ($fpr$)\") + ylab(\"true positive rate ($tpr$)\") + ggtitle(\"ROC curve\")"
   ]
  },
  {
   "cell_type": "code",
   "execution_count": 48,
   "metadata": {
    "collapsed": false
   },
   "outputs": [
    {
     "name": "stdout",
     "output_type": "stream",
     "text": [
      "Топ - 5 важнейших признаков:\n",
      "\n",
      "NumberOfDependents: 0.21761274783354262\n",
      "NumberRealEstateLoansOrLines: 0.20406498096698938\n",
      "NumberOfTime30-59DaysPastDueNotWorse: 0.1709196591058154\n",
      "RevolvingUtilizationOfUnsecuredLines: 0.09555141140166183\n",
      "NumberOfTimes90DaysLate: 0.0955131616675817\n"
     ]
    }
   ],
   "source": [
    "importances_gb = gb_cv.best_estimator_.feature_importances_ #получение весов признаков\n",
    "print(str(\"Топ - 5 важнейших признаков:\") + '\\n')\n",
    "gb_zip = zip(X.columns, importances_gb) \n",
    "for a, b, in sorted(gb_zip, key = lambda zp_gb: zp_gb[1], reverse = True)[:5]:\n",
    "    print(\"{0}: {1}\".format(a, b))"
   ]
  },
  {
   "cell_type": "markdown",
   "metadata": {},
   "source": [
    "#### 3.1.2 Random Forest"
   ]
  },
  {
   "cell_type": "code",
   "execution_count": 28,
   "metadata": {
    "collapsed": true
   },
   "outputs": [],
   "source": [
    "#количество n_splits было увеличено, чтобы избежать переобучения\n",
    "folds = StratifiedKFold(n_splits = 25, random_state = RND_STATE) \n",
    "#набор параметров\n",
    "params = {'criterion': ['gini', 'entropy'], \n",
    "         'max_features': [1, 5, 10, 'log2', 'auto'],\n",
    "         'max_depth': [2, 4, 8, 16, 32], \n",
    "         'class_weight': ['balanced'], 'random_state' : [RND_STATE]}\n",
    "#создание объекта класса GridSearchCV()\n",
    "rf_cv = GridSearchCV(RandomForestClassifier(), params, \n",
    "                     scoring='roc_auc', n_jobs = -1, cv = folds, verbose = 1)\n",
    "#обучение модели\n",
    "rf_cv.fit(X_train, y_train)\n",
    "#предсказание меток класса\n",
    "rf_cv_prediction = rf_cv.predict(X_test)\n",
    "#предсказание вероятности принадлежности к одному из классов\n",
    "rf_cv_prediction_proba = rf_cv.predict_proba(X_test)[:, 1]\n",
    "#вычисляем значение метрики \n",
    "roc_auc_rf = roc_auc_score(y_test, rf_cv_prediction_proba)"
   ]
  },
  {
   "cell_type": "code",
   "execution_count": 29,
   "metadata": {
    "collapsed": false
   },
   "outputs": [
    {
     "name": "stdout",
     "output_type": "stream",
     "text": [
      "ROC AUC score: 0.800069249985 CV best score: 0.987153913602\n"
     ]
    }
   ],
   "source": [
    "print(\"ROC AUC score:\", roc_auc_rf,\n",
    "      \"CV best score:\", rf_cv.best_score_)"
   ]
  },
  {
   "cell_type": "code",
   "execution_count": 30,
   "metadata": {
    "collapsed": false,
    "scrolled": true
   },
   "outputs": [
    {
     "name": "stdout",
     "output_type": "stream",
     "text": [
      "False positive rate:\n",
      "[  0.00000000e+00   5.95294790e-04   5.95294790e-04   6.19106582e-04\n",
      "   1.95256691e-03   1.95256691e-03   2.00019049e-03   2.02400229e-03\n",
      "   2.04781408e-03   2.04781408e-03   5.78626536e-03   5.88151253e-03\n",
      "   5.88151253e-03   5.92913611e-03   5.97675969e-03   5.97675969e-03\n",
      "   6.00057148e-03   6.04819507e-03   6.14344223e-03   1.25964378e-02\n",
      "   1.26440613e-02   1.26440613e-02   1.26916849e-02   1.28345557e-02\n",
      "   1.28345557e-02   1.28821793e-02   1.29298028e-02   1.29298028e-02\n",
      "   1.29536146e-02   1.30250500e-02   1.31202972e-02   1.31441090e-02\n",
      "   1.31917325e-02   1.31917325e-02   1.32393561e-02   1.32869797e-02\n",
      "   1.33107915e-02   2.32879322e-02   2.33117440e-02   2.33355558e-02\n",
      "   2.33593676e-02   2.33593676e-02   2.33831794e-02   2.34308029e-02\n",
      "   2.34546147e-02   2.35022383e-02   2.35022383e-02   2.35260501e-02\n",
      "   2.35498619e-02   2.35498619e-02   2.35736737e-02   2.36212973e-02\n",
      "   2.36689208e-02   2.37879798e-02   2.38117916e-02   2.38117916e-02\n",
      "   2.38594152e-02   2.38832270e-02   2.39308506e-02   2.39546623e-02\n",
      "   2.40022859e-02   2.40260977e-02   2.40260977e-02   2.41451567e-02\n",
      "   2.41451567e-02   2.42880274e-02   2.42880274e-02   4.03847986e-02\n",
      "   4.04086103e-02   4.04324221e-02   4.05038575e-02   4.06467283e-02\n",
      "   4.07657872e-02   4.08134108e-02   4.08372226e-02   4.08848462e-02\n",
      "   4.08848462e-02   4.09562816e-02   4.10039051e-02   4.10277169e-02\n",
      "   4.10991523e-02   4.11229641e-02   4.11229641e-02   4.11467759e-02\n",
      "   4.11943995e-02   4.12896466e-02   4.13610820e-02   4.14087056e-02\n",
      "   4.14325174e-02   4.15277645e-02   4.15991999e-02   4.16230117e-02\n",
      "   4.16944471e-02   4.17896943e-02   4.18849414e-02   4.19563768e-02\n",
      "   4.19801886e-02   4.20278122e-02   4.20754358e-02   4.20754358e-02\n",
      "   4.21468711e-02   4.21468711e-02   4.22421183e-02   4.23135537e-02\n",
      "   4.23611773e-02   4.24326126e-02   4.24802362e-02   6.80064768e-02\n",
      "   6.80302886e-02   6.80779122e-02   6.81017240e-02   6.81493476e-02\n",
      "   6.81493476e-02   6.82207829e-02   6.82684065e-02   6.83160301e-02\n",
      "   6.83874655e-02   6.84350891e-02   6.84589008e-02   6.84827126e-02\n",
      "   6.85541480e-02   6.85541480e-02   6.86493952e-02   6.87208306e-02\n",
      "   6.87446423e-02   6.87922659e-02   6.88160777e-02   6.88637013e-02\n",
      "   6.88875131e-02   6.89351367e-02   6.89827603e-02   6.90541956e-02\n",
      "   6.91018192e-02   6.92446900e-02   6.93637489e-02   6.94113725e-02\n",
      "   6.94828079e-02   6.94828079e-02   6.95304315e-02   6.96733022e-02\n",
      "   6.97923612e-02   6.98637966e-02   6.99114201e-02   7.00542909e-02\n",
      "   7.00781027e-02   7.01019145e-02   7.01971616e-02   7.02209734e-02\n",
      "   7.02924088e-02   7.03400324e-02   7.03638442e-02   7.05781503e-02\n",
      "   7.06495857e-02   7.06733975e-02   7.06972093e-02   7.07210210e-02\n",
      "   7.08162682e-02   7.08400800e-02   7.09353272e-02   7.10067625e-02\n",
      "   7.10543861e-02   7.11258215e-02   7.11496333e-02   7.11972569e-02\n",
      "   7.12686923e-02   7.12925040e-02   7.14353748e-02   7.14829984e-02\n",
      "   7.15068102e-02   7.15068102e-02   1.13606058e-01   1.13606058e-01\n",
      "   1.13629870e-01   1.13629870e-01   1.13748928e-01   1.13844176e-01\n",
      "   1.13867987e-01   1.13915611e-01   1.13939423e-01   1.13987046e-01\n",
      "   1.14034670e-01   1.14058482e-01   1.14106105e-01   1.14201353e-01\n",
      "   1.14225164e-01   1.14296600e-01   1.14320411e-01   1.14368035e-01\n",
      "   1.14558529e-01   1.14749024e-01   1.14796647e-01   1.14915706e-01\n",
      "   1.14987142e-01   1.14987142e-01   1.15106201e-01   1.15153824e-01\n",
      "   1.15153824e-01   1.15177636e-01   1.15225260e-01   1.15249071e-01\n",
      "   1.15463377e-01   1.15558625e-01   1.15606248e-01   1.15677684e-01\n",
      "   1.15749119e-01   1.15772931e-01   1.15820554e-01   1.15963425e-01\n",
      "   1.15987237e-01   1.16153919e-01   1.16272978e-01   1.16368226e-01\n",
      "   1.16534908e-01   1.16606343e-01   1.16630155e-01   1.16701591e-01\n",
      "   1.16725402e-01   1.16868273e-01   1.16892085e-01   1.16939709e-01\n",
      "   1.17130203e-01   1.17177826e-01   1.17273074e-01   1.17320697e-01\n",
      "   1.17344509e-01   1.17487380e-01   1.17535003e-01   1.17773121e-01\n",
      "   1.17796933e-01   1.17963616e-01   1.18011239e-01   1.18082675e-01\n",
      "   1.18106486e-01   1.18177922e-01   1.18225545e-01   1.18320792e-01\n",
      "   1.18368416e-01   1.18439851e-01   1.18463663e-01   1.18558910e-01\n",
      "   1.18606534e-01   1.18701781e-01   1.18773216e-01   1.18820840e-01\n",
      "   1.18868464e-01   1.18892275e-01   1.18963711e-01   1.18987523e-01\n",
      "   1.19058958e-01   1.19178017e-01   1.19297076e-01   1.19344699e-01\n",
      "   1.19368511e-01   1.19416135e-01   1.19439947e-01   1.19463758e-01\n",
      "   1.19511382e-01   1.19606629e-01   1.19654253e-01   1.19678065e-01\n",
      "   1.19797124e-01   1.19820935e-01   1.19939994e-01   1.19963806e-01\n",
      "   1.20130489e-01   1.20178112e-01   2.03019335e-01   2.03257453e-01\n",
      "   2.03305077e-01   2.03328888e-01   2.03352700e-01   2.03352700e-01\n",
      "   2.03400324e-01   2.03447947e-01   2.03495571e-01   2.03495571e-01\n",
      "   2.03543195e-01   2.03638442e-01   2.03662254e-01   2.03709877e-01\n",
      "   2.03900371e-01   2.03947995e-01   2.04090866e-01   2.04233737e-01\n",
      "   2.04281360e-01   2.04305172e-01   2.04352796e-01   2.04543290e-01\n",
      "   2.04567102e-01   2.04614725e-01   2.04709972e-01   2.04757596e-01\n",
      "   2.04829031e-01   2.04876655e-01   2.04900467e-01   2.04995714e-01\n",
      "   2.04995714e-01   2.05019526e-01   2.05067149e-01   2.05090961e-01\n",
      "   2.05233832e-01   2.05591009e-01   2.05686256e-01   2.05829127e-01\n",
      "   2.05829127e-01   2.05852938e-01   2.05852938e-01   2.05876750e-01\n",
      "   2.06091056e-01   2.06210115e-01   2.06257739e-01   2.06305362e-01\n",
      "   2.06448233e-01   2.06495857e-01   2.06543480e-01   2.06662539e-01\n",
      "   2.06781598e-01   2.06805410e-01   2.06924469e-01   2.07019716e-01\n",
      "   2.07162587e-01   2.07210210e-01   2.07472140e-01   2.07519764e-01\n",
      "   2.07638823e-01   2.07734070e-01   2.07734070e-01   2.07853129e-01\n",
      "   2.07948376e-01   2.07996000e-01   2.08019811e-01   2.08138870e-01\n",
      "   2.08710353e-01   2.08829412e-01   2.08853224e-01   2.09186589e-01\n",
      "   2.09210401e-01   2.09329460e-01   2.09353272e-01   2.09400895e-01\n",
      "   2.09496142e-01   2.09519954e-01   2.09591390e-01   2.09710449e-01\n",
      "   2.09900943e-01   2.10115249e-01   2.10186684e-01   2.10329555e-01\n",
      "   2.10353367e-01   2.10448614e-01   2.10520050e-01   2.10615297e-01\n",
      "   2.10758167e-01   2.10853415e-01   2.11091533e-01   2.11139156e-01\n",
      "   2.11258215e-01   2.11282027e-01   2.11448709e-01   2.11829698e-01\n",
      "   2.11948757e-01   2.12044004e-01   2.12234499e-01   2.12448805e-01\n",
      "   2.12734546e-01   2.12758358e-01   2.12996476e-01   2.13186970e-01\n",
      "   2.13234594e-01   2.13282217e-01   2.13353653e-01   2.13377465e-01\n",
      "   2.13425088e-01   2.13448900e-01   2.13972759e-01   2.14377560e-01\n",
      "   2.14472807e-01   2.14496619e-01   2.14568054e-01   3.97252119e-01\n",
      "   3.97299743e-01   3.97299743e-01   3.97323555e-01   3.97442614e-01\n",
      "   3.97490237e-01   3.97633108e-01   3.97728355e-01   3.97752167e-01\n",
      "   3.97895038e-01   3.98037908e-01   3.98085532e-01   3.98133156e-01\n",
      "   3.98156967e-01   3.98252214e-01   3.98252214e-01   3.98680827e-01\n",
      "   3.98704639e-01   3.98776074e-01   3.98823697e-01   3.98871321e-01\n",
      "   3.99014192e-01   3.99038004e-01   3.99085627e-01   3.99157063e-01\n",
      "   3.99204686e-01   3.99276122e-01   3.99371369e-01   3.99371369e-01\n",
      "   3.99871416e-01   3.99895228e-01   3.99966663e-01   4.00061911e-01\n",
      "   4.00085722e-01   4.00276217e-01   4.00276217e-01   4.00442899e-01\n",
      "   4.00538146e-01   4.00585770e-01   4.00657205e-01   4.00681017e-01\n",
      "   4.00895323e-01   4.00966759e-01   4.01085818e-01   4.01133441e-01\n",
      "   4.01228688e-01   4.01300124e-01   4.01347747e-01   4.01442995e-01\n",
      "   4.01490618e-01   4.01633489e-01   4.01657301e-01   4.01823983e-01\n",
      "   4.01871607e-01   4.01919230e-01   4.02085913e-01   4.02109725e-01\n",
      "   4.02252595e-01   4.02347843e-01   4.02395466e-01   4.02657396e-01\n",
      "   4.02752643e-01   4.03062196e-01   4.03086008e-01   4.03252691e-01\n",
      "   4.03276503e-01   4.03657491e-01   4.03871797e-01   4.03967044e-01\n",
      "   4.03990856e-01   4.04133727e-01   4.04228974e-01   4.04228974e-01\n",
      "   4.04252786e-01   4.04419469e-01   4.04657586e-01   4.04681398e-01\n",
      "   4.04776645e-01   4.04848081e-01   4.04990952e-01   4.05181446e-01\n",
      "   4.05205258e-01   4.05276693e-01   4.05562435e-01   4.05729117e-01\n",
      "   4.05800552e-01   4.06157729e-01   4.06562530e-01   4.06657777e-01\n",
      "   4.06895895e-01   4.07348319e-01   4.07395942e-01   4.07419754e-01\n",
      "   4.07538813e-01   4.08419850e-01   4.08610344e-01   4.09229450e-01\n",
      "   4.09300886e-01   4.09348509e-01   4.09705686e-01   4.09729498e-01\n",
      "   4.09943804e-01   4.10205734e-01   4.10277169e-01   4.10515287e-01\n",
      "   4.11967806e-01   4.12229736e-01   4.12729784e-01   4.12777407e-01\n",
      "   4.15087151e-01   1.00000000e+00]\n",
      "\n",
      "True positive rate:\n",
      "[ 0.          0.01631158  0.01664447  0.01664447  0.04627164  0.04660453\n",
      "  0.04693742  0.04727031  0.04727031  0.0476032   0.10519308  0.10519308\n",
      "  0.10552597  0.10552597  0.10552597  0.10585885  0.10585885  0.10619174\n",
      "  0.10619174  0.17976032  0.17976032  0.18009321  0.18009321  0.18009321\n",
      "  0.1804261   0.18109188  0.18109188  0.18142477  0.18142477  0.18175766\n",
      "  0.18175766  0.18209055  0.18209055  0.18242344  0.18242344  0.18242344\n",
      "  0.18242344  0.26131824  0.26131824  0.26165113  0.26165113  0.26198402\n",
      "  0.26198402  0.26198402  0.26198402  0.26198402  0.26231691  0.26231691\n",
      "  0.2626498   0.26331558  0.26331558  0.26331558  0.26364847  0.26431425\n",
      "  0.26431425  0.26464714  0.26464714  0.26464714  0.26464714  0.26464714\n",
      "  0.26464714  0.26464714  0.26498003  0.26498003  0.26531292  0.26531292\n",
      "  0.26564581  0.35352863  0.35419441  0.3545273   0.3545273   0.3545273\n",
      "  0.3545273   0.3545273   0.35486019  0.35486019  0.35519308  0.35519308\n",
      "  0.35519308  0.35519308  0.35519308  0.35519308  0.35552597  0.35552597\n",
      "  0.35619174  0.35619174  0.35619174  0.35619174  0.35619174  0.35619174\n",
      "  0.35619174  0.35619174  0.35619174  0.35619174  0.35619174  0.35619174\n",
      "  0.35652463  0.35652463  0.35652463  0.35685752  0.35685752  0.35719041\n",
      "  0.35719041  0.35719041  0.35719041  0.35719041  0.35719041  0.46105193\n",
      "  0.46105193  0.46105193  0.46105193  0.46138482  0.46171771  0.46171771\n",
      "  0.46171771  0.46171771  0.46171771  0.46171771  0.4620506   0.4620506\n",
      "  0.4620506   0.46238349  0.46271638  0.46304927  0.46304927  0.46338216\n",
      "  0.46338216  0.46338216  0.46338216  0.46338216  0.46371505  0.46371505\n",
      "  0.46371505  0.46371505  0.46371505  0.46371505  0.46371505  0.46404794\n",
      "  0.46404794  0.46404794  0.46438083  0.46438083  0.46471372  0.46471372\n",
      "  0.4650466   0.4650466   0.4650466   0.4650466   0.4650466   0.4650466\n",
      "  0.4650466   0.4650466   0.4650466   0.4650466   0.46537949  0.46537949\n",
      "  0.46537949  0.46537949  0.46537949  0.46537949  0.46537949  0.46537949\n",
      "  0.46537949  0.46537949  0.46571238  0.46571238  0.46571238  0.46571238\n",
      "  0.46571238  0.46604527  0.57090546  0.57123835  0.57123835  0.57157124\n",
      "  0.57157124  0.57157124  0.57190413  0.57190413  0.57190413  0.57190413\n",
      "  0.57190413  0.57223702  0.57223702  0.57223702  0.57223702  0.57223702\n",
      "  0.57223702  0.57256991  0.57256991  0.5729028   0.5729028   0.5729028\n",
      "  0.5729028   0.57356858  0.57356858  0.57356858  0.57390146  0.57390146\n",
      "  0.57423435  0.57423435  0.57490013  0.57556591  0.57556591  0.57556591\n",
      "  0.57556591  0.57556591  0.57556591  0.57556591  0.57556591  0.57556591\n",
      "  0.57556591  0.57556591  0.57556591  0.57623169  0.57623169  0.57623169\n",
      "  0.57623169  0.57623169  0.57623169  0.57656458  0.57756325  0.57756325\n",
      "  0.57756325  0.57756325  0.57756325  0.57789614  0.57789614  0.57789614\n",
      "  0.57789614  0.57822903  0.57822903  0.57822903  0.57822903  0.57822903\n",
      "  0.57822903  0.57822903  0.57822903  0.57822903  0.57822903  0.57822903\n",
      "  0.57822903  0.57822903  0.57856192  0.57889481  0.57889481  0.57889481\n",
      "  0.57889481  0.57889481  0.5792277   0.5792277   0.57956059  0.57956059\n",
      "  0.57956059  0.57989348  0.57989348  0.58022636  0.58022636  0.58055925\n",
      "  0.58055925  0.58055925  0.58055925  0.58055925  0.58055925  0.58055925\n",
      "  0.58055925  0.58055925  0.69041278  0.69041278  0.69041278  0.69041278\n",
      "  0.69074567  0.69107856  0.69107856  0.69141145  0.69141145  0.69174434\n",
      "  0.69174434  0.69174434  0.69174434  0.69207723  0.69207723  0.69207723\n",
      "  0.69274301  0.69274301  0.6930759   0.69340879  0.69340879  0.69407457\n",
      "  0.69407457  0.69407457  0.69474035  0.69474035  0.69474035  0.69507324\n",
      "  0.69507324  0.69507324  0.69540613  0.69540613  0.69540613  0.69573901\n",
      "  0.69573901  0.6960719   0.6960719   0.6960719   0.69640479  0.69707057\n",
      "  0.69773635  0.69773635  0.69773635  0.69773635  0.69773635  0.69773635\n",
      "  0.69806924  0.69806924  0.69806924  0.69806924  0.69840213  0.69840213\n",
      "  0.69873502  0.69873502  0.69873502  0.69873502  0.6994008   0.6994008\n",
      "  0.69973369  0.69973369  0.70006658  0.70006658  0.70006658  0.70006658\n",
      "  0.70006658  0.70006658  0.70073236  0.70073236  0.70073236  0.70073236\n",
      "  0.70073236  0.70073236  0.70073236  0.70073236  0.70106525  0.70139814\n",
      "  0.70139814  0.70139814  0.70139814  0.70173103  0.70173103  0.70173103\n",
      "  0.70173103  0.70206391  0.7023968   0.7023968   0.7023968   0.7023968\n",
      "  0.7023968   0.7023968   0.7023968   0.7023968   0.7023968   0.70272969\n",
      "  0.70306258  0.70306258  0.70306258  0.70306258  0.70306258  0.70306258\n",
      "  0.70306258  0.70306258  0.70406125  0.70406125  0.70439414  0.70439414\n",
      "  0.70439414  0.70439414  0.70439414  0.70472703  0.70472703  0.70472703\n",
      "  0.70472703  0.82856192  0.82856192  0.82889481  0.82889481  0.82889481\n",
      "  0.82889481  0.82889481  0.82889481  0.8292277   0.8292277   0.82956059\n",
      "  0.82956059  0.82956059  0.82956059  0.82956059  0.82989348  0.82989348\n",
      "  0.82989348  0.82989348  0.82989348  0.82989348  0.82989348  0.82989348\n",
      "  0.82989348  0.82989348  0.82989348  0.82989348  0.82989348  0.83022636\n",
      "  0.83022636  0.83022636  0.83022636  0.83022636  0.83022636  0.83022636\n",
      "  0.83055925  0.83055925  0.83055925  0.83089214  0.83089214  0.83089214\n",
      "  0.83122503  0.83155792  0.83155792  0.83155792  0.83155792  0.83155792\n",
      "  0.83155792  0.83155792  0.83155792  0.83189081  0.83189081  0.83189081\n",
      "  0.83189081  0.83189081  0.83189081  0.83189081  0.83189081  0.83189081\n",
      "  0.83189081  0.8322237   0.8322237   0.8322237   0.8322237   0.8322237\n",
      "  0.8322237   0.83255659  0.83255659  0.83255659  0.83255659  0.83288948\n",
      "  0.83288948  0.83322237  0.83322237  0.83322237  0.83322237  0.83322237\n",
      "  0.83322237  0.83322237  0.83322237  0.83322237  0.83322237  0.83322237\n",
      "  0.83322237  0.83355526  0.83355526  0.83355526  0.83388815  0.83388815\n",
      "  0.83388815  0.83422104  0.83422104  0.83422104  0.83422104  0.83455393\n",
      "  0.83488682  0.83488682  0.83488682  0.83488682  0.83488682  0.83488682\n",
      "  0.83521971  0.83521971  0.83521971  0.83521971  0.83621838  0.83621838\n",
      "  0.83621838  0.83621838  0.83655126  1.        ]\n",
      "\n",
      "Thresholds:\n",
      "[  2.00000000e+00   1.00000000e+00   9.50000000e-01   9.28611111e-01\n",
      "   9.00000000e-01   8.96153846e-01   8.50000000e-01   8.45454545e-01\n",
      "   8.35705757e-01   8.25000000e-01   8.00000000e-01   7.76923077e-01\n",
      "   7.71428571e-01   7.70000000e-01   7.50000000e-01   7.47540984e-01\n",
      "   7.45454545e-01   7.36356421e-01   7.09987593e-01   7.00000000e-01\n",
      "   6.95652174e-01   6.94117647e-01   6.90000000e-01   6.76923077e-01\n",
      "   6.75000000e-01   6.73416861e-01   6.57142857e-01   6.55882353e-01\n",
      "   6.50602410e-01   6.50000000e-01   6.33333333e-01   6.33333333e-01\n",
      "   6.25000000e-01   6.20000000e-01   6.17105263e-01   6.09134730e-01\n",
      "   6.05000000e-01   6.00000000e-01   5.95918367e-01   5.94117647e-01\n",
      "   5.93750000e-01   5.88888889e-01   5.85714286e-01   5.80000000e-01\n",
      "   5.78571429e-01   5.76923077e-01   5.75000000e-01   5.69230769e-01\n",
      "   5.66666667e-01   5.60000000e-01   5.59325397e-01   5.55882353e-01\n",
      "   5.55555556e-01   5.50000000e-01   5.35294118e-01   5.34206349e-01\n",
      "   5.33333333e-01   5.33333333e-01   5.33064516e-01   5.33064516e-01\n",
      "   5.25000000e-01   5.21428571e-01   5.20000000e-01   5.17105263e-01\n",
      "   5.16666667e-01   5.04347826e-01   5.04081633e-01   5.00000000e-01\n",
      "   4.99253731e-01   4.95918367e-01   4.88888889e-01   4.85714286e-01\n",
      "   4.80000000e-01   4.77205882e-01   4.76923077e-01   4.71052632e-01\n",
      "   4.70682303e-01   4.67521368e-01   4.62500000e-01   4.60000000e-01\n",
      "   4.57142857e-01   4.55882353e-01   4.55555556e-01   4.51923077e-01\n",
      "   4.50602410e-01   4.50000000e-01   4.42857143e-01   4.41760168e-01\n",
      "   4.40000000e-01   4.33333333e-01   4.33333333e-01   4.33064516e-01\n",
      "   4.33064516e-01   4.27777778e-01   4.25000000e-01   4.23076923e-01\n",
      "   4.18181818e-01   4.17894737e-01   4.16666667e-01   4.15873016e-01\n",
      "   4.10714286e-01   4.09987593e-01   4.06578947e-01   4.04132231e-01\n",
      "   4.04081633e-01   4.02116402e-01   4.01980198e-01   4.00000000e-01\n",
      "   3.99253731e-01   3.95918367e-01   3.95833333e-01   3.95652174e-01\n",
      "   3.95238095e-01   3.90602410e-01   3.90000000e-01   3.86666667e-01\n",
      "   3.85714286e-01   3.84901961e-01   3.83333333e-01   3.82222222e-01\n",
      "   3.80000000e-01   3.78571429e-01   3.77205882e-01   3.76923077e-01\n",
      "   3.75000000e-01   3.71428571e-01   3.70000000e-01   3.69841270e-01\n",
      "   3.67105263e-01   3.66666667e-01   3.62500000e-01   3.55882353e-01\n",
      "   3.50602410e-01   3.50000000e-01   3.42857143e-01   3.40000000e-01\n",
      "   3.38235294e-01   3.36734694e-01   3.33333333e-01   3.33333333e-01\n",
      "   3.33064516e-01   3.27272727e-01   3.25000000e-01   3.23076923e-01\n",
      "   3.22222222e-01   3.21428571e-01   3.20000000e-01   3.18644068e-01\n",
      "   3.18181818e-01   3.17894737e-01   3.17500000e-01   3.17105263e-01\n",
      "   3.16666667e-01   3.14761905e-01   3.12500000e-01   3.12222222e-01\n",
      "   3.11764706e-01   3.11111111e-01   3.10000000e-01   3.08888889e-01\n",
      "   3.06578947e-01   3.06250000e-01   3.04761905e-01   3.04347826e-01\n",
      "   3.04081633e-01   3.04000000e-01   3.02857143e-01   3.02116402e-01\n",
      "   3.01980198e-01   3.01515152e-01   3.00000000e-01   2.99253731e-01\n",
      "   2.97794118e-01   2.95918367e-01   2.89464883e-01   2.86666667e-01\n",
      "   2.85714286e-01   2.85294118e-01   2.85185185e-01   2.83333333e-01\n",
      "   2.81818182e-01   2.80000000e-01   2.79173838e-01   2.77205882e-01\n",
      "   2.76923077e-01   2.75000000e-01   2.73450292e-01   2.71428571e-01\n",
      "   2.69841270e-01   2.66666667e-01   2.63636364e-01   2.62500000e-01\n",
      "   2.61538462e-01   2.60526316e-01   2.60000000e-01   2.58235294e-01\n",
      "   2.57142857e-01   2.56578947e-01   2.55882353e-01   2.54545455e-01\n",
      "   2.50602410e-01   2.50000000e-01   2.47540984e-01   2.44385027e-01\n",
      "   2.42857143e-01   2.42857143e-01   2.41760168e-01   2.40000000e-01\n",
      "   2.38461538e-01   2.38235294e-01   2.36734694e-01   2.34782609e-01\n",
      "   2.33333333e-01   2.33064516e-01   2.31578947e-01   2.29411765e-01\n",
      "   2.29005848e-01   2.28571429e-01   2.27777778e-01   2.27272727e-01\n",
      "   2.25000000e-01   2.23644068e-01   2.23076923e-01   2.22222222e-01\n",
      "   2.21428571e-01   2.20000000e-01   2.18181818e-01   2.17894737e-01\n",
      "   2.17500000e-01   2.17105263e-01   2.16666667e-01   2.16666667e-01\n",
      "   2.15384615e-01   2.14285714e-01   2.13333333e-01   2.12903226e-01\n",
      "   2.12121212e-01   2.11764706e-01   2.10810811e-01   2.10714286e-01\n",
      "   2.10526316e-01   2.10000000e-01   2.09278351e-01   2.09090909e-01\n",
      "   2.08888889e-01   2.08888889e-01   2.08695652e-01   2.08000000e-01\n",
      "   2.07407407e-01   2.06578947e-01   2.06250000e-01   2.06061831e-01\n",
      "   2.04761905e-01   2.04347826e-01   2.04132231e-01   2.04081633e-01\n",
      "   2.04000000e-01   2.03389831e-01   2.03333333e-01   2.03125000e-01\n",
      "   2.02857143e-01   2.02564103e-01   2.02116402e-01   2.02083333e-01\n",
      "   2.01980198e-01   2.01515152e-01   2.00000000e-01   1.87362637e-01\n",
      "   1.86666667e-01   1.86538462e-01   1.85714286e-01   1.85294118e-01\n",
      "   1.85000000e-01   1.83333333e-01   1.81410256e-01   1.81250000e-01\n",
      "   1.80769231e-01   1.80000000e-01   1.77777778e-01   1.76923077e-01\n",
      "   1.75000000e-01   1.73333333e-01   1.71428571e-01   1.71052632e-01\n",
      "   1.70000000e-01   1.69841270e-01   1.66776316e-01   1.66666667e-01\n",
      "   1.66397849e-01   1.66190476e-01   1.62500000e-01   1.62222222e-01\n",
      "   1.61538462e-01   1.60526316e-01   1.60150376e-01   1.60000000e-01\n",
      "   1.56578947e-01   1.55882353e-01   1.55555556e-01   1.54545455e-01\n",
      "   1.50602410e-01   1.50000000e-01   1.46246973e-01   1.45833333e-01\n",
      "   1.42894737e-01   1.42857143e-01   1.41318681e-01   1.40740741e-01\n",
      "   1.40000000e-01   1.38235294e-01   1.37723388e-01   1.37500000e-01\n",
      "   1.36734694e-01   1.35714286e-01   1.35000000e-01   1.34782609e-01\n",
      "   1.33333333e-01   1.33279352e-01   1.33064516e-01   1.29411765e-01\n",
      "   1.28571429e-01   1.27777778e-01   1.25000000e-01   1.23389831e-01\n",
      "   1.23076923e-01   1.22222222e-01   1.21428571e-01   1.20507400e-01\n",
      "   1.20000000e-01   1.19278351e-01   1.18750000e-01   1.18644068e-01\n",
      "   1.17894737e-01   1.17500000e-01   1.17269076e-01   1.16666667e-01\n",
      "   1.15873016e-01   1.15384615e-01   1.15141328e-01   1.15000000e-01\n",
      "   1.14285714e-01   1.13636364e-01   1.13333333e-01   1.12903226e-01\n",
      "   1.12500000e-01   1.11764706e-01   1.11111111e-01   1.10810811e-01\n",
      "   1.10793502e-01   1.10714286e-01   1.10526316e-01   1.10000000e-01\n",
      "   1.09278351e-01   1.09090909e-01   1.08888889e-01   1.08119658e-01\n",
      "   1.08000000e-01   1.07692308e-01   1.07407407e-01   1.06578947e-01\n",
      "   1.06250000e-01   1.04761905e-01   1.04347826e-01   1.04132231e-01\n",
      "   1.04081633e-01   1.04000000e-01   1.03448276e-01   1.03389831e-01\n",
      "   1.03333333e-01   1.03125000e-01   1.02857143e-01   1.02564103e-01\n",
      "   1.02325581e-01   1.02222222e-01   1.02116402e-01   1.01980198e-01\n",
      "   1.01515152e-01   1.01449275e-01   1.00480769e-01   1.00000000e-01\n",
      "   9.90683230e-02   9.59183673e-02   9.41176471e-02   8.66666667e-02\n",
      "   8.36956522e-02   8.33333333e-02   8.18181818e-02   8.12500000e-02\n",
      "   7.57575758e-02   7.50000000e-02   7.27272727e-02   7.14285714e-02\n",
      "   7.00404858e-02   6.98412698e-02   6.68067227e-02   6.66666667e-02\n",
      "   6.58898305e-02   6.25000000e-02   6.15384615e-02   6.01503759e-02\n",
      "   6.00000000e-02   5.97826087e-02   5.71428571e-02   5.48494983e-02\n",
      "   5.45454545e-02   5.23255814e-02   5.06024096e-02   5.05952381e-02\n",
      "   5.00000000e-02   4.75409836e-02   4.61538462e-02   4.44444444e-02\n",
      "   4.41447368e-02   4.28571429e-02   4.16666667e-02   4.00000000e-02\n",
      "   3.78947368e-02   3.67346939e-02   3.52941176e-02   3.33333333e-02\n",
      "   3.33333333e-02   3.30645161e-02   3.15789474e-02   3.00000000e-02\n",
      "   2.86324786e-02   2.85714286e-02   2.77777778e-02   2.72727273e-02\n",
      "   2.67857143e-02   2.50000000e-02   2.48940678e-02   2.30769231e-02\n",
      "   2.29147142e-02   2.23218288e-02   2.22222222e-02   2.17647059e-02\n",
      "   2.10526316e-02   2.00000000e-02   1.92783505e-02   1.86440678e-02\n",
      "   1.81818182e-02   1.78947368e-02   1.77865613e-02   1.75000000e-02\n",
      "   1.71052632e-02   1.66666667e-02   1.53846154e-02   1.50000000e-02\n",
      "   1.48148148e-02   1.42857143e-02   1.36363636e-02   1.30434783e-02\n",
      "   1.30211203e-02   1.29032258e-02   1.25000000e-02   1.24807396e-02\n",
      "   1.17647059e-02   1.11111111e-02   1.08108108e-02   1.07142857e-02\n",
      "   1.05263158e-02   1.00000000e-02   9.27835052e-03   8.88888889e-03\n",
      "   8.69565217e-03   8.00000000e-03   7.40740741e-03   7.14285714e-03\n",
      "   6.57894737e-03   6.25000000e-03   5.00000000e-03   4.76190476e-03\n",
      "   4.34782609e-03   4.13223140e-03   4.08163265e-03   3.44827586e-03\n",
      "   3.38983051e-03   3.33333333e-03   3.12500000e-03   3.04487179e-03\n",
      "   2.85714286e-03   2.56410256e-03   2.32558140e-03   2.17391304e-03\n",
      "   2.11640212e-03   2.08333333e-03   1.98019802e-03   1.51515152e-03\n",
      "   4.80769231e-04   0.00000000e+00]\n"
     ]
    }
   ],
   "source": [
    "fpr, tpr, thresholds = roc_curve(y_test, rf_cv_prediction_proba)\n",
    "print(\"ROC AUC score:\", auc(fpr, tpr))"
   ]
  },
  {
   "cell_type": "code",
   "execution_count": 31,
   "metadata": {
    "collapsed": false
   },
   "outputs": [
    {
     "name": "stdout",
     "output_type": "stream",
     "text": [
      "ROC AUC score: 0.800069249985\n"
     ]
    }
   ],
   "source": [
    "print(\"ROC AUC score:\", auc(fpr, tpr))"
   ]
  },
  {
   "cell_type": "code",
   "execution_count": 32,
   "metadata": {
    "collapsed": false
   },
   "outputs": [
    {
     "data": {
      "image/png": "[encoded data removed]",
      "text/plain": [
       "<matplotlib.figure.Figure at 0x1149005f8>"
      ]
     },
     "metadata": {},
     "output_type": "display_data"
    },
    {
     "data": {
      "text/plain": [
       "<ggplot: (-9223372036564781543)>"
      ]
     },
     "execution_count": 32,
     "metadata": {},
     "output_type": "execute_result"
    }
   ],
   "source": [
    "df = pd.DataFrame(dict(fpr = fpr, tpr = tpr))\n",
    "ggplot(df, aes(x = 'fpr', y ='tpr')) +\\\n",
    "    geom_line(color='red', size = 2, alpha = 0.5) +\\\n",
    "    geom_abline(linetype = 'dashed') +\\\n",
    "    xlab(\"false positive rate ($fpr$)\") + ylab(\"true positive rate ($tpr$)\") + ggtitle(\"ROC curve\")"
   ]
  },
  {
   "cell_type": "code",
   "execution_count": 33,
   "metadata": {
    "collapsed": false
   },
   "outputs": [
    {
     "name": "stdout",
     "output_type": "stream",
     "text": [
      "Топ - 5 важнейших признаков:\n",
      "\n",
      "RevolvingUtilizationOfUnsecuredLines: 0.17455612509785937\n",
      "NumberOfTimes90DaysLate: 0.15245190978654402\n",
      "NumberOfTime30-59DaysPastDueNotWorse: 0.14697929024345238\n",
      "NumberOfTime60-89DaysPastDueNotWorse: 0.10731836441566904\n",
      "NumberRealEstateLoansOrLines: 0.08743540967243424\n"
     ]
    }
   ],
   "source": [
    "importances_rf = rf_cv.best_estimator_.feature_importances_ #получение весов признаков\n",
    "print(str(\"Топ - 5 важнейших признаков:\") + '\\n')\n",
    "rf_zip = zip(X.columns, importances_rf) \n",
    "for a, b, in sorted(rf_zip, key = lambda zp_rf: zp_rf[1], reverse = True)[:5]:\n",
    "    print(\"{0}: {1}\".format(a, b))"
   ]
  },
  {
   "cell_type": "markdown",
   "metadata": {},
   "source": [
    "#### 3.1.3 Logistic Regression"
   ]
  },
  {
   "cell_type": "code",
   "execution_count": 34,
   "metadata": {
    "collapsed": true
   },
   "outputs": [],
   "source": [
    "#создаем объект класса XGBClassifier() с определенным набором параметров\n",
    "lr = LogisticRegression(class_weight = 'balanced', random_state = RND_STATE)\n",
    "#устанавливаем диапозон параметров для скользящего контроля\n",
    "lr_params = {'penalty': ['l1', 'l2'], \n",
    "             'C': [0.5, 0.8, 1.0], 'random_state' : [RND_STATE]}\n",
    "#создаем объект класса GridSearchCV()\n",
    "lr_cv = GridSearchCV(lr, param_grid = lr_params, scoring = 'roc_auc', cv = folds, n_jobs = -1, verbose = 1)\n",
    "#обучаемся на обучающей выборке\n",
    "lr_cv.fit(X_train, y_train)\n",
    "#делаем предсказание меток класса на тестовой\n",
    "lr_cv_predict = lr_cv.predict(X_test)\n",
    "#делаем предсказание вероятности класса на тестовой\n",
    "lr_cv_predict_proba = lr_cv.predict_proba(X_test)[:, 1]\n",
    "#вычисляем значение метрики \n",
    "roc_auc_lr = roc_auc_score(y_test, lr_cv_predict_proba)"
   ]
  },
  {
   "cell_type": "code",
   "execution_count": 35,
   "metadata": {
    "collapsed": false
   },
   "outputs": [
    {
     "name": "stdout",
     "output_type": "stream",
     "text": [
      "ROC AUC score: 0.79943139677 CV best score: 0.834023590548\n"
     ]
    }
   ],
   "source": [
    "print(\"ROC AUC score:\", roc_auc_lr,\n",
    "      \"CV best score:\", lr_cv.best_score_)"
   ]
  },
  {
   "cell_type": "code",
   "execution_count": 36,
   "metadata": {
    "collapsed": false
   },
   "outputs": [
    {
     "name": "stdout",
     "output_type": "stream",
     "text": [
      "False positive rate:\n",
      "[ 0.          0.00104772  0.00107153 ...,  0.99914278  0.99914278  1.        ]\n",
      "\n",
      "True positive rate:\n",
      "[ 0.          0.01997337  0.01997337 ...,  0.99966711  1.          1.        ]\n",
      "\n",
      "Thresholds:\n",
      "[  2.00000000e+00   1.00000000e+00   9.99991158e-01 ...,   6.05053432e-02\n",
      "   5.78625119e-02   1.55752063e-33]\n"
     ]
    }
   ],
   "source": [
    "fpr, tpr, thresholds = roc_curve(y_test, lr_cv_predict_proba)\n",
    "print(\"ROC AUC score:\", auc(fpr, tpr))"
   ]
  },
  {
   "cell_type": "code",
   "execution_count": 37,
   "metadata": {
    "collapsed": false
   },
   "outputs": [
    {
     "name": "stdout",
     "output_type": "stream",
     "text": [
      "ROC AUC score: 0.79943139677\n"
     ]
    }
   ],
   "source": [
    "print(\"ROC AUC score:\", auc(fpr, tpr))"
   ]
  },
  {
   "cell_type": "code",
   "execution_count": 38,
   "metadata": {
    "collapsed": false
   },
   "outputs": [
    {
     "data": {
      "image/png": "[encoded data removed]",
      "text/plain": [
       "<matplotlib.figure.Figure at 0x115074ba8>"
      ]
     },
     "metadata": {},
     "output_type": "display_data"
    },
    {
     "data": {
      "text/plain": [
       "<ggplot: (300806888)>"
      ]
     },
     "execution_count": 38,
     "metadata": {},
     "output_type": "execute_result"
    }
   ],
   "source": [
    "df = pd.DataFrame(dict(fpr = fpr, tpr = tpr))\n",
    "ggplot(df, aes(x = 'fpr', y ='tpr')) +\\\n",
    "    geom_line(color='green', size = 2, alpha = 0.5) +\\\n",
    "    geom_abline(linetype = 'dashed') +\\\n",
    "    xlab(\"false positive rate ($fpr$)\") + ylab(\"true positive rate ($tpr$)\") + ggtitle(\"ROC curve\")"
   ]
  },
  {
   "cell_type": "code",
   "execution_count": 39,
   "metadata": {
    "collapsed": false
   },
   "outputs": [
    {
     "name": "stdout",
     "output_type": "stream",
     "text": [
      "Топ - 5 важнейших признаков:\n",
      "\n",
      "NumberOfTimes90DaysLate: 0.7235590625922033\n",
      "NumberOfTime30-59DaysPastDueNotWorse: 0.6687871101117892\n",
      "NumberRealEstateLoansOrLines: 0.09328844307009083\n",
      "NumberOfDependents: 0.08751915098800242\n",
      "NumberOfTime60-89DaysPastDueNotWorse: 0.07774494259863379\n"
     ]
    }
   ],
   "source": [
    "importances_lr = lr_cv.best_estimator_.coef_.flatten()\n",
    "print(str(\"Топ - 5 важнейших признаков:\") + '\\n')\n",
    "lr_zip = zip(X.columns, importances_lr) \n",
    "for a, b, in sorted(lr_zip, key = lambda zp_lr: zp_lr[1], reverse = True)[:5]:\n",
    "    print(\"{0}: {1}\".format(a, b))"
   ]
  },
  {
   "cell_type": "markdown",
   "metadata": {
    "collapsed": true
   },
   "source": [
    "#### 3.1.4 Adaboost classifier"
   ]
  },
  {
   "cell_type": "code",
   "execution_count": 32,
   "metadata": {
    "collapsed": true
   },
   "outputs": [],
   "source": [
    "#устанавливаем диапозон параметров для скользящего контроля\n",
    "params = {'base_estimator__criterion' : [\"gini\", \"entropy\"],\n",
    "          'base_estimator__splitter' :   [\"best\", \"random\"],\n",
    "          'n_estimators': [1, 2]}\n",
    "\n",
    "dtc = DecisionTreeClassifier(random_state = RND_STATE, max_features = \"auto\", \n",
    "                             class_weight = \"balanced\", max_depth = None)\n",
    "\n",
    "ab = AdaBoostClassifier(base_estimator = dtc)\n",
    "\n",
    "#создаем объект класса GridSearchCV()\n",
    "ab_cv = GridSearchCV(ab, param_grid=params, scoring = 'roc_auc', verbose = 1)\n",
    "#обучаемся на обучающей выборке\n",
    "ab_cv.fit(X_train, y_train)\n",
    "#делаем предсказание меток класса на тестовой\n",
    "ab_cv_predict = ab_cv.predict(X_test)\n",
    "#делаем предсказание вероятности класса на тестовой\n",
    "ab_cv_predict_proba = ab_cv.predict_proba(X_test)[:, 1]\n",
    "#вычисляем значение метрики \n",
    "roc_auc_ab = roc_auc_score(y_test, ab_cv_predict_proba)"
   ]
  },
  {
   "cell_type": "code",
   "execution_count": 33,
   "metadata": {
    "collapsed": false
   },
   "outputs": [
    {
     "name": "stdout",
     "output_type": "stream",
     "text": [
      "ROC AUC score: 0.687102056134 CV best score: 0.963190653884\n"
     ]
    }
   ],
   "source": [
    "print(\"ROC AUC score:\", roc_auc_ab,\n",
    "      \"CV best score:\", ab_cv.best_score_)"
   ]
  },
  {
   "cell_type": "code",
   "execution_count": 34,
   "metadata": {
    "collapsed": false
   },
   "outputs": [
    {
     "name": "stdout",
     "output_type": "stream",
     "text": [
      "False positive rate:\n",
      "[ 0.          0.02247833  0.02250214  0.02254977  0.02257358  0.0226212\n",
      "  0.02266883  0.02271645  0.02271645  0.12355939  0.12363082  0.12372607\n",
      "  0.12377369  0.1237975   0.12389275  1.        ]\n",
      "\n",
      "True positive rate:\n",
      "[ 0.          0.17909454  0.17909454  0.17909454  0.17909454  0.17976032\n",
      "  0.18009321  0.18009321  0.1804261   0.48668442  0.48668442  0.48668442\n",
      "  0.48668442  0.48668442  0.48668442  1.        ]\n",
      "\n",
      "Thresholds:\n",
      "[  2.00000000e+00   1.00000000e+00   9.99999994e-01   7.25708115e-01\n",
      "   6.23821488e-01   6.20204103e-01   6.04356076e-01   5.35898385e-01\n",
      "   5.27864045e-01   5.00000000e-01   4.14213562e-01   3.66025404e-01\n",
      "   3.33333333e-01   2.47107797e-08   1.49011610e-08   2.22044605e-16]\n",
      "ROC AUC score: 0.687102056134\n"
     ]
    }
   ],
   "source": [
    "fpr, tpr, thresholds = roc_curve(y_test, ab_cv_predict_proba)\n",
    "print(\"ROC AUC score:\", auc(fpr, tpr))"
   ]
  },
  {
   "cell_type": "code",
   "execution_count": 36,
   "metadata": {
    "collapsed": false
   },
   "outputs": [
    {
     "data": {
      "image/png": "[encoded data removed]",
      "text/plain": [
       "<matplotlib.figure.Figure at 0x11c4522b0>"
      ]
     },
     "metadata": {},
     "output_type": "display_data"
    },
    {
     "data": {
      "text/plain": [
       "<ggplot: (-9223372036556699076)>"
      ]
     },
     "execution_count": 36,
     "metadata": {},
     "output_type": "execute_result"
    }
   ],
   "source": [
    "df = pd.DataFrame(dict(fpr = fpr, tpr = tpr))\n",
    "ggplot(df, aes(x = 'fpr', y ='tpr')) +\\\n",
    "    geom_line(color='brown', size = 2, alpha = 0.5) +\\\n",
    "    geom_abline(linetype = 'dashed') +\\\n",
    "    xlab(\"false positive rate ($fpr$)\") + ylab(\"true positive rate ($tpr$)\") + ggtitle(\"ROC curve\")"
   ]
  },
  {
   "cell_type": "code",
   "execution_count": null,
   "metadata": {
    "collapsed": true
   },
   "outputs": [],
   "source": [
    "importances_ab = ab_cv.best_estimator_.feature_importances_ #получение весов признаков\n",
    "print(str(\"Топ - 5 важнейших признаков:\") + '\\n')\n",
    "ab_zip = zip(X.columns, importances_ab) \n",
    "for a, b, in sorted(ab_zip, key = lambda zp_ab: zp_ab[1], reverse = True)[:5]:\n",
    "    print(\"{0}: {1}\".format(a, b))"
   ]
  },
  {
   "cell_type": "markdown",
   "metadata": {},
   "source": [
    "#### 3.1.5 Decision Trees classifier"
   ]
  },
  {
   "cell_type": "code",
   "execution_count": 41,
   "metadata": {
    "collapsed": true
   },
   "outputs": [],
   "source": [
    "#устанавливаем диапозон параметров для скользящего контроля\n",
    "params = {'criterion': ['gini', 'entropy'], \n",
    "         'max_features': [1, 5, 10, 'log2', 'auto'],\n",
    "         'max_depth': [2, 4, 8, 16, 32], \n",
    "         'random_state' : [RND_STATE]}\n",
    "\n",
    "dt = DecisionTreeClassifier(random_state = RND_STATE, class_weight ='balanced')\n",
    "\n",
    "#создаем объект класса GridSearchCV()\n",
    "dt_cv = GridSearchCV(dt, param_grid=params, scoring = 'roc_auc', verbose = 1)\n",
    "#обучаемся на обучающей выборке\n",
    "dt_cv.fit(X_train, y_train)\n",
    "#делаем предсказание меток класса на тестовой\n",
    "dt_cv_predict = dt_cv.predict(X_test)\n",
    "#делаем предсказание вероятности класса на тестовой\n",
    "dt_cv_predict_proba = dt_cv.predict_proba(X_test)[:, 1]\n",
    "#вычисляем значение метрики \n",
    "roc_auc_dt = roc_auc_score(y_test, dt_cv_predict_proba)"
   ]
  },
  {
   "cell_type": "code",
   "execution_count": 42,
   "metadata": {
    "collapsed": false
   },
   "outputs": [
    {
     "name": "stdout",
     "output_type": "stream",
     "text": [
      "ROC AUC score: 0.83413447118 CV best score: 0.966347475232\n"
     ]
    }
   ],
   "source": [
    "print(\"ROC AUC score:\", roc_auc_dt,\n",
    "      \"CV best score:\", dt_cv.best_score_)"
   ]
  },
  {
   "cell_type": "code",
   "execution_count": 43,
   "metadata": {
    "collapsed": false
   },
   "outputs": [
    {
     "name": "stdout",
     "output_type": "stream",
     "text": [
      "False positive rate:\n",
      "[  0.00000000e+00   4.76235832e-05   1.42870750e-04   1.04771883e-03\n",
      "   1.88113154e-03   1.90494333e-03   7.57214973e-03   8.61986856e-03\n",
      "   1.05248119e-02   1.06914944e-02   1.07629298e-02   1.12153538e-02\n",
      "   1.13344128e-02   1.26678731e-02   1.30250500e-02   1.40727688e-02\n",
      "   1.43585103e-02   1.50490523e-02   1.61682065e-02   1.78350319e-02\n",
      "   2.03590818e-02   2.10734356e-02   2.53595581e-02   2.60262882e-02\n",
      "   2.90265740e-02   3.26697781e-02   3.90513382e-02   3.95990094e-02\n",
      "   4.00038099e-02   4.11229641e-02   4.18373178e-02   4.58615106e-02\n",
      "   7.36974950e-02   8.13648919e-02   8.40794361e-02   8.74130870e-02\n",
      "   8.97704543e-02   1.24964282e-01   1.31060101e-01   1.31226784e-01\n",
      "   1.31845890e-01   2.08210306e-01   2.09424707e-01   2.11186780e-01\n",
      "   2.40856272e-01   2.63286980e-01   2.66573007e-01   2.67501667e-01\n",
      "   2.69192304e-01   2.75073817e-01   2.84812839e-01   3.26435851e-01\n",
      "   3.52366892e-01   3.72487856e-01   3.95132870e-01   4.34446138e-01\n",
      "   4.53186018e-01   4.53281265e-01   4.54067054e-01   4.61186780e-01\n",
      "   4.89403753e-01   4.90570531e-01   5.01333460e-01   5.20454329e-01\n",
      "   5.23026002e-01   5.61315363e-01   5.86889228e-01   6.01342985e-01\n",
      "   6.31274407e-01   6.40822936e-01   6.78255072e-01   7.41403943e-01\n",
      "   8.79726641e-01   1.00000000e+00]\n",
      "\n",
      "True positive rate:\n",
      "[  0.00000000e+00   0.00000000e+00   6.65778961e-04   1.46471372e-02\n",
      "   3.89480692e-02   3.89480692e-02   1.18175766e-01   1.42143808e-01\n",
      "   1.67776298e-01   1.68774967e-01   1.70106525e-01   1.81757656e-01\n",
      "   1.83422104e-01   1.93741678e-01   1.96737683e-01   2.05392810e-01\n",
      "   2.06058589e-01   2.19374168e-01   2.39014647e-01   2.53661784e-01\n",
      "   2.76631158e-01   2.85619174e-01   3.11584554e-01   3.13914780e-01\n",
      "   3.32223702e-01   3.54194407e-01   3.84154461e-01   3.91478029e-01\n",
      "   3.92143808e-01   3.95472703e-01   4.01131824e-01   4.32090546e-01\n",
      "   5.01997337e-01   5.38615180e-01   5.51264980e-01   5.70905459e-01\n",
      "   5.76897470e-01   6.13182423e-01   6.25499334e-01   6.26830892e-01\n",
      "   6.30492676e-01   6.96404794e-01   6.98069241e-01   7.01731025e-01\n",
      "   7.24700399e-01   7.52330226e-01   7.59653795e-01   7.60985353e-01\n",
      "   7.63315579e-01   7.71970706e-01   7.90612517e-01   8.29227696e-01\n",
      "   8.42876165e-01   8.59853529e-01   8.71171771e-01   8.80825566e-01\n",
      "   8.89147803e-01   8.89480692e-01   8.91145140e-01   8.94806924e-01\n",
      "   9.01797603e-01   9.04793609e-01   9.13781625e-01   9.21438083e-01\n",
      "   9.23102530e-01   9.30426099e-01   9.35086551e-01   9.42410120e-01\n",
      "   9.48735020e-01   9.50399467e-01   9.58388815e-01   9.70039947e-01\n",
      "   9.86018642e-01   1.00000000e+00]\n",
      "\n",
      "Thresholds:\n",
      "[ 2.          1.          0.91666667  0.90401146  0.86887255  0.86666667\n",
      "  0.8512119   0.81882022  0.81382228  0.71794872  0.68181818  0.68        0.65625\n",
      "  0.65045593  0.61363636  0.60080645  0.58333333  0.57534247  0.57377049\n",
      "  0.5665529   0.5490566   0.54601227  0.49102564  0.45070423  0.4198783\n",
      "  0.40635452  0.37819905  0.36363636  0.3625      0.35238095  0.34558824\n",
      "  0.34550989  0.33405276  0.32269827  0.30769231  0.30508475  0.2952381\n",
      "  0.28953722  0.28453039  0.24242424  0.2195122   0.20219686  0.19444444\n",
      "  0.18777293  0.1748056   0.17162808  0.17060367  0.15294118  0.14545455\n",
      "  0.14524422  0.14323374  0.14269275  0.12700628  0.12081129  0.10936271\n",
      "  0.10795057  0.08889957  0.07692308  0.06976744  0.06963788  0.05777778\n",
      "  0.05714286  0.05617021  0.0545      0.05045872  0.04907482  0.04222138\n",
      "  0.03475936  0.03243959  0.02302632  0.01819127  0.0178828   0.01343529\n",
      "  0.00774806]\n",
      "ROC AUC score: 0.83413447118\n"
     ]
    }
   ],
   "source": [
    "fpr, tpr, thresholds = roc_curve(y_test, dt_cv_predict_proba)\n",
    "print(\"ROC AUC score:\", auc(fpr, tpr))"
   ]
  },
  {
   "cell_type": "code",
   "execution_count": 46,
   "metadata": {
    "collapsed": false
   },
   "outputs": [
    {
     "data": {
      "image/png": "[encoded data removed]",
      "text/plain": [
       "<matplotlib.figure.Figure at 0x11b52ffd0>"
      ]
     },
     "metadata": {},
     "output_type": "display_data"
    },
    {
     "data": {
      "text/plain": [
       "<ggplot: (-9223372036581779687)>"
      ]
     },
     "execution_count": 46,
     "metadata": {},
     "output_type": "execute_result"
    }
   ],
   "source": [
    "df = pd.DataFrame(dict(fpr = fpr, tpr = tpr))\n",
    "ggplot(df, aes(x = 'fpr', y ='tpr')) +\\\n",
    "    geom_line(color='magenta', size = 2, alpha = 0.5) +\\\n",
    "    geom_abline(linetype = 'dashed') +\\\n",
    "    xlab(\"false positive rate ($fpr$)\") + ylab(\"true positive rate ($tpr$)\") + ggtitle(\"ROC curve\")"
   ]
  },
  {
   "cell_type": "code",
   "execution_count": null,
   "metadata": {
    "collapsed": true
   },
   "outputs": [],
   "source": [
    "importances_dt = dt_cv.best_estimator_.feature_importances_ #получение весов признаков\n",
    "print(str(\"Топ - 5 важнейших признаков:\") + '\\n')\n",
    "dt_zip = zip(X.columns, importances_dt) \n",
    "for a, b, in sorted(dt_zip, key = lambda zp_dt: zp_dt[1], reverse = True)[:5]:\n",
    "    print(\"{0}: {1}\".format(a, b))"
   ]
  },
  {
   "cell_type": "markdown",
   "metadata": {},
   "source": [
    "#### 3.1.6 KNeighborsClassifier"
   ]
  },
  {
   "cell_type": "code",
   "execution_count": 53,
   "metadata": {
    "collapsed": true
   },
   "outputs": [],
   "source": [
    "#устанавливаем диапозон параметров для скользящего контроля\n",
    "knn_params = {'n_neighbors': np.arange(1, 31, 2),\n",
    "              'metric': ['euclidean', 'cityblock']}\n",
    "\n",
    "knn = KNeighborsClassifier()\n",
    "\n",
    "#создаем объект класса GridSearchCV()\n",
    "knn_cv = GridSearchCV(knn, param_grid=knn_params, scoring = 'roc_auc', verbose = 1)\n",
    "#обучаемся на обучающей выборке\n",
    "knn_cv.fit(X_train, y_train)\n",
    "#делаем предсказание меток класса на тестовой\n",
    "knn_cv_predict = knn_cv.predict(X_test)\n",
    "#делаем предсказание вероятности класса на тестовой\n",
    "knn_cv_predict_proba = knn_cv.predict_proba(X_test)[:, 1]\n",
    "#вычисляем значение метрики \n",
    "roc_auc_knn = roc_auc_score(y_test, knn_cv_predict_proba)"
   ]
  },
  {
   "cell_type": "code",
   "execution_count": 54,
   "metadata": {
    "collapsed": false
   },
   "outputs": [
    {
     "name": "stdout",
     "output_type": "stream",
     "text": [
      "ROC AUC score: 0.609480240747 CV best score: 0.947877483452\n"
     ]
    }
   ],
   "source": [
    "print(\"ROC AUC score:\", roc_auc_knn,\n",
    "      \"CV best score:\", knn_cv.best_score_)"
   ]
  },
  {
   "cell_type": "code",
   "execution_count": 55,
   "metadata": {
    "collapsed": false
   },
   "outputs": [
    {
     "name": "stdout",
     "output_type": "stream",
     "text": [
      "False positive rate:\n",
      "[ 0.          0.03609868  0.0946995   0.16977807  0.26057244  0.37796457\n",
      "  1.        ]\n",
      "\n",
      "True positive rate:\n",
      "[ 0.          0.09287617  0.1960719   0.30958722  0.4270972   0.57023968\n",
      "  1.        ]\n",
      "\n",
      "Thresholds:\n",
      "[ 2.   1.   0.8  0.6  0.4  0.2  0. ]\n",
      "ROC AUC score: 0.609480240747\n"
     ]
    }
   ],
   "source": [
    "fpr, tpr, thresholds = roc_curve(y_test, knn_cv_predict_proba)\n",
    "print(\"ROC AUC score:\", auc(fpr, tpr))"
   ]
  },
  {
   "cell_type": "code",
   "execution_count": 56,
   "metadata": {
    "collapsed": false
   },
   "outputs": [
    {
     "data": {
      "image/png": "[encoded data removed]",
      "text/plain": [
       "<matplotlib.figure.Figure at 0x11ed344a8>"
      ]
     },
     "metadata": {},
     "output_type": "display_data"
    },
    {
     "data": {
      "text/plain": [
       "<ggplot: (-9223372036552671989)>"
      ]
     },
     "execution_count": 56,
     "metadata": {},
     "output_type": "execute_result"
    }
   ],
   "source": [
    "df = pd.DataFrame(dict(fpr = fpr, tpr = tpr))\n",
    "ggplot(df, aes(x = 'fpr', y ='tpr')) +\\\n",
    "    geom_line(color='orange', size = 2, alpha = 0.5) +\\\n",
    "    geom_abline(linetype = 'dashed') +\\\n",
    "    xlab(\"false positive rate ($fpr$)\") + ylab(\"true positive rate ($tpr$)\") + ggtitle(\"ROC curve\")"
   ]
  },
  {
   "cell_type": "code",
   "execution_count": null,
   "metadata": {
    "collapsed": true
   },
   "outputs": [],
   "source": [
    "importances_knn = knn_cv.best_estimator_.feature_importances_ #получение весов признаков\n",
    "print(str(\"Топ - 5 важнейших признаков:\") + '\\n')\n",
    "knn_zip = zip(X.columns, importances_knn) \n",
    "for a, b, in sorted(knn_zip, key = lambda zp_knn: zp_knn[1], reverse = True)[:5]:\n",
    "    print(\"{0}: {1}\".format(a, b))"
   ]
  },
  {
   "cell_type": "markdown",
   "metadata": {
    "collapsed": true
   },
   "source": [
    "#### 3.1.7 SVC"
   ]
  },
  {
   "cell_type": "code",
   "execution_count": null,
   "metadata": {
    "collapsed": true
   },
   "outputs": [],
   "source": [
    "#создаем объект класса SVC()\n",
    "folds = StratifiedKFold(n_splits = 10, random_state = RND_STATE, shuffle = False)\n",
    "svc = SVC(random_state = RND_STATE, cache_size=2048, class_weight='balanced')\n",
    "#устанавливаем диапозон параметров для скользящего контроля\n",
    "svc_params = {'kernel': ['linear', 'poly', 'rbf'], \n",
    "             'decision_function_shape': ['ovo', 'ovr']}\n",
    "#создаем объект класса GridSearchCV()\n",
    "svc_cv = GridSearchCV(svc, param_grid = svc_params, scoring = 'roc_auc', cv = folds, n_jobs = -1, verbose = 1)\n",
    "#обучаемся на обучающей выборке\n",
    "svc_cv.fit(X_train, y_train)\n",
    "#делаем предсказание меток класса на тестовой\n",
    "svc_cv_predict = svc_cv.predict(X_test)\n",
    "#делаем предсказание вероятности класса на тестовой\n",
    "svc_cv_predict_proba = svc_cv.predict_proba(X_test)[:, 1]\n",
    "#вычисляем значение метрики \n",
    "roc_auc_svc = roc_auc_score(y_test, svc_cv_predict_proba)"
   ]
  },
  {
   "cell_type": "code",
   "execution_count": null,
   "metadata": {
    "collapsed": true
   },
   "outputs": [],
   "source": [
    "print(\"ROC AUC score:\", roc_auc_svc,\n",
    "      \"CV best score:\", svc_cv.best_score_)"
   ]
  },
  {
   "cell_type": "code",
   "execution_count": null,
   "metadata": {
    "collapsed": true
   },
   "outputs": [],
   "source": [
    "fpr, tpr, thresholds = roc_curve(y_test, svc_cv_predict_proba)\n",
    "print(\"ROC AUC score:\", auc(fpr, tpr))"
   ]
  },
  {
   "cell_type": "code",
   "execution_count": null,
   "metadata": {
    "collapsed": true
   },
   "outputs": [],
   "source": [
    "df = pd.DataFrame(dict(fpr = fpr, tpr = tpr))\n",
    "ggplot(df, aes(x = 'fpr', y ='tpr')) +\\\n",
    "    geom_line(color='grey', size = 2, alpha = 0.5) +\\\n",
    "    geom_abline(linetype = 'dashed') +\\\n",
    "    xlab(\"false positive rate ($fpr$)\") + ylab(\"true positive rate ($tpr$)\") + ggtitle(\"ROC curve\")"
   ]
  },
  {
   "cell_type": "code",
   "execution_count": null,
   "metadata": {
    "collapsed": true
   },
   "outputs": [],
   "source": [
    "importances_svc = svc_cv.best_estimator_.feature_importances_ #получение весов признаков\n",
    "print(str(\"Топ - 5 важнейших признаков:\") + '\\n')\n",
    "svc_zip = zip(X.columns, importances_svc) \n",
    "for a, b, in sorted(svc_zip, key = lambda zp_svc: zp_svc[1], reverse = True)[:5]:\n",
    "    print(\"{0}: {1}\".format(a, b))"
   ]
  },
  {
   "cell_type": "markdown",
   "metadata": {},
   "source": [
    "#### 3.1.8 XGBoost"
   ]
  },
  {
   "cell_type": "code",
   "execution_count": null,
   "metadata": {
    "collapsed": true
   },
   "outputs": [],
   "source": [
    "#создаем объект класса XGBClassifier() с определенным набором параметров\n",
    "xgb = xgboost.XGBClassifier(learning_rate = 0.1, n_estimators = 150, \n",
    "                            max_delta_step = 1.5, min_child_weight = 1, \n",
    "                            gamma = 0, colsample_bytree = 0.5, subsample = 0.78,\n",
    "                            objective= 'binary:logistic', scale_pos_weight = 1, seed = RANDOM)\n",
    "#устанавливаем диапозон параметров для скользящего контроля\n",
    "xgb_params = {'max_depth': [3, 4, 5, 6, 8], \n",
    "              'colsample_bytree': [0.5, 0.8]}\n",
    "#создаем объект класса GridSearchCV()\n",
    "xgb_cv = GridSearchCV(xgb, param_grid = xgb_params, scoring = 'roc_auc', cv = folds)\n",
    "#обучаемся на обучающей выборке\n",
    "xgb_cv.fit(X_train, y_train)\n",
    "#делаем предсказание меток класса на тестовой\n",
    "xgb_cv_predict = xgb_cv.predict(X_test)\n",
    "#делаем предсказание вероятности класса на тестовой\n",
    "xgb_cv_predict_proba = xgb_cv.predict_proba(X_test)[:, 1]\n",
    "#вычисляем значение метрики \n",
    "roc_auc_xgb = roc_auc_score(y_test, xgb_cv_predict_proba)"
   ]
  },
  {
   "cell_type": "code",
   "execution_count": null,
   "metadata": {
    "collapsed": true
   },
   "outputs": [],
   "source": [
    "print(\"ROC AUC score:\", roc_auc_xgb,\n",
    "      \"CV best score:\", xgb_cv.best_score_)"
   ]
  },
  {
   "cell_type": "code",
   "execution_count": null,
   "metadata": {
    "collapsed": true
   },
   "outputs": [],
   "source": [
    "fpr, tpr, thresholds = roc_curve(y_test, xgb_cv_predict_proba)\n",
    "print(\"ROC AUC score:\", auc(fpr, tpr))"
   ]
  },
  {
   "cell_type": "code",
   "execution_count": null,
   "metadata": {
    "collapsed": true
   },
   "outputs": [],
   "source": [
    "df = pd.DataFrame(dict(fpr = fpr, tpr = tpr))\n",
    "ggplot(df, aes(x = 'fpr', y ='tpr')) +\\\n",
    "    geom_line(color='magenta', size = 2, alpha = 0.5) +\\\n",
    "    geom_abline(linetype = 'dashed') +\\\n",
    "    xlab(\"false positive rate ($fpr$)\") + ylab(\"true positive rate ($tpr$)\") + ggtitle(\"ROC curve\")"
   ]
  },
  {
   "cell_type": "code",
   "execution_count": null,
   "metadata": {
    "collapsed": true
   },
   "outputs": [],
   "source": [
    "importances_mlp = xgb_cv.best_estimator_.feature_importances_ #получение весов признаков\n",
    "print(str(\"Топ - 5 важнейших признаков:\") + '\\n')\n",
    "xgb_zip = zip(X.columns, importances_xgb) \n",
    "for a, b, in sorted(xgb_zip, key = lambda zp_xgb: zp_xgb[1], reverse = True)[:5]:\n",
    "    print(\"{0}: {1}\".format(a, b))"
   ]
  },
  {
   "cell_type": "markdown",
   "metadata": {},
   "source": [
    "#### 3.1.9 MLP"
   ]
  },
  {
   "cell_type": "code",
   "execution_count": 50,
   "metadata": {
    "collapsed": false,
    "scrolled": true
   },
   "outputs": [
    {
     "name": "stderr",
     "output_type": "stream",
     "text": [
      "ERROR:root:Internal Python error in the inspect module.\n",
      "Below is the traceback from this internal error.\n",
      "\n"
     ]
    },
    {
     "name": "stdout",
     "output_type": "stream",
     "text": [
      "Traceback (most recent call last):\n",
      "  File \"/Users/aliyetefikova/anaconda/lib/python3.5/site-packages/IPython/core/interactiveshell.py\", line 2881, in run_code\n",
      "    exec(code_obj, self.user_global_ns, self.user_ns)\n",
      "  File \"<ipython-input-50-5e1abecae8a7>\", line 13, in <module>\n",
      "    mlp_cv.fit(X_train, y_train)\n",
      "  File \"/Users/aliyetefikova/anaconda/lib/python3.5/site-packages/sklearn/model_selection/_search.py\", line 940, in fit\n",
      "    return self._fit(X, y, groups, ParameterGrid(self.param_grid))\n",
      "  File \"/Users/aliyetefikova/anaconda/lib/python3.5/site-packages/sklearn/model_selection/_search.py\", line 562, in _fit\n",
      "    for parameters in parameter_iterable\n",
      "  File \"/Users/aliyetefikova/anaconda/lib/python3.5/site-packages/sklearn/externals/joblib/parallel.py\", line 758, in __call__\n",
      "    while self.dispatch_one_batch(iterator):\n",
      "  File \"/Users/aliyetefikova/anaconda/lib/python3.5/site-packages/sklearn/externals/joblib/parallel.py\", line 608, in dispatch_one_batch\n",
      "    self._dispatch(tasks)\n",
      "  File \"/Users/aliyetefikova/anaconda/lib/python3.5/site-packages/sklearn/externals/joblib/parallel.py\", line 571, in _dispatch\n",
      "    job = self._backend.apply_async(batch, callback=cb)\n",
      "  File \"/Users/aliyetefikova/anaconda/lib/python3.5/site-packages/sklearn/externals/joblib/_parallel_backends.py\", line 109, in apply_async\n",
      "    result = ImmediateResult(func)\n",
      "  File \"/Users/aliyetefikova/anaconda/lib/python3.5/site-packages/sklearn/externals/joblib/_parallel_backends.py\", line 322, in __init__\n",
      "    self.results = batch()\n",
      "  File \"/Users/aliyetefikova/anaconda/lib/python3.5/site-packages/sklearn/externals/joblib/parallel.py\", line 131, in __call__\n",
      "    return [func(*args, **kwargs) for func, args, kwargs in self.items]\n",
      "  File \"/Users/aliyetefikova/anaconda/lib/python3.5/site-packages/sklearn/externals/joblib/parallel.py\", line 131, in <listcomp>\n",
      "    return [func(*args, **kwargs) for func, args, kwargs in self.items]\n",
      "  File \"/Users/aliyetefikova/anaconda/lib/python3.5/site-packages/sklearn/model_selection/_validation.py\", line 238, in _fit_and_score\n",
      "    estimator.fit(X_train, y_train, **fit_params)\n",
      "  File \"/Users/aliyetefikova/anaconda/lib/python3.5/site-packages/sklearn/neural_network/multilayer_perceptron.py\", line 618, in fit\n",
      "    return self._fit(X, y, incremental=False)\n",
      "  File \"/Users/aliyetefikova/anaconda/lib/python3.5/site-packages/sklearn/neural_network/multilayer_perceptron.py\", line 330, in _fit\n",
      "    X, y = self._validate_input(X, y, incremental)\n",
      "  File \"/Users/aliyetefikova/anaconda/lib/python3.5/site-packages/sklearn/neural_network/multilayer_perceptron.py\", line 908, in _validate_input\n",
      "    self._label_binarizer.fit(y)\n",
      "  File \"/Users/aliyetefikova/anaconda/lib/python3.5/site-packages/sklearn/preprocessing/label.py\", line 298, in fit\n",
      "    self.classes_ = unique_labels(y)\n",
      "  File \"/Users/aliyetefikova/anaconda/lib/python3.5/site-packages/sklearn/utils/multiclass.py\", line 79, in unique_labels\n",
      "    ys_types = set(type_of_target(x) for x in ys)\n",
      "  File \"/Users/aliyetefikova/anaconda/lib/python3.5/site-packages/sklearn/utils/multiclass.py\", line 79, in <genexpr>\n",
      "    ys_types = set(type_of_target(x) for x in ys)\n",
      "  File \"/Users/aliyetefikova/anaconda/lib/python3.5/site-packages/sklearn/utils/multiclass.py\", line 275, in type_of_target\n",
      "    if (len(np.unique(y)) > 2) or (y.ndim >= 2 and len(y[0]) > 1):\n",
      "  File \"/Users/aliyetefikova/anaconda/lib/python3.5/site-packages/numpy/lib/arraysetops.py\", line 214, in unique\n",
      "    ar.sort()\n",
      "KeyboardInterrupt\n",
      "\n",
      "During handling of the above exception, another exception occurred:\n",
      "\n",
      "Traceback (most recent call last):\n",
      "  File \"/Users/aliyetefikova/anaconda/lib/python3.5/site-packages/IPython/core/interactiveshell.py\", line 1821, in showtraceback\n",
      "    stb = value._render_traceback_()\n",
      "AttributeError: 'KeyboardInterrupt' object has no attribute '_render_traceback_'\n",
      "\n",
      "During handling of the above exception, another exception occurred:\n",
      "\n",
      "Traceback (most recent call last):\n",
      "  File \"/Users/aliyetefikova/anaconda/lib/python3.5/site-packages/IPython/core/ultratb.py\", line 1132, in get_records\n",
      "    return _fixed_getinnerframes(etb, number_of_lines_of_context, tb_offset)\n",
      "  File \"/Users/aliyetefikova/anaconda/lib/python3.5/site-packages/IPython/core/ultratb.py\", line 313, in wrapped\n",
      "    return f(*args, **kwargs)\n",
      "  File \"/Users/aliyetefikova/anaconda/lib/python3.5/site-packages/IPython/core/ultratb.py\", line 358, in _fixed_getinnerframes\n",
      "    records = fix_frame_records_filenames(inspect.getinnerframes(etb, context))\n",
      "  File \"/Users/aliyetefikova/anaconda/lib/python3.5/inspect.py\", line 1453, in getinnerframes\n",
      "    frameinfo = (tb.tb_frame,) + getframeinfo(tb, context)\n",
      "  File \"/Users/aliyetefikova/anaconda/lib/python3.5/inspect.py\", line 1410, in getframeinfo\n",
      "    filename = getsourcefile(frame) or getfile(frame)\n",
      "  File \"/Users/aliyetefikova/anaconda/lib/python3.5/inspect.py\", line 672, in getsourcefile\n",
      "    if getattr(getmodule(object, filename), '__loader__', None) is not None:\n",
      "  File \"/Users/aliyetefikova/anaconda/lib/python3.5/inspect.py\", line 701, in getmodule\n",
      "    file = getabsfile(object, _filename)\n",
      "  File \"/Users/aliyetefikova/anaconda/lib/python3.5/inspect.py\", line 685, in getabsfile\n",
      "    return os.path.normcase(os.path.abspath(_filename))\n",
      "  File \"/Users/aliyetefikova/anaconda/lib/python3.5/posixpath.py\", line 361, in abspath\n",
      "    cwd = os.getcwd()\n",
      "FileNotFoundError: [Errno 2] No such file or directory\n"
     ]
    },
    {
     "ename": "KeyboardInterrupt",
     "evalue": "",
     "output_type": "error",
     "traceback": [
      "\u001b[0;31m---------------------------------------------------------------------------\u001b[0m"
     ]
    }
   ],
   "source": [
    "from sklearn.neural_network import MLPClassifier\n",
    "#создание объекта класса RandomForestClassifier, устанавливая балансировку классов\n",
    "mlp = MLPClassifier() \n",
    "#установление набора параметров\n",
    "mlp_params = {'activation' : ['identity', 'logistic', 'tanh', 'relu'],\n",
    "              'solver': {'lbfgs'', 'sgd', 'adam'},\n",
    "              'hidden_layer_sizes': np.arange(1, 4)}\n",
    "    \n",
    "#создание объекта класса GridSearchCV\n",
    "mlp_cv = GridSearchCV(mlp, mlp_params, scoring = 'accuracy')\n",
    "#обучение \n",
    "mlp_cv.fit(X_train, y_train)\n",
    "#обучаемся на обучающей выборке\n",
    "mlp_cv.fit(X_train, y_train)\n",
    "#делаем предсказание меток класса на тестовой\n",
    "mlp_cv_predict = mlp_cv.predict(X_test)\n",
    "#делаем предсказание вероятности класса на тестовой\n",
    "mlp_cv_predict_proba = mlp_cv.predict_proba(X_test)[:, 1]\n",
    "#вычисляем значение метрики \n",
    "roc_auc_mlp = roc_auc_score(y_test, mlp_cv_predict_proba)"
   ]
  },
  {
   "cell_type": "code",
   "execution_count": null,
   "metadata": {
    "collapsed": true
   },
   "outputs": [],
   "source": [
    "print(\"ROC AUC score:\", roc_auc_mlp,\n",
    "      \"CV best score:\", mlp_cv.best_score_)"
   ]
  },
  {
   "cell_type": "code",
   "execution_count": null,
   "metadata": {
    "collapsed": true
   },
   "outputs": [],
   "source": [
    "fpr, tpr, thresholds = roc_curve(y_test, mlp_cv_predict_proba)\n",
    "print(\"ROC AUC score:\", auc(fpr, tpr))"
   ]
  },
  {
   "cell_type": "code",
   "execution_count": null,
   "metadata": {
    "collapsed": true
   },
   "outputs": [],
   "source": [
    "df = pd.DataFrame(dict(fpr = fpr, tpr = tpr))\n",
    "ggplot(df, aes(x = 'fpr', y ='tpr')) +\\\n",
    "    geom_line(color='black', size = 2, alpha = 0.5) +\\\n",
    "    geom_abline(linetype = 'dashed') +\\\n",
    "    xlab(\"false positive rate ($fpr$)\") + ylab(\"true positive rate ($tpr$)\") + ggtitle(\"ROC curve\")"
   ]
  },
  {
   "cell_type": "code",
   "execution_count": null,
   "metadata": {
    "collapsed": true
   },
   "outputs": [],
   "source": [
    "importances_mlp = mlp_cv.best_estimator_.feature_importances_ #получение весов признаков\n",
    "print(str(\"Топ - 5 важнейших признаков:\") + '\\n')\n",
    "mlp_zip = zip(X.columns, importances_mlp) \n",
    "for a, b, in sorted(mlp_zip, key = lambda zp_mlp: zp_mlp[1], reverse = True)[:5]:\n",
    "    print(\"{0}: {1}\".format(a, b))"
   ]
  },
  {
   "cell_type": "markdown",
   "metadata": {},
   "source": [
    "#### 3.10 Voting clf"
   ]
  },
  {
   "cell_type": "code",
   "execution_count": null,
   "metadata": {
    "collapsed": true
   },
   "outputs": [],
   "source": [
    "from sklearn.linear_model import LogisticRegression\n",
    "from sklearn.ensemble import RandomForestClassifier, VotingClassifier\n",
    "\n",
    "#clf1 = LogisticRegression(random_state = 1)\n",
    "clf1 = gb_cv.best_estimator_\n",
    "clf2 = rf_cv.best_estimator_\n",
    "clf3 = knn_cv.best_estimator_\n",
    "\n",
    "voting = VotingClassifier(estimators=[('gb', clf1), ('rf', clf2), ('knn', clf3)])\n",
    "\n",
    "v_params = {'voting': ['soft']}\n",
    "\n",
    "voting_cv = GridSearchCV(voting, param_grid = v_params, scoring = 'roc_auc', cv = folds)\n",
    "\n",
    "voting_cv.fit(X_train, y_train)\n",
    "\n",
    "voting_cv_predict = voting_cv.predict(X_test)\n",
    "\n",
    "#делаем предсказание вероятности класса на тестовой\n",
    "voting_cv_predict_proba = mlp_cv.predict_proba(X_test)[:, 1]\n",
    "#вычисляем значение метрики \n",
    "roc_auc_voting = roc_auc_score(y_test, voting_cv_predict_proba)"
   ]
  },
  {
   "cell_type": "code",
   "execution_count": null,
   "metadata": {
    "collapsed": true
   },
   "outputs": [],
   "source": [
    "print(\"ROC AUC score:\", roc_auc_voting,\n",
    "      \"CV best score:\", voting_cv.best_score_)"
   ]
  },
  {
   "cell_type": "code",
   "execution_count": null,
   "metadata": {
    "collapsed": true
   },
   "outputs": [],
   "source": [
    "fpr, tpr, thresholds = roc_curve(y_test, voting_cv_predict_proba)\n",
    "print(\"ROC AUC score:\", auc(fpr, tpr))"
   ]
  },
  {
   "cell_type": "code",
   "execution_count": null,
   "metadata": {
    "collapsed": true
   },
   "outputs": [],
   "source": [
    "df = pd.DataFrame(dict(fpr = fpr, tpr = tpr))\n",
    "ggplot(df, aes(x = 'fpr', y ='tpr')) +\\\n",
    "    geom_line(color='blue', size = 2, alpha = 0.5) +\\\n",
    "    geom_abline(linetype = 'dashed') +\\\n",
    "    xlab(\"false positive rate ($fpr$)\") + ylab(\"true positive rate ($tpr$)\") + ggtitle(\"ROC curve\")"
   ]
  },
  {
   "cell_type": "code",
   "execution_count": null,
   "metadata": {
    "collapsed": true
   },
   "outputs": [],
   "source": [
    "importances_voting = voting_cv.best_estimator_.feature_importances_ #получение весов признаков\n",
    "print(str(\"Топ - 5 важнейших признаков:\") + '\\n')\n",
    "voting_zip = zip(X.columns, importances_voting) \n",
    "for a, b, in sorted(voting_zip, key = lambda zp_voting: zp_voting[1], reverse = True)[:5]:\n",
    "    print(\"{0}: {1}\".format(a, b))"
   ]
  },
  {
   "cell_type": "markdown",
   "metadata": {},
   "source": [
    "### results"
   ]
  },
  {
   "cell_type": "markdown",
   "metadata": {
    "collapsed": true
   },
   "source": [
    "1. ROC AUC score: 0.853971358188 gb\n",
    "2. ROC AUC score: 0.800069249985 rf\n",
    "3. ROC AUC score: 0.83413447118 dt\n",
    "4. ROC AUC score: 0.687102056134 ada\n",
    "5. ROC AUC score: 0.79943139677 lr\n",
    "6. ROC AUC score: 0.609480240747 knn\n",
    "7.\n",
    "8.\n",
    "9.\n",
    "10."
   ]
  }
 ],
 "metadata": {
  "kernelspec": {
   "display_name": "Python 3",
   "language": "python",
   "name": "python3"
  },
  "language_info": {
   "codemirror_mode": {
    "name": "ipython",
    "version": 3
   },
   "file_extension": ".py",
   "mimetype": "text/x-python",
   "name": "python",
   "nbconvert_exporter": "python",
   "pygments_lexer": "ipython3",
   "version": "3.5.1"
  }
 },
 "nbformat": 4,
 "nbformat_minor": 2
}
