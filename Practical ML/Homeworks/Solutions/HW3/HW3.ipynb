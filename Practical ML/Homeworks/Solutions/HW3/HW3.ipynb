{
 "cells": [
  {
   "cell_type": "code",
   "execution_count": 1,
   "metadata": {
    "collapsed": false
   },
   "outputs": [],
   "source": [
    "import pandas as pd\n",
    "import numpy as np\n",
    "from nltk.util import ngrams\n",
    "from sklearn.model_selection import train_test_split\n",
    "from sklearn.feature_extraction.text import CountVectorizer\n",
    "from sklearn.model_selection import GridSearchCV\n",
    "from sklearn.naive_bayes import GaussianNB\n",
    "from sklearn.metrics import accuracy_score\n",
    "from sklearn.metrics import f1_score\n",
    "np.random.seed(1322)\n",
    "from keras.models import Sequential\n",
    "from keras.layers.core import Dense, Activation, Dropout\n",
    "from keras.layers.recurrent import LSTM"
   ]
  },
  {
   "cell_type": "markdown",
   "metadata": {},
   "source": [
    "# HW3:  Классификация имен\n",
    "В этом домашнем задании мы рассмотрим задачу бинарной классификации. Пусть дано два списка имен:  мужские и женские имена.  Требуется разработать классификатор, который по данному имени будет определять мужское оно или женское.\n",
    "### Выполнили:  \n",
    "\n",
    "* Булгаков Дмитрий\n",
    "\n",
    "* Тефикова Алие\n",
    "\n",
    "### Группа ИАД-2"
   ]
  },
  {
   "cell_type": "markdown",
   "metadata": {},
   "source": [
    "## 0. Loading data"
   ]
  },
  {
   "cell_type": "code",
   "execution_count": 2,
   "metadata": {
    "collapsed": false
   },
   "outputs": [],
   "source": [
    "male_names = pd.read_csv('data/male.txt', header=-1, names=['name'], encoding = 'latin1')\n",
    "female_names = pd.read_csv('data/female.txt', header=-1, names=['name'], encoding = 'latin1')"
   ]
  },
  {
   "cell_type": "code",
   "execution_count": 3,
   "metadata": {
    "collapsed": false
   },
   "outputs": [
    {
     "name": "stdout",
     "output_type": "stream",
     "text": [
      "Количество мужских имен:  2943\n",
      "Количество женских имен:  5001\n"
     ]
    }
   ],
   "source": [
    "male_names_number = len(male_names)\n",
    "female_names_number = len(female_names)\n",
    "print('Количество мужских имен: ', male_names_number)\n",
    "print('Количество женских имен: ', female_names_number)"
   ]
  },
  {
   "cell_type": "markdown",
   "metadata": {
    "collapsed": true
   },
   "source": [
    "## 1. Filtering data"
   ]
  },
  {
   "cell_type": "markdown",
   "metadata": {},
   "source": [
    "Предварительная обработка данных:<br>\n",
    "* удалите неоднозначные имена (те имена, которые являются и мужскими, и женскими одновременно), если такие есть.<br>\n",
    "* создайте тестовое множество по следующему принципу: 20% от общего количества имен на каждую букву (т.е. 20% от имен на букву А, 20% имен на букву B, и.т.д.)"
   ]
  },
  {
   "cell_type": "markdown",
   "metadata": {},
   "source": [
    "### 1.1 Looking for same names in both male and female df"
   ]
  },
  {
   "cell_type": "code",
   "execution_count": 4,
   "metadata": {
    "collapsed": false
   },
   "outputs": [
    {
     "name": "stdout",
     "output_type": "stream",
     "text": [
      "Количество совпадающих имен:  365\n",
      "Список имен, являющихся одновременно и мужскими, и женскими: (первые 10)\n"
     ]
    },
    {
     "data": {
      "text/html": [
       "<div>\n",
       "<table border=\"1\" class=\"dataframe\">\n",
       "  <thead>\n",
       "    <tr style=\"text-align: right;\">\n",
       "      <th></th>\n",
       "      <th>name</th>\n",
       "    </tr>\n",
       "  </thead>\n",
       "  <tbody>\n",
       "    <tr>\n",
       "      <th>0</th>\n",
       "      <td>Abbey</td>\n",
       "    </tr>\n",
       "    <tr>\n",
       "      <th>1</th>\n",
       "      <td>Abbie</td>\n",
       "    </tr>\n",
       "    <tr>\n",
       "      <th>2</th>\n",
       "      <td>Abby</td>\n",
       "    </tr>\n",
       "    <tr>\n",
       "      <th>3</th>\n",
       "      <td>Addie</td>\n",
       "    </tr>\n",
       "    <tr>\n",
       "      <th>4</th>\n",
       "      <td>Adrian</td>\n",
       "    </tr>\n",
       "    <tr>\n",
       "      <th>5</th>\n",
       "      <td>Adrien</td>\n",
       "    </tr>\n",
       "    <tr>\n",
       "      <th>6</th>\n",
       "      <td>Ajay</td>\n",
       "    </tr>\n",
       "    <tr>\n",
       "      <th>7</th>\n",
       "      <td>Alex</td>\n",
       "    </tr>\n",
       "    <tr>\n",
       "      <th>8</th>\n",
       "      <td>Alexis</td>\n",
       "    </tr>\n",
       "    <tr>\n",
       "      <th>9</th>\n",
       "      <td>Alfie</td>\n",
       "    </tr>\n",
       "  </tbody>\n",
       "</table>\n",
       "</div>"
      ],
      "text/plain": [
       "     name\n",
       "0   Abbey\n",
       "1   Abbie\n",
       "2    Abby\n",
       "3   Addie\n",
       "4  Adrian\n",
       "5  Adrien\n",
       "6    Ajay\n",
       "7    Alex\n",
       "8  Alexis\n",
       "9   Alfie"
      ]
     },
     "execution_count": 4,
     "metadata": {},
     "output_type": "execute_result"
    }
   ],
   "source": [
    "same_names = female_names.merge(male_names, on=['name'], how='inner')\n",
    "print('Количество совпадающих имен: ', len(same_names))\n",
    "print('Список имен, являющихся одновременно и мужскими, и женскими: (первые 10)')\n",
    "same_names.head(n = 10)"
   ]
  },
  {
   "cell_type": "markdown",
   "metadata": {},
   "source": [
    "### 1.2 And deleting duplicated names"
   ]
  },
  {
   "cell_type": "code",
   "execution_count": 5,
   "metadata": {
    "collapsed": true
   },
   "outputs": [],
   "source": [
    "remove_criterion = lambda row: row['name'] not in same_names['name'].values\n",
    "male_names = male_names[male_names.apply(remove_criterion, axis=1)]\n",
    "female_names = female_names[female_names.apply(remove_criterion, axis=1)]"
   ]
  },
  {
   "cell_type": "code",
   "execution_count": 6,
   "metadata": {
    "collapsed": false
   },
   "outputs": [
    {
     "name": "stdout",
     "output_type": "stream",
     "text": [
      "Количество мужских имен после удаления дубликатов:  2578\n",
      "Количество женских имен после удаления дубликатов:  4636\n",
      "Все ок?  True\n"
     ]
    }
   ],
   "source": [
    "print('Количество мужских имен после удаления дубликатов: ', len(male_names))\n",
    "print('Количество женских имен после удаления дубликатов: ', len(female_names))\n",
    "print('Все ок? ', (male_names_number - len(same_names) == len(male_names)) & \n",
    "      (female_names_number - len(same_names) == len(female_names)))"
   ]
  },
  {
   "cell_type": "markdown",
   "metadata": {},
   "source": [
    "### 1.3 Creating test sample (20% of dataset)"
   ]
  },
  {
   "cell_type": "code",
   "execution_count": 7,
   "metadata": {
    "collapsed": true
   },
   "outputs": [],
   "source": [
    "def createTrainTestSample(dataframe, letters_list, field, field2, test_percentage=0.2, rnd_state=0):\n",
    "    train_X, train_y, test_X, test_y = ([] for i in range(4))\n",
    "    for letter_value in letters_list:\n",
    "        letter_df = dataframe[dataframe[field].str.startswith(letter_value)]\n",
    "        X_train, X_test, y_train, y_test = train_test_split(letter_df[field].tolist(), letter_df[field2].tolist(), \n",
    "                                                            test_size=test_percentage, random_state=rnd_state)\n",
    "        train_X.extend(X_train)\n",
    "        test_X.extend(X_test)\n",
    "        train_y.extend(y_train)\n",
    "        test_y.extend(y_test)\n",
    "    return train_X, test_X, train_y, test_y"
   ]
  },
  {
   "cell_type": "code",
   "execution_count": 8,
   "metadata": {
    "collapsed": true
   },
   "outputs": [],
   "source": [
    "def getListOfFirstLetters(dataframe, field):\n",
    "    letters = dataframe[field].astype(str).str[0]\n",
    "    letters = np.unique(letters.tolist())\n",
    "    return letters"
   ]
  },
  {
   "cell_type": "code",
   "execution_count": 9,
   "metadata": {
    "collapsed": false
   },
   "outputs": [
    {
     "name": "stdout",
     "output_type": "stream",
     "text": [
      "Общее количество имен:  7214\n",
      "Все ок?  True\n"
     ]
    }
   ],
   "source": [
    "all_names = pd.concat([male_names, female_names], axis=0, ignore_index=True)\n",
    "all_names['gender'] = np.concatenate((np.ones(len(male_names)), np.zeros(len(female_names))), axis=0).astype(int)\n",
    "print('Общее количество имен: ', len(all_names))\n",
    "print('Все ок? ', len(all_names) == len(male_names) + len(female_names))"
   ]
  },
  {
   "cell_type": "code",
   "execution_count": 10,
   "metadata": {
    "collapsed": false
   },
   "outputs": [
    {
     "name": "stdout",
     "output_type": "stream",
     "text": [
      "Список первых букв имен, присутствующих в датасете:\n"
     ]
    },
    {
     "data": {
      "text/plain": [
       "array(['A', 'B', 'C', 'D', 'E', 'F', 'G', 'H', 'I', 'J', 'K', 'L', 'M',\n",
       "       'N', 'O', 'P', 'Q', 'R', 'S', 'T', 'U', 'V', 'W', 'X', 'Y', 'Z'], \n",
       "      dtype='<U1')"
      ]
     },
     "execution_count": 10,
     "metadata": {},
     "output_type": "execute_result"
    }
   ],
   "source": [
    "# getting list of fisrt letters of names\n",
    "lettes_list = getListOfFirstLetters(all_names, 'name')\n",
    "print('Список первых букв имен, присутствующих в датасете:')\n",
    "lettes_list"
   ]
  },
  {
   "cell_type": "code",
   "execution_count": 11,
   "metadata": {
    "collapsed": false
   },
   "outputs": [
    {
     "name": "stdout",
     "output_type": "stream",
     "text": [
      "CPU times: user 147 ms, sys: 4.9 ms, total: 152 ms\n",
      "Wall time: 160 ms\n"
     ]
    }
   ],
   "source": [
    "%%time\n",
    "X_train, X_test, y_train, y_test = createTrainTestSample(all_names, lettes_list, 'name', 'gender') "
   ]
  },
  {
   "cell_type": "markdown",
   "metadata": {},
   "source": [
    "## 2. Fitting Naive Bayes classifier"
   ]
  },
  {
   "cell_type": "markdown",
   "metadata": {},
   "source": [
    "Используйте метод наивного Байеса для классификации имен: в качестве признаков используйте символьные n-граммы. <br>Сравните результаты, получаемые при разных n= 2, 3, 4 по F-мере и аккуратности. В каких случаях метод ошибается? <br>Для генерации n-грамм используйте <br><b>from nltk.util import ngrams.<b>"
   ]
  },
  {
   "cell_type": "code",
   "execution_count": 12,
   "metadata": {
    "collapsed": true
   },
   "outputs": [],
   "source": [
    "def remove_duplicates(list_to_filter):\n",
    "    return list(set(list_to_filter))"
   ]
  },
  {
   "cell_type": "code",
   "execution_count": 13,
   "metadata": {
    "collapsed": true
   },
   "outputs": [],
   "source": [
    "def tuple_to_string(tuple_to_convert):\n",
    "    return ''.join(tuple_to_convert)"
   ]
  },
  {
   "cell_type": "code",
   "execution_count": 14,
   "metadata": {
    "collapsed": false
   },
   "outputs": [],
   "source": [
    "def generateNgrams(dataframe, field, n):\n",
    "    all_ngrams_list = []\n",
    "    for name_value in dataframe[field].str.lower():\n",
    "        for ngram in ngrams(name_value, n):\n",
    "            all_ngrams_list.append(ngram)\n",
    "    return remove_duplicates(all_ngrams_list)"
   ]
  },
  {
   "cell_type": "code",
   "execution_count": 15,
   "metadata": {
    "collapsed": false
   },
   "outputs": [],
   "source": [
    "def genFitMatrix(names_list, all_features):\n",
    "    matrix = np.zeros((len(names_list), len(all_features)))\n",
    "    for i, name_value in enumerate(names_list):\n",
    "        for j, feature_value in enumerate(all_features):\n",
    "            if tuple_to_string(feature_value) in name_value:\n",
    "                matrix[i][j] = 1\n",
    "    return matrix"
   ]
  },
  {
   "cell_type": "markdown",
   "metadata": {},
   "source": [
    "#### N = 2"
   ]
  },
  {
   "cell_type": "code",
   "execution_count": 16,
   "metadata": {
    "collapsed": false
   },
   "outputs": [],
   "source": [
    "list_ngrams = generateNgrams(all_names, 'name', 2)\n",
    "X_train_matrix = genFitMatrix(X_train, list_ngrams)\n",
    "X_test_matrix = genFitMatrix(X_test, list_ngrams)"
   ]
  },
  {
   "cell_type": "code",
   "execution_count": 17,
   "metadata": {
    "collapsed": false
   },
   "outputs": [
    {
     "name": "stdout",
     "output_type": "stream",
     "text": [
      "accuracy = 0.699382292382\n",
      "F-score = 0.376068376068\n"
     ]
    }
   ],
   "source": [
    "clf = GaussianNB().fit(X_train_matrix, y_train)\n",
    "y_pred = clf.predict(X_test_matrix)\n",
    "print(\"accuracy =\", accuracy_score(y_test, y_pred))\n",
    "print(\"F-score =\", f1_score(y_test, y_pred))"
   ]
  },
  {
   "cell_type": "markdown",
   "metadata": {
    "collapsed": false
   },
   "source": [
    "#### N = 3"
   ]
  },
  {
   "cell_type": "code",
   "execution_count": 18,
   "metadata": {
    "collapsed": true
   },
   "outputs": [],
   "source": [
    "list_ngrams = generateNgrams(all_names, 'name', 3)\n",
    "X_train_matrix = genFitMatrix(X_train, list_ngrams)\n",
    "X_test_matrix = genFitMatrix(X_test, list_ngrams)"
   ]
  },
  {
   "cell_type": "code",
   "execution_count": 19,
   "metadata": {
    "collapsed": false
   },
   "outputs": [
    {
     "name": "stdout",
     "output_type": "stream",
     "text": [
      "accuracy = 0.743994509266\n",
      "F-score = 0.524840764331\n"
     ]
    }
   ],
   "source": [
    "clf = GaussianNB().fit(X_train_matrix, y_train)\n",
    "y_pred = clf.predict(X_test_matrix)\n",
    "print(\"accuracy =\", accuracy_score(y_test, y_pred))\n",
    "print(\"F-score =\", f1_score(y_test, y_pred))"
   ]
  },
  {
   "cell_type": "markdown",
   "metadata": {},
   "source": [
    "#### N = 4"
   ]
  },
  {
   "cell_type": "code",
   "execution_count": 20,
   "metadata": {
    "collapsed": true
   },
   "outputs": [],
   "source": [
    "list_ngrams = generateNgrams(all_names, 'name', 4)\n",
    "X_train_matrix = genFitMatrix(X_train, list_ngrams)\n",
    "X_test_matrix = genFitMatrix(X_test, list_ngrams)"
   ]
  },
  {
   "cell_type": "code",
   "execution_count": 21,
   "metadata": {
    "collapsed": false
   },
   "outputs": [
    {
     "name": "stdout",
     "output_type": "stream",
     "text": [
      "accuracy = 0.732326698696\n",
      "F-score = 0.705882352941\n"
     ]
    }
   ],
   "source": [
    "clf = GaussianNB().fit(X_train_matrix, y_train)\n",
    "y_pred = clf.predict(X_test_matrix)\n",
    "print(\"accuracy =\", accuracy_score(y_test, y_pred))\n",
    "print(\"F-score =\", f1_score(y_test, y_pred))"
   ]
  },
  {
   "cell_type": "markdown",
   "metadata": {},
   "source": [
    "## 3. Fitting Neural Network"
   ]
  },
  {
   "cell_type": "code",
   "execution_count": null,
   "metadata": {
    "collapsed": true
   },
   "outputs": [],
   "source": [
    "#checking number of duplicated names\n",
    "k = 0 \n",
    "for i in all_names.index:\n",
    "     if all_names.name.value_counts()[i] > 1: \n",
    "        k = k + 1\n",
    "k"
   ]
  },
  {
   "cell_type": "code",
   "execution_count": null,
   "metadata": {
    "collapsed": true
   },
   "outputs": [],
   "source": [
    "#max name length\n",
    "max_len = 0\n",
    "for i in all_names.index:\n",
    "    if len(all_names.name.values[i]) > max_len:\n",
    "        max_len = len(all_names.name.values[i])\n",
    "max_len"
   ]
  },
  {
   "cell_type": "code",
   "execution_count": null,
   "metadata": {
    "collapsed": true
   },
   "outputs": [],
   "source": [
    "#all names to lower case\n",
    "male = male_names.name.str.lower()\n",
    "female = female_names.name.str.lower()"
   ]
  },
  {
   "cell_type": "code",
   "execution_count": null,
   "metadata": {
    "collapsed": true
   },
   "outputs": [],
   "source": [
    "#extracting the chars \n",
    "chars = set(\"\".join(male) + \"\".join(female))\n",
    "char_indices = dict((c, i) for i, c in enumerate(chars))\n",
    "print('Number of chars:', len(chars))"
   ]
  },
  {
   "cell_type": "code",
   "execution_count": null,
   "metadata": {
    "collapsed": true
   },
   "outputs": [],
   "source": [
    "num_epochs = 5 #количество эпох обучения\n",
    "weightsFileName = \"gender_weights.h5\"\n",
    "batch_size = 16\n",
    "\n",
    "X = np.zeros((len(all_names), max_len, len(chars)), dtype = np.bool)\n",
    "y = np.zeros((len(all_names), 2), dtype = np.bool)\n",
    "\n",
    "for i, name in enumerate(male):\n",
    "    for t, char in enumerate(name):\n",
    "        X[i, t, char_indices[char]] = 1\n",
    "    y[i, 0 ] = 1\n",
    "\n",
    "for i, name in enumerate(female):\n",
    "    for t, char in enumerate(name):\n",
    "        X[i + len(male), t, char_indices[char]] = 1\n",
    "    y[i + len(male), 1] = 1"
   ]
  },
  {
   "cell_type": "code",
   "execution_count": null,
   "metadata": {
    "collapsed": true
   },
   "outputs": [],
   "source": [
    "#bulding model\n",
    "model = Sequential()\n",
    "model.add(LSTM(512, return_sequences = True, input_shape = (max_len, len(chars)))) #first layer\n",
    "model.add(Dropout(0.2)) #adding dropout to reduce overfitting\n",
    "model.add(LSTM(512, return_sequences = False)) #second layer\n",
    "model.add(Dropout(0.2))\n",
    "\n",
    "#The output layer will be a softmax layer with two units (one for male, one for female). \n",
    "#In other words, target output is a 2-dimensional one hot vector.\n",
    "model.add(Dense(2)) #linear unit\n",
    "model.add(Activation('softmax')) \n",
    "\n",
    "model.compile(loss = 'binary_crossentropy',  \n",
    "              metrics = ['fmeasure', 'accuracy'], #reporting the f-measure and accuracy\n",
    "              optimizer = 'rmsprop')\n",
    "\n",
    "json_string = model.to_json()\n",
    "with open(\"model.json\", \"w\") as text_file:\n",
    "    text_file.write(json_string)\n",
    "\n",
    "model.fit(X, y, batch_size = batch_size, nb_epoch = num_epochs,\n",
    "          validation_split = 0.1, verbose = 1)\n",
    "\n",
    "model.save_weights('my_model_weights.h5')\n",
    "result = model.evaluate(X, y, batch_size = batch_size)\n",
    "print(\"Results: \", result)"
   ]
  },
  {
   "cell_type": "code",
   "execution_count": null,
   "metadata": {
    "collapsed": true
   },
   "outputs": [],
   "source": []
  },
  {
   "cell_type": "code",
   "execution_count": null,
   "metadata": {
    "collapsed": true
   },
   "outputs": [],
   "source": [
    "просто разные дропауты"
   ]
  },
  {
   "cell_type": "code",
   "execution_count": null,
   "metadata": {
    "collapsed": true
   },
   "outputs": [],
   "source": [
    "#bulding model\n",
    "model = Sequential()\n",
    "model.add(LSTM(512, return_sequences = True, input_shape = (max_len, len(chars)))) #first layer\n",
    "model.add(Dropout(0.2)) #adding dropout to reduce overfitting\n",
    "model.add(LSTM(512, return_sequences = False)) #second layer\n",
    "model.add(Dropout(0.2))\n",
    "\n",
    "#The output layer will be a softmax layer with two units (one for male, one for female). \n",
    "#In other words, target output is a 2-dimensional one hot vector.\n",
    "model.add(Dense(2)) #linear unit\n",
    "model.add(Dropout(0.2))\n",
    "model.add(Activation('softmax')) \n",
    "\n",
    "model.compile(loss = 'binary_crossentropy',  \n",
    "              metrics = ['fmeasure', 'accuracy'], #reporting the f-measure and accuracy\n",
    "              optimizer = 'rmsprop')\n",
    "\n",
    "json_string = model.to_json()\n",
    "with open(\"model.json\", \"w\") as text_file:\n",
    "    text_file.write(json_string)\n",
    "\n",
    "model.fit(X, y, batch_size = batch_size, nb_epoch = num_epochs,\n",
    "          validation_split = 0.1, verbose = 1)\n",
    "\n",
    "model.save_weights('my_model_weights.h5')\n",
    "result = model.evaluate(X, y, batch_size = batch_size)\n",
    "print(\"Results: \", result)"
   ]
  },
  {
   "cell_type": "code",
   "execution_count": null,
   "metadata": {
    "collapsed": true
   },
   "outputs": [],
   "source": [
    "#bulding model\n",
    "model = Sequential()\n",
    "model.add(LSTM(512, return_sequences = True, input_shape = (max_len, len(chars)))) #first layer\n",
    "model.add(Dropout(0.3)) #adding dropout to reduce overfitting\n",
    "model.add(LSTM(512, return_sequences = False)) #second layer\n",
    "model.add(Dropout(0.3))\n",
    "\n",
    "#The output layer will be a softmax layer with two units (one for male, one for female). \n",
    "#In other words, target output is a 2-dimensional one hot vector.\n",
    "model.add(Dense(2)) #linear unit\n",
    "model.add(Dropout(0.3))\n",
    "model.add(Activation('softmax')) \n",
    "\n",
    "model.compile(loss = 'binary_crossentropy',  \n",
    "              metrics = ['fmeasure', 'accuracy'], #reporting the f-measure and accuracy\n",
    "              optimizer = 'rmsprop')\n",
    "\n",
    "json_string = model.to_json()\n",
    "with open(\"model.json\", \"w\") as text_file:\n",
    "    text_file.write(json_string)\n",
    "\n",
    "model.fit(X, y, batch_size = batch_size, nb_epoch = num_epochs,\n",
    "          validation_split = 0.1, verbose = 1)\n",
    "\n",
    "model.save_weights('my_model_weights.h5')\n",
    "result = model.evaluate(X, y, batch_size = batch_size)\n",
    "print(\"Results: \", result)"
   ]
  },
  {
   "cell_type": "code",
   "execution_count": null,
   "metadata": {
    "collapsed": true
   },
   "outputs": [],
   "source": [
    "#bulding model\n",
    "model = Sequential()\n",
    "model.add(LSTM(512, return_sequences = True, input_shape = (max_len, len(chars)))) #first layer\n",
    "model.add(Dropout(0.5)) #adding dropout to reduce overfitting\n",
    "model.add(LSTM(512, return_sequences = False)) #second layer\n",
    "model.add(Dropout(0.5))\n",
    "\n",
    "#The output layer will be a softmax layer with two units (one for male, one for female). \n",
    "#In other words, target output is a 2-dimensional one hot vector.\n",
    "model.add(Dense(2)) #linear unit\n",
    "model.add(Dropout(0.5))\n",
    "model.add(Activation('softmax')) \n",
    "\n",
    "model.compile(loss = 'binary_crossentropy',  \n",
    "              metrics = ['fmeasure', 'accuracy'], #reporting the f-measure and accuracy\n",
    "              optimizer = 'rmsprop')\n",
    "\n",
    "json_string = model.to_json()\n",
    "with open(\"model.json\", \"w\") as text_file:\n",
    "    text_file.write(json_string)\n",
    "\n",
    "model.fit(X, y, batch_size = batch_size, nb_epoch = num_epochs,\n",
    "          validation_split = 0.1, verbose = 1)\n",
    "\n",
    "model.save_weights('my_model_weights.h5')\n",
    "result = model.evaluate(X, y, batch_size = batch_size)\n",
    "print(\"Results: \", result)"
   ]
  }
 ],
 "metadata": {
  "kernelspec": {
   "display_name": "Python 3",
   "language": "python",
   "name": "python3"
  },
  "language_info": {
   "codemirror_mode": {
    "name": "ipython",
    "version": 3
   },
   "file_extension": ".py",
   "mimetype": "text/x-python",
   "name": "python",
   "nbconvert_exporter": "python",
   "pygments_lexer": "ipython3",
   "version": "3.5.1"
  }
 },
 "nbformat": 4,
 "nbformat_minor": 2
}
