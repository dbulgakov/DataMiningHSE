{
 "cells": [
  {
   "cell_type": "code",
   "execution_count": 276,
   "metadata": {
    "collapsed": true
   },
   "outputs": [],
   "source": [
    "import os\n",
    "import nltk\n",
    "import pandas as pd\n",
    "import numpy as np\n",
    "import matplotlib.pyplot as plt\n",
    "%matplotlib inline\n",
    "import pymorphy2\n",
    "import seaborn as sns\n",
    "sns.set_style(\"whitegrid\")\n",
    "from nltk.tokenize import WhitespaceTokenizer\n",
    "from nltk.corpus import stopwords\n",
    "from string import punctuation\n",
    "from operator import itemgetter"
   ]
  },
  {
   "cell_type": "markdown",
   "metadata": {},
   "source": [
    "# HW1:  Сравнение стилей текстов\n",
    "### Выполнили:  Булгаков Дмитрий, Тефикова Алие\n",
    "### Группа ИАД-2"
   ]
  },
  {
   "cell_type": "markdown",
   "metadata": {},
   "source": [
    "# 1. Загрузка данных"
   ]
  },
  {
   "cell_type": "markdown",
   "metadata": {},
   "source": [
    "Составьте самостоятельно как минимум две коллекции\n",
    "текстов разных стилей (например, коллекция текстов в публицистическом\n",
    "стиле и коллекция текстов в научном стиле). Коллекции текстов\n",
    "должны быть достаточно большие (порядка 5000 токенов). Посчитайте\n",
    "количество токенов и типов в каждой коллекции."
   ]
  },
  {
   "cell_type": "markdown",
   "metadata": {},
   "source": [
    "### 1.1 Получение  данных из файла"
   ]
  },
  {
   "cell_type": "code",
   "execution_count": 277,
   "metadata": {
    "collapsed": true
   },
   "outputs": [],
   "source": [
    "def remove_control_characters(text_string):\n",
    "    return ''.join(filter(None, text_string.splitlines()))"
   ]
  },
  {
   "cell_type": "markdown",
   "metadata": {},
   "source": [
    "### 1.1.1 Загрузка художественных текстов (Портрет Дориана Грея,  Оскар Уайльд)"
   ]
  },
  {
   "cell_type": "markdown",
   "metadata": {},
   "source": [
    "«Портре́т Дориана Гре́я» (англ. The Picture of Dorian Gray) — единственный опубликованный роман Оскара Уайльда. В жанровом отношении представляет смесь романа воспитания с моральной притчей. Существует в двух версиях — в 13 главах (1890 года) и в 20 главах (1891 года). Стал самым успешным произведением Уайльда, более 30 раз экранизировался."
   ]
  },
  {
   "cell_type": "markdown",
   "metadata": {},
   "source": [
    "<b>Link:<b> http://lib.ru/WILDE/doriangray.txt"
   ]
  },
  {
   "cell_type": "code",
   "execution_count": 278,
   "metadata": {
    "collapsed": false
   },
   "outputs": [],
   "source": [
    "fiction = open('data/dorian_gray.txt', encoding='utf-8').read()\n",
    "fiction = remove_control_characters(fiction)"
   ]
  },
  {
   "cell_type": "code",
   "execution_count": 279,
   "metadata": {
    "collapsed": true
   },
   "outputs": [],
   "source": [
    "fiction = fiction[:105000] #приводим тексты к такому размеру, чтобы количество токенов было примерно одинаковым "
   ]
  },
  {
   "cell_type": "markdown",
   "metadata": {},
   "source": [
    "### 1.1.2 Загрузка  публицистических текстов (статьи lenta.ru) "
   ]
  },
  {
   "cell_type": "markdown",
   "metadata": {},
   "source": [
    "Lenta.ru — одно из ведущих российских новостных интернет-изданий, основанное в 1999 году Антоном Носиком при содействии Фонда эффективной политики. Работает круглосуточно, освещая мировые и внутрироссийские новости.\n",
    "\n",
    "Для коллекции было взято большое количество новостей, опубликованных за февраль нынешнего года."
   ]
  },
  {
   "cell_type": "markdown",
   "metadata": {},
   "source": [
    "<b>Link<b>: http://lenta.ru"
   ]
  },
  {
   "cell_type": "code",
   "execution_count": 280,
   "metadata": {
    "collapsed": false
   },
   "outputs": [],
   "source": [
    "journalistic = open('data/lentaru.txt', encoding='utf-8').read()\n",
    "journalistic = remove_control_characters(journalistic)"
   ]
  },
  {
   "cell_type": "markdown",
   "metadata": {},
   "source": [
    "### 1.1.3 Загрузка  научных текстов (Молодежная Наука 2016)"
   ]
  },
  {
   "cell_type": "markdown",
   "metadata": {},
   "source": [
    "Материалы Всероссийской научно-практической конференции молодых ученых, аспирантов и студентов, посвященной 150-летию со дня рождения профессора В.Н. Варгина (Пермь, 14-18 марта 2016 года)"
   ]
  },
  {
   "cell_type": "markdown",
   "metadata": {},
   "source": [
    "<b>Link<b>: http://pgsha.ru/web/science/scientificarticles/"
   ]
  },
  {
   "cell_type": "code",
   "execution_count": 281,
   "metadata": {
    "collapsed": false
   },
   "outputs": [],
   "source": [
    "scientific = open('data/perm_conf.txt', encoding='utf-8').read()\n",
    "scientific = remove_control_characters(scientific)"
   ]
  },
  {
   "cell_type": "code",
   "execution_count": 282,
   "metadata": {
    "collapsed": false
   },
   "outputs": [],
   "source": [
    "scientific = scientific[:140000] #приводим тексты к такому размеру, чтобы количество токенов было примерно одинаковым "
   ]
  },
  {
   "cell_type": "markdown",
   "metadata": {},
   "source": [
    "### 1.1.4 Загрузка  текстов  разговорного стиля (корпус составленный на базе Twitter )"
   ]
  },
  {
   "cell_type": "markdown",
   "metadata": {},
   "source": [
    "В качестве источника текстов была выбрана платформа микроблогинга Twitter. Современные поисковые системы и имеющиеся в открытом доступе инструменты по сбору текстовых отзывов не позволяют собирать актуальные отзывы и оперативно работать с данными. В связи с этим на основе программного интерефейса API twitter  был разработан программный инструмент для извлечения отзывов об интересующих товарах, услугах,  событиях,  персонах из микроблоггинг-платформы twitter,  который позволяет учитывать время публикации сообщения и авторитетность автора сообщения. Этот инструмент использовался для сбора неразмеченного корпуса. В корпусе содержится более 15 миллионов записей за время с конца ноября 2013 года до конца февраля 2014 года."
   ]
  },
  {
   "cell_type": "markdown",
   "metadata": {},
   "source": [
    "<b>Link:<b> http://study.mokoron.com"
   ]
  },
  {
   "cell_type": "code",
   "execution_count": 283,
   "metadata": {
    "collapsed": true
   },
   "outputs": [],
   "source": [
    "conversational = open('data/twitter.txt', encoding='utf-8').read()\n",
    "conversational = remove_control_characters(conversational)"
   ]
  },
  {
   "cell_type": "code",
   "execution_count": 284,
   "metadata": {
    "collapsed": false
   },
   "outputs": [],
   "source": [
    "conversational = conversational[:100000] #приводим тексты к такому размеру, чтобы количество токенов было примерно одинаковым "
   ]
  },
  {
   "cell_type": "markdown",
   "metadata": {},
   "source": [
    "### 1.2 Подсчет токенов и типов"
   ]
  },
  {
   "cell_type": "code",
   "execution_count": 285,
   "metadata": {
    "collapsed": true
   },
   "outputs": [],
   "source": [
    "exclude_symbols = set(punctuation + '0123456789' + u'–—' + u'«»' + u'“')"
   ]
  },
  {
   "cell_type": "code",
   "execution_count": 286,
   "metadata": {
    "collapsed": true
   },
   "outputs": [],
   "source": [
    "def tokenize(text, exlude_symb):\n",
    "    text = text.lower()\n",
    "    text_merged = ''.join(ch for ch in text if ch not in exlude_symb)\n",
    "    text_tokens = WhitespaceTokenizer().tokenize(text_merged.lower())\n",
    "    return text_tokens"
   ]
  },
  {
   "cell_type": "code",
   "execution_count": 287,
   "metadata": {
    "collapsed": true
   },
   "outputs": [],
   "source": [
    "def print_results(tokens):\n",
    "    print('N of tokens: ', len(tokens))\n",
    "    types = nltk.FreqDist(tokens)\n",
    "    print('N of types:', len(types))"
   ]
  },
  {
   "cell_type": "markdown",
   "metadata": {},
   "source": [
    "### 1.2.1 Токены и типы для  художественного стиля"
   ]
  },
  {
   "cell_type": "code",
   "execution_count": 288,
   "metadata": {
    "collapsed": false
   },
   "outputs": [
    {
     "name": "stdout",
     "output_type": "stream",
     "text": [
      "N of tokens:  14227\n",
      "N of types: 5664\n"
     ]
    }
   ],
   "source": [
    "fiction_tokens = tokenize(fiction, exclude_symbols)\n",
    "print_results(fiction_tokens)"
   ]
  },
  {
   "cell_type": "markdown",
   "metadata": {},
   "source": [
    "### 1.2.2 Токены и типы для публицистического стиля"
   ]
  },
  {
   "cell_type": "code",
   "execution_count": 289,
   "metadata": {
    "collapsed": false
   },
   "outputs": [
    {
     "name": "stdout",
     "output_type": "stream",
     "text": [
      "N of tokens:  13699\n",
      "N of types: 6015\n"
     ]
    }
   ],
   "source": [
    "journalistic_tokens = tokenize(journalistic, exclude_symbols)\n",
    "print_results(journalistic_tokens)"
   ]
  },
  {
   "cell_type": "markdown",
   "metadata": {},
   "source": [
    "### 1.2.3 Токены и типы для  научного стиля"
   ]
  },
  {
   "cell_type": "code",
   "execution_count": 290,
   "metadata": {
    "collapsed": false
   },
   "outputs": [
    {
     "name": "stdout",
     "output_type": "stream",
     "text": [
      "N of tokens:  14732\n",
      "N of types: 5370\n"
     ]
    }
   ],
   "source": [
    "scientific_tokens = tokenize(scientific, exclude_symbols)\n",
    "print_results(scientific_tokens)"
   ]
  },
  {
   "cell_type": "markdown",
   "metadata": {},
   "source": [
    "### 1.2.4 Токены и типы для  разговорного стиля"
   ]
  },
  {
   "cell_type": "code",
   "execution_count": 291,
   "metadata": {
    "collapsed": false
   },
   "outputs": [
    {
     "name": "stdout",
     "output_type": "stream",
     "text": [
      "N of tokens:  14171\n",
      "N of types: 6155\n"
     ]
    }
   ],
   "source": [
    "conversational_tokens = tokenize(conversational, exclude_symbols)\n",
    "print_results(conversational_tokens)"
   ]
  },
  {
   "cell_type": "markdown",
   "metadata": {},
   "source": [
    "### 2. Подсчет частей речи"
   ]
  },
  {
   "cell_type": "markdown",
   "metadata": {},
   "source": [
    "### 2.1 Подсчет частоты вхождений слов"
   ]
  },
  {
   "cell_type": "code",
   "execution_count": 292,
   "metadata": {
    "collapsed": true
   },
   "outputs": [],
   "source": [
    "stop_words = stopwords.words('russian') + [u'это', u'№', u'гсха', u'это', u'оо', u'изз', u'б']\n",
    "morph_analyzer = pymorphy2.MorphAnalyzer()"
   ]
  },
  {
   "cell_type": "code",
   "execution_count": 293,
   "metadata": {
    "collapsed": false
   },
   "outputs": [],
   "source": [
    "def word_freq_count(tokens, morph, stopwords=None):\n",
    "    lemmata = nltk.FreqDist()\n",
    "    types = nltk.FreqDist(tokens)\n",
    "    \n",
    "    for t in types:\n",
    "        l = morph.parse(t)[0].normal_form\n",
    "        if l in lemmata:\n",
    "            lemmata[l] += types[t]\n",
    "        else:\n",
    "            lemmata[l] = types[t]\n",
    "                \n",
    "    if (stopwords != None):\n",
    "        lemmata = lemmata_remove_stopwords(lemmata, stopwords)\n",
    "    \n",
    "    return lemmata"
   ]
  },
  {
   "cell_type": "code",
   "execution_count": 294,
   "metadata": {
    "collapsed": true
   },
   "outputs": [],
   "source": [
    "def lemmata_remove_stopwords(lem, stopwords):\n",
    "    lem_no_sw = nltk.FreqDist()\n",
    "    for l in lem:\n",
    "        if not l in stopwords:\n",
    "            lem_no_sw[l] = lem[l]\n",
    "    return lem_no_sw"
   ]
  },
  {
   "cell_type": "code",
   "execution_count": 295,
   "metadata": {
    "collapsed": true
   },
   "outputs": [],
   "source": [
    "def print_lemata_most_common(lem, count=10):\n",
    "    print('N of lemmata:', len(lem))\n",
    "    \n",
    "    for i in lem.most_common(count):\n",
    "        print(i[0], i[1])"
   ]
  },
  {
   "cell_type": "code",
   "execution_count": 296,
   "metadata": {
    "collapsed": true
   },
   "outputs": [],
   "source": [
    "def perform_count_analysis(tokens, morph, stopwords):\n",
    "    print('Без исключения стоп-слов:\\n')\n",
    "    lem_no_stop = word_freq_count(tokens, morph)\n",
    "    print_lemata_most_common(lem_no_stop)\n",
    "    \n",
    "    print('\\n\\nИсключая стоп-слова:\\n')\n",
    "    lem_stop = word_freq_count(tokens, morph, stopwords)\n",
    "    print_lemata_most_common(lem_stop)"
   ]
  },
  {
   "cell_type": "markdown",
   "metadata": {},
   "source": [
    "### 2.1.1 Частота вхождений слов для художественного стиля"
   ]
  },
  {
   "cell_type": "code",
   "execution_count": 297,
   "metadata": {
    "collapsed": false
   },
   "outputs": [
    {
     "name": "stdout",
     "output_type": "stream",
     "text": [
      "Без исключения стоп-слов:\n",
      "\n",
      "N of lemmata: 4155\n",
      "я 420\n",
      "и 408\n",
      "в 366\n",
      "он 351\n",
      "не 304\n",
      "что 205\n",
      "это 186\n",
      "вы 175\n",
      "с 166\n",
      "на 142\n",
      "\n",
      "\n",
      "Исключая стоп-слова:\n",
      "\n",
      "N of lemmata: 4049\n",
      "дориан 118\n",
      "лорд 117\n",
      "генри 106\n",
      "весь 104\n",
      "свой 81\n",
      "человек 75\n",
      "сказать 65\n",
      "греть 64\n",
      "гарри 61\n",
      "который 52\n"
     ]
    }
   ],
   "source": [
    "perform_count_analysis(fiction_tokens, morph_analyzer, stop_words)"
   ]
  },
  {
   "cell_type": "markdown",
   "metadata": {},
   "source": [
    "### 2.1.2 Частота вхождений слов для публицистического стиля"
   ]
  },
  {
   "cell_type": "code",
   "execution_count": 298,
   "metadata": {
    "collapsed": false
   },
   "outputs": [
    {
     "name": "stdout",
     "output_type": "stream",
     "text": [
      "Без исключения стоп-слов:\n",
      "\n",
      "N of lemmata: 4027\n",
      "в 713\n",
      "и 299\n",
      "на 243\n",
      "что 177\n",
      "с 174\n",
      "о 171\n",
      "год 138\n",
      "это 135\n",
      "по 135\n",
      "не 106\n",
      "\n",
      "\n",
      "Исключая стоп-слова:\n",
      "\n",
      "N of lemmata: 3941\n",
      "год 138\n",
      "февраль 101\n",
      "россия 84\n",
      "который 78\n",
      "также 51\n",
      "заявить 42\n",
      "российский 42\n",
      "мочь 39\n",
      "сообщить 38\n",
      "стать 34\n"
     ]
    }
   ],
   "source": [
    "perform_count_analysis(journalistic_tokens, morph_analyzer, stop_words)"
   ]
  },
  {
   "cell_type": "markdown",
   "metadata": {},
   "source": [
    "### 2.1.3 Частота вхождений слов для научного стиля"
   ]
  },
  {
   "cell_type": "code",
   "execution_count": 299,
   "metadata": {
    "collapsed": false
   },
   "outputs": [
    {
     "name": "stdout",
     "output_type": "stream",
     "text": [
      "Без исключения стоп-слов:\n",
      "\n",
      "N of lemmata: 3776\n",
      "в 559\n",
      "и 462\n",
      "с 289\n",
      "на 260\n",
      "по 185\n",
      "сорт 152\n",
      "год 146\n",
      "при 123\n",
      "посев 114\n",
      "растение 112\n",
      "\n",
      "\n",
      "Исключая стоп-слова:\n",
      "\n",
      "N of lemmata: 3700\n",
      "сорт 152\n",
      "год 146\n",
      "посев 114\n",
      "растение 112\n",
      "урожайность 108\n",
      "семя 76\n",
      "срок 71\n",
      "исследование 70\n",
      "ячмень 62\n",
      "культура 61\n"
     ]
    }
   ],
   "source": [
    "perform_count_analysis(scientific_tokens, morph_analyzer, stop_words)"
   ]
  },
  {
   "cell_type": "markdown",
   "metadata": {},
   "source": [
    "### 2.1.4 Частота вхождений слов для разговорного стиля"
   ]
  },
  {
   "cell_type": "code",
   "execution_count": 300,
   "metadata": {
    "collapsed": false
   },
   "outputs": [
    {
     "name": "stdout",
     "output_type": "stream",
     "text": [
      "Без исключения стоп-слов:\n",
      "\n",
      "N of lemmata: 4809\n",
      "я 478\n",
      "в 381\n",
      "и 369\n",
      "не 344\n",
      "на 264\n",
      "с 209\n",
      "что 183\n",
      "весь 177\n",
      "быть 174\n",
      "ты 173\n",
      "\n",
      "\n",
      "Исключая стоп-слова:\n",
      "\n",
      "N of lemmata: 4700\n",
      "весь 177\n",
      "ещё 68\n",
      "хороший 58\n",
      "день 48\n",
      "очень 48\n",
      "просто 46\n",
      "сегодня 44\n",
      "знать 42\n",
      "любить 33\n",
      "мочь 32\n"
     ]
    }
   ],
   "source": [
    "perform_count_analysis(conversational_tokens, morph_analyzer, stop_words)"
   ]
  },
  {
   "cell_type": "markdown",
   "metadata": {},
   "source": [
    "### 2.2 Подсчет количества  слов  с учетом части речи:"
   ]
  },
  {
   "cell_type": "markdown",
   "metadata": {},
   "source": [
    "Используя любой морфологический процессор, который вам нравится (pymorphy2, mystem), определите к какой части речиотносятся слова из каждой коллекции текстов. При помощи nltk.FreqDist() составьте частотные словари: часть речи – количество слов, к ней относящихся."
   ]
  },
  {
   "cell_type": "markdown",
   "metadata": {},
   "source": [
    "| ГрамМЕМа | Значение |\n",
    "| :-: | :-: |\n",
    "| NOUN | имя существительное | \n",
    "| ADJF | имя прилагательное (полное) | \n",
    "| ADJS | имя прилагательное (краткое) | \n",
    "| COMP | компаратив | \n",
    "| VERB | глагол (личная форма) | \n",
    "| INFN | глагол (инфинитив) | \n",
    "| PRTF | причастие (полное) | \n",
    "| PRTS | причастие (краткое) | \n",
    "| GRND | деепричастие | \n",
    "| NUMR | числительное | \n",
    "| ADVB | наречие | \n",
    "| NPRO | предикатив | \n",
    "| PRED | предлог | \n",
    "| PREP | союз | \n",
    "| CONJ | частица | \n",
    "| PRCL | имя прилагательное (полное) | \n",
    "| INTJ | междометие | \n",
    "| OTHR | другое | "
   ]
  },
  {
   "cell_type": "code",
   "execution_count": 301,
   "metadata": {
    "collapsed": true
   },
   "outputs": [],
   "source": [
    "parts_of_speech = ['NOUN', 'ADJF', 'ADJS', 'COMP', 'VERB', 'INFN', 'PRTF', \n",
    "                   'PRTS', 'GRND', 'NUMR', 'ADVB', 'NPRO', 'PRED', 'PREP', \n",
    "                   'CONJ', 'PRCL', 'INTJ', 'OTHR']"
   ]
  },
  {
   "cell_type": "code",
   "execution_count": 302,
   "metadata": {
    "collapsed": false
   },
   "outputs": [],
   "source": [
    "def count_parts_of_speech(tokens, morph, parts):\n",
    "    types = nltk.FreqDist(tokens)\n",
    "    pos_dict = {}\n",
    "    for t in types:\n",
    "        word = morph.parse(t)[0].normal_form\n",
    "        word_pos = morph.parse(word)[0].tag.POS\n",
    "        \n",
    "        if (word_pos == None):\n",
    "            word_pos = 'OTHR'\n",
    "        \n",
    "        if (word_pos in pos_dict.keys()):\n",
    "            pos_dict[word_pos] += types[t]\n",
    "        else:\n",
    "            pos_dict[word_pos] = types[t]\n",
    "        \n",
    "    return pos_dict"
   ]
  },
  {
   "cell_type": "markdown",
   "metadata": {},
   "source": [
    "### 2.2.1 Количество слов с учетом части речи для художественного стиля"
   ]
  },
  {
   "cell_type": "code",
   "execution_count": 303,
   "metadata": {
    "collapsed": false
   },
   "outputs": [
    {
     "data": {
      "text/plain": [
       "{'ADJF': 1843,\n",
       " 'ADJS': 15,\n",
       " 'ADVB': 917,\n",
       " 'CONJ': 1395,\n",
       " 'GRND': 20,\n",
       " 'INFN': 2583,\n",
       " 'INTJ': 38,\n",
       " 'NOUN': 3705,\n",
       " 'NPRO': 1446,\n",
       " 'NUMR': 46,\n",
       " 'OTHR': 36,\n",
       " 'PRCL': 876,\n",
       " 'PRED': 61,\n",
       " 'PREP': 1221,\n",
       " 'PRTF': 3,\n",
       " 'PRTS': 1,\n",
       " 'VERB': 21}"
      ]
     },
     "execution_count": 303,
     "metadata": {},
     "output_type": "execute_result"
    }
   ],
   "source": [
    "f_dict = count_parts_of_speech(fiction_tokens, morph_analyzer, parts_of_speech)\n",
    "f_dict"
   ]
  },
  {
   "cell_type": "code",
   "execution_count": 304,
   "metadata": {
    "collapsed": false,
    "scrolled": true
   },
   "outputs": [
    {
     "data": {
      "text/plain": [
       "[('NOUN', 3705),\n",
       " ('INFN', 2583),\n",
       " ('ADJF', 1843),\n",
       " ('NPRO', 1446),\n",
       " ('CONJ', 1395),\n",
       " ('PREP', 1221),\n",
       " ('ADVB', 917),\n",
       " ('PRCL', 876),\n",
       " ('PRED', 61),\n",
       " ('NUMR', 46),\n",
       " ('INTJ', 38),\n",
       " ('OTHR', 36),\n",
       " ('VERB', 21),\n",
       " ('GRND', 20),\n",
       " ('ADJS', 15),\n",
       " ('PRTF', 3),\n",
       " ('PRTS', 1)]"
      ]
     },
     "execution_count": 304,
     "metadata": {},
     "output_type": "execute_result"
    }
   ],
   "source": [
    "sorted(f_dict.items(), key = itemgetter(1), reverse = True)"
   ]
  },
  {
   "cell_type": "markdown",
   "metadata": {},
   "source": [
    "### 2.2.2. Количество слов с учетом части речи для публицистического стиля"
   ]
  },
  {
   "cell_type": "code",
   "execution_count": 305,
   "metadata": {
    "collapsed": false
   },
   "outputs": [
    {
     "data": {
      "text/plain": [
       "{'ADJF': 1796,\n",
       " 'ADJS': 2,\n",
       " 'ADVB': 333,\n",
       " 'CONJ': 746,\n",
       " 'GRND': 3,\n",
       " 'INFN': 1917,\n",
       " 'INTJ': 11,\n",
       " 'NOUN': 5985,\n",
       " 'NPRO': 233,\n",
       " 'NUMR': 83,\n",
       " 'OTHR': 302,\n",
       " 'PRCL': 297,\n",
       " 'PRED': 23,\n",
       " 'PREP': 1930,\n",
       " 'PRTF': 14,\n",
       " 'PRTS': 1,\n",
       " 'VERB': 23}"
      ]
     },
     "execution_count": 305,
     "metadata": {},
     "output_type": "execute_result"
    }
   ],
   "source": [
    "j_dict = count_parts_of_speech(journalistic_tokens, morph_analyzer, parts_of_speech)\n",
    "j_dict"
   ]
  },
  {
   "cell_type": "code",
   "execution_count": 306,
   "metadata": {
    "collapsed": false
   },
   "outputs": [
    {
     "data": {
      "text/plain": [
       "[('NOUN', 5985),\n",
       " ('PREP', 1930),\n",
       " ('INFN', 1917),\n",
       " ('ADJF', 1796),\n",
       " ('CONJ', 746),\n",
       " ('ADVB', 333),\n",
       " ('OTHR', 302),\n",
       " ('PRCL', 297),\n",
       " ('NPRO', 233),\n",
       " ('NUMR', 83),\n",
       " ('PRED', 23),\n",
       " ('VERB', 23),\n",
       " ('PRTF', 14),\n",
       " ('INTJ', 11),\n",
       " ('GRND', 3),\n",
       " ('ADJS', 2),\n",
       " ('PRTS', 1)]"
      ]
     },
     "execution_count": 306,
     "metadata": {},
     "output_type": "execute_result"
    }
   ],
   "source": [
    "sorted(j_dict.items(), key = itemgetter(1), reverse = True)"
   ]
  },
  {
   "cell_type": "markdown",
   "metadata": {},
   "source": [
    "### 2.2.3 Количество слов с учетом части речи для научного стиля"
   ]
  },
  {
   "cell_type": "code",
   "execution_count": 307,
   "metadata": {
    "collapsed": false
   },
   "outputs": [
    {
     "data": {
      "text/plain": [
       "{'ADJF': 2395,\n",
       " 'ADJS': 7,\n",
       " 'ADVB': 298,\n",
       " 'CONJ': 816,\n",
       " 'GRND': 6,\n",
       " 'INFN': 1244,\n",
       " 'INTJ': 26,\n",
       " 'NOUN': 7216,\n",
       " 'NPRO': 81,\n",
       " 'NUMR': 45,\n",
       " 'OTHR': 562,\n",
       " 'PRCL': 122,\n",
       " 'PRED': 21,\n",
       " 'PREP': 1861,\n",
       " 'PRTF': 6,\n",
       " 'PRTS': 5,\n",
       " 'VERB': 21}"
      ]
     },
     "execution_count": 307,
     "metadata": {},
     "output_type": "execute_result"
    }
   ],
   "source": [
    "s_dict = count_parts_of_speech(scientific_tokens, morph_analyzer, parts_of_speech)\n",
    "s_dict"
   ]
  },
  {
   "cell_type": "code",
   "execution_count": 308,
   "metadata": {
    "collapsed": false
   },
   "outputs": [
    {
     "data": {
      "text/plain": [
       "[('NOUN', 7216),\n",
       " ('ADJF', 2395),\n",
       " ('PREP', 1861),\n",
       " ('INFN', 1244),\n",
       " ('CONJ', 816),\n",
       " ('OTHR', 562),\n",
       " ('ADVB', 298),\n",
       " ('PRCL', 122),\n",
       " ('NPRO', 81),\n",
       " ('NUMR', 45),\n",
       " ('INTJ', 26),\n",
       " ('PRED', 21),\n",
       " ('VERB', 21),\n",
       " ('ADJS', 7),\n",
       " ('GRND', 6),\n",
       " ('PRTF', 6),\n",
       " ('PRTS', 5)]"
      ]
     },
     "execution_count": 308,
     "metadata": {},
     "output_type": "execute_result"
    }
   ],
   "source": [
    "sorted(s_dict.items(), key = itemgetter(1), reverse = True)"
   ]
  },
  {
   "cell_type": "markdown",
   "metadata": {},
   "source": [
    "### 2.2.4 Количество слов с учетом части речи для разговорного стиля"
   ]
  },
  {
   "cell_type": "code",
   "execution_count": 309,
   "metadata": {
    "collapsed": false
   },
   "outputs": [
    {
     "data": {
      "text/plain": [
       "{'ADJF': 1553,\n",
       " 'ADJS': 24,\n",
       " 'ADVB': 1155,\n",
       " 'CONJ': 1297,\n",
       " 'GRND': 8,\n",
       " 'INFN': 2301,\n",
       " 'INTJ': 122,\n",
       " 'NOUN': 3787,\n",
       " 'NPRO': 1093,\n",
       " 'NUMR': 26,\n",
       " 'OTHR': 280,\n",
       " 'PRCL': 936,\n",
       " 'PRED': 108,\n",
       " 'PREP': 1445,\n",
       " 'PRTF': 1,\n",
       " 'PRTS': 0,\n",
       " 'VERB': 35}"
      ]
     },
     "execution_count": 309,
     "metadata": {},
     "output_type": "execute_result"
    }
   ],
   "source": [
    "c_dict = count_parts_of_speech(conversational_tokens, morph_analyzer, parts_of_speech)\n",
    "c_dict.update({'PRTS':0}) #во всех остальных текстах эта часть речи есть, поэтому добавим и сюда, но поставим нулевое значение \n",
    "c_dict"
   ]
  },
  {
   "cell_type": "code",
   "execution_count": 310,
   "metadata": {
    "collapsed": false
   },
   "outputs": [
    {
     "data": {
      "text/plain": [
       "[('NOUN', 3787),\n",
       " ('INFN', 2301),\n",
       " ('ADJF', 1553),\n",
       " ('PREP', 1445),\n",
       " ('CONJ', 1297),\n",
       " ('ADVB', 1155),\n",
       " ('NPRO', 1093),\n",
       " ('PRCL', 936),\n",
       " ('OTHR', 280),\n",
       " ('INTJ', 122),\n",
       " ('PRED', 108),\n",
       " ('VERB', 35),\n",
       " ('NUMR', 26),\n",
       " ('ADJS', 24),\n",
       " ('GRND', 8),\n",
       " ('PRTF', 1),\n",
       " ('PRTS', 0)]"
      ]
     },
     "execution_count": 310,
     "metadata": {},
     "output_type": "execute_result"
    }
   ],
   "source": [
    "sorted(c_dict.items(), key = itemgetter(1), reverse = True)"
   ]
  },
  {
   "cell_type": "markdown",
   "metadata": {},
   "source": [
    "###  Формирование гипотезы"
   ]
  },
  {
   "cell_type": "markdown",
   "metadata": {},
   "source": [
    "<center>\n",
    "${\\displaystyle H_{0}}$: В текстах разных стилей частоты частей речи имеют **разный** характер распределения.\n",
    "<br>\n",
    "${\\displaystyle H_{A}}$: В текстах разных стилей частоты частей речи имеют **одинаковый** характер распределения.\n",
    "<br>\n",
    "\n",
    "<br>\n",
    "</center>\n",
    "Зададим уровень значимости **$\\alpha$ (вероятность ошибки первого рода) = 0.05** относительно которого в дальнейшем будем делать вывод о справедливости гипотезы.\n",
    "</center>"
   ]
  },
  {
   "cell_type": "markdown",
   "metadata": {},
   "source": [
    "Также зададим критерий, больше всего подходящий для решения данной задачи - **???**, который представляет собой тестовую статистику применимую для .."
   ]
  },
  {
   "cell_type": "markdown",
   "metadata": {},
   "source": [
    "###  Приведение частотных словарей к pandas DataFrame"
   ]
  },
  {
   "cell_type": "code",
   "execution_count": 311,
   "metadata": {
    "collapsed": true
   },
   "outputs": [],
   "source": [
    "#превращаем в датафреймы\n",
    "f_df = pd.DataFrame([f_dict]).T\n",
    "f_df.rename(columns = {0:'Fiction'}, inplace = True)\n",
    "\n",
    "j_df = pd.DataFrame([j_dict]).T\n",
    "j_df.rename(columns = {0:'Journalistic'}, inplace = True)\n",
    "\n",
    "s_df = pd.DataFrame([s_dict]).T\n",
    "s_df.rename(columns = {0:'Scientific'}, inplace = True)\n",
    "\n",
    "c_df = pd.DataFrame([c_dict]).T\n",
    "c_df.rename(columns = {0:'Conversational'}, inplace = True)"
   ]
  },
  {
   "cell_type": "code",
   "execution_count": 312,
   "metadata": {
    "collapsed": false
   },
   "outputs": [],
   "source": [
    "#соединяем все в один датафрейм\n",
    "df1 = s_df.join(c_df)\n",
    "df2 = f_df.join(j_df)\n",
    "df = df1.join(df2)"
   ]
  },
  {
   "cell_type": "markdown",
   "metadata": {},
   "source": [
    "###  Вычисление корреляции Спирмена "
   ]
  },
  {
   "cell_type": "markdown",
   "metadata": {},
   "source": [
    "<center>\n",
    "Коэффициент корреляции Спирмена является мерой линейной связи между случайными величинами. \n",
    "<br>\n",
    "Корреляция Спирмена является ранговой, то есть для оценки силы связи используются не численные значения, а соответствующие им ранги.\n",
    "<br>\n",
    "Пусть даны две выборки $x = (x_1,\\ldots,x_n),\\;\\; y = (y_1,\\ldots,y_n)$.\n",
    "<br> \n",
    "тогда коэффициент корреляции Спирмена вычисляется по формуле:\n",
    "<br> \n",
    "$$\\rho=1-\\frac{6}{n(n-1)(n+1)}\\sum_{i=1}^n(R_i-S_i)^2,[1]$$ \n",
    "<br> \n",
    "где \n",
    "<br> \n",
    "$R_i$ - ранг наблюдения $x_i$ в ряду x, \n",
    "<br> \n",
    "$S_i$ - ранг наблюдения $y_i$ в ряду y.\n",
    "<center/>"
   ]
  },
  {
   "cell_type": "code",
   "execution_count": 313,
   "metadata": {
    "collapsed": true
   },
   "outputs": [],
   "source": [
    "from scipy.stats import spearmanr"
   ]
  },
  {
   "cell_type": "markdown",
   "metadata": {},
   "source": [
    "#### Научный и публицистический"
   ]
  },
  {
   "cell_type": "code",
   "execution_count": 314,
   "metadata": {
    "collapsed": false
   },
   "outputs": [
    {
     "name": "stdout",
     "output_type": "stream",
     "text": [
      "Коэффициент корреляции Спирмена: r = 0.963781642615\n",
      "Статистическая значимость: p-value = 5.13937421513e-10\n"
     ]
    }
   ],
   "source": [
    "spearman = spearmanr(np.array(df['Scientific']), np.array(df['Journalistic']))\n",
    "print(str('Коэффициент корреляции Спирмена: r = ') + str(spearman[0]) + '\\n' + \n",
    "      str('Статистическая значимость: p-value = ') + str(spearman[1]))"
   ]
  },
  {
   "cell_type": "markdown",
   "metadata": {},
   "source": [
    "#### Научный и разговорный"
   ]
  },
  {
   "cell_type": "code",
   "execution_count": 315,
   "metadata": {
    "collapsed": false
   },
   "outputs": [
    {
     "name": "stdout",
     "output_type": "stream",
     "text": [
      "Коэффициент корреляции Спирмена: r = 0.959509924732\n",
      "Статистическая значимость: p-value = 1.17126395115e-09\n"
     ]
    }
   ],
   "source": [
    "spearman = spearmanr(np.array(df['Scientific']), np.array(df['Conversational']))\n",
    "print(str('Коэффициент корреляции Спирмена: r = ') + str(spearman[0]) + '\\n' + \n",
    "      str('Статистическая значимость: p-value = ') + str(spearman[1]))"
   ]
  },
  {
   "cell_type": "markdown",
   "metadata": {},
   "source": [
    "#### Разговорный и публицистический"
   ]
  },
  {
   "cell_type": "code",
   "execution_count": 316,
   "metadata": {
    "collapsed": false
   },
   "outputs": [
    {
     "name": "stdout",
     "output_type": "stream",
     "text": [
      "Коэффициент корреляции Спирмена: r = 0.935622493455\n",
      "Статистическая значимость: p-value = 3.53712041136e-08\n"
     ]
    }
   ],
   "source": [
    "spearman = spearmanr(np.array(df['Conversational']), np.array(df['Journalistic']))\n",
    "print(str('Коэффициент корреляции Спирмена: r = ') + str(spearman[0]) + '\\n' + \n",
    "      str('Статистическая значимость: p-value = ') + str(spearman[1]))"
   ]
  },
  {
   "cell_type": "markdown",
   "metadata": {},
   "source": [
    "#### Разговорный и художественный"
   ]
  },
  {
   "cell_type": "code",
   "execution_count": 317,
   "metadata": {
    "collapsed": false
   },
   "outputs": [
    {
     "name": "stdout",
     "output_type": "stream",
     "text": [
      "Коэффициент корреляции Спирмена: r = 0.950980392157\n",
      "Статистическая значимость: p-value = 4.79175684832e-09\n"
     ]
    }
   ],
   "source": [
    "spearman = spearmanr(np.array(df['Conversational']), np.array(df['Fiction']))\n",
    "print(str('Коэффициент корреляции Спирмена: r = ') + str(spearman[0]) + '\\n' + \n",
    "      str('Статистическая значимость: p-value = ') + str(spearman[1]))"
   ]
  },
  {
   "cell_type": "markdown",
   "metadata": {},
   "source": [
    "#### Художественный и публицистический"
   ]
  },
  {
   "cell_type": "code",
   "execution_count": 318,
   "metadata": {
    "collapsed": false
   },
   "outputs": [
    {
     "name": "stdout",
     "output_type": "stream",
     "text": [
      "Коэффициент корреляции Спирмена: r = 0.880441612452\n",
      "Статистическая значимость: p-value = 3.1160914086e-06\n"
     ]
    }
   ],
   "source": [
    "spearman = spearmanr(np.array(df['Fiction']), np.array(df['Journalistic']))\n",
    "print(str('Коэффициент корреляции Спирмена: r = ') + str(spearman[0]) + '\\n' + \n",
    "      str('Статистическая значимость: p-value = ') + str(spearman[1]))"
   ]
  },
  {
   "cell_type": "markdown",
   "metadata": {},
   "source": [
    "#### Научный и художественный"
   ]
  },
  {
   "cell_type": "code",
   "execution_count": 319,
   "metadata": {
    "collapsed": false
   },
   "outputs": [
    {
     "name": "stdout",
     "output_type": "stream",
     "text": [
      "Коэффициент корреляции Спирмена: r = 0.88834422699\n",
      "Статистическая значимость: p-value = 1.91070373858e-06\n"
     ]
    }
   ],
   "source": [
    "spearman = spearmanr(np.array(df['Scientific']), np.array(df['Fiction']))\n",
    "print(str('Коэффициент корреляции Спирмена: r = ') + str(spearman[0]) + '\\n' + \n",
    "      str('Статистическая значимость: p-value = ') + str(spearman[1]))"
   ]
  },
  {
   "cell_type": "markdown",
   "metadata": {},
   "source": [
    "**Интерпретация результатов** \n",
    "\n",
    "Самое высокое значение коэффициента корреляции Спирмена имеют такие стили текстов, как: ***научный*** и ***публицистический***, что говорит о наличии достаточно сильной зависимости частот встречаний тех или иных частей речи в этих текстах, в этом также можно убедиться глядя на графики, изложенные ниже. Остальные же стили также имеют зависимость, но уже с меньшим значением корреляции. Наименьший коэффициент корреляции Спирмена имеют ***художественный*** и ***публицистический*** стиль текстов."
   ]
  },
  {
   "cell_type": "markdown",
   "metadata": {},
   "source": [
    "###  Визуализация"
   ]
  },
  {
   "cell_type": "markdown",
   "metadata": {},
   "source": [
    "####  График плотности частоты встречаний частей речи для разных стилей текстов\n",
    "\n",
    "звучит криво, я знаю аххаха"
   ]
  },
  {
   "cell_type": "code",
   "execution_count": 320,
   "metadata": {
    "collapsed": false
   },
   "outputs": [
    {
     "data": {
      "text/plain": [
       "<matplotlib.axes._subplots.AxesSubplot at 0x1215ab2b0>"
      ]
     },
     "execution_count": 320,
     "metadata": {},
     "output_type": "execute_result"
    },
    {
     "data": {
      "image/png": "[encoded data removed]",
      "text/plain": [
       "<matplotlib.figure.Figure at 0x1214266a0>"
      ]
     },
     "metadata": {},
     "output_type": "display_data"
    }
   ],
   "source": [
    "fig, axes = plt.subplots(nrows=2, ncols=2, figsize=(15, 8))\n",
    "\n",
    "j_df.plot(ax=axes[0,0], kind='kde', color='#4A95C4', linewidth= 4) \n",
    "s_df.plot(ax=axes[0,1], kind='kde', color='#B22E50', linewidth= 4)\n",
    "c_df.plot(ax=axes[1,0], kind='kde', color='#2F8375', linewidth= 4)\n",
    "f_df.plot(ax=axes[1,1], kind='kde', color='#D8850E', linewidth= 4)"
   ]
  },
  {
   "cell_type": "markdown",
   "metadata": {},
   "source": [
    "####  График"
   ]
  },
  {
   "cell_type": "code",
   "execution_count": 321,
   "metadata": {
    "collapsed": false
   },
   "outputs": [
    {
     "data": {
      "text/plain": [
       "<matplotlib.text.Text at 0x103404668>"
      ]
     },
     "execution_count": 321,
     "metadata": {},
     "output_type": "execute_result"
    },
    {
     "data": {
      "image/png": "[encoded data removed]",
      "text/plain": [
       "<matplotlib.figure.Figure at 0x11f84b898>"
      ]
     },
     "metadata": {},
     "output_type": "display_data"
    }
   ],
   "source": [
    "fig, axes = plt.subplots(nrows=2, ncols=2, figsize=(15, 8))\n",
    "\n",
    "j_df.plot(ax=axes[0,0], color='#4A95C4', linewidth= 4); axes[0,0].set_title('Journalistic')\n",
    "\n",
    "s_df.plot(ax=axes[0,1], color='#B22E50', linewidth= 4); axes[0,1].set_title('Scientific')\n",
    "\n",
    "c_df.plot(ax=axes[1,0], color='#2F8375', linewidth= 4); axes[1,0].set_title('Conversational')\n",
    "\n",
    "f_df.plot(ax=axes[1,1], color='#D8850E', linewidth= 4); axes[1,1].set_title('Fiction')"
   ]
  },
  {
   "cell_type": "markdown",
   "metadata": {},
   "source": [
    "#### еще график\n",
    "надо оставить либо этот, либо предыдущий, они по смыслу одинаковые \n",
    "\n",
    "наверное лучше оставить bar"
   ]
  },
  {
   "cell_type": "code",
   "execution_count": 322,
   "metadata": {
    "collapsed": false
   },
   "outputs": [
    {
     "data": {
      "text/plain": [
       "<matplotlib.axes._subplots.AxesSubplot at 0x121408358>"
      ]
     },
     "execution_count": 322,
     "metadata": {},
     "output_type": "execute_result"
    },
    {
     "data": {
      "image/png": "[encoded data removed]",
      "text/plain": [
       "<matplotlib.figure.Figure at 0x1216a5b38>"
      ]
     },
     "metadata": {},
     "output_type": "display_data"
    }
   ],
   "source": [
    "fig, axes = plt.subplots(nrows=2, ncols=2, figsize=(15, 10))\n",
    "\n",
    "j_df.plot(ax=axes[0,0], kind='bar', color='#4A95C4', width = 0.8, alpha = 0.8) \n",
    "s_df.plot(ax=axes[0,1], kind='bar', color='#B22E50', width = 0.8, alpha = 0.8)\n",
    "c_df.plot(ax=axes[1,0], kind='bar', color='#2F8375', width = 0.8, alpha = 0.8) \n",
    "f_df.plot(ax=axes[1,1], kind='bar', color='#D8850E', width = 0.8, alpha = 0.8)"
   ]
  }
 ],
 "metadata": {
  "anaconda-cloud": {},
  "kernelspec": {
   "display_name": "Python 3",
   "language": "python",
   "name": "python3"
  },
  "language_info": {
   "codemirror_mode": {
    "name": "ipython",
    "version": 3
   },
   "file_extension": ".py",
   "mimetype": "text/x-python",
   "name": "python",
   "nbconvert_exporter": "python",
   "pygments_lexer": "ipython3",
   "version": "3.5.1"
  }
 },
 "nbformat": 4,
 "nbformat_minor": 2
}
