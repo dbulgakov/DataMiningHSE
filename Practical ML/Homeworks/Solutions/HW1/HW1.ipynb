{
 "cells": [
  {
   "cell_type": "code",
   "execution_count": 2,
   "metadata": {
    "collapsed": true
   },
   "outputs": [],
   "source": [
    "import os\n",
    "from bs4 import BeautifulSoup\n",
    "\n",
    "import os\n",
    "from bs4 import BeautifulSoup\n",
    "\n",
    "import nltk\n",
    "import pandas as pd\n",
    "import numpy as np\n",
    "import matplotlib.pyplot as plt\n",
    "%matplotlib inline\n",
    "\n",
    "import seaborn as sns\n",
    "sns.set_style(\"whitegrid\")\n",
    "\n",
    "from nltk.tokenize import WhitespaceTokenizer\n",
    "from string import punctuation"
   ]
  },
  {
   "cell_type": "markdown",
   "metadata": {},
   "source": [
    "# HW1:  Сравнение стилей текстов\n",
    "### Выполнили:  Булгаков Дмитрий, Тефикова Алие\n",
    "### Группа ИАД-2"
   ]
  },
  {
   "cell_type": "markdown",
   "metadata": {},
   "source": [
    "# 1. Loading data from file "
   ]
  },
  {
   "cell_type": "markdown",
   "metadata": {},
   "source": [
    "Составьте самостоятельно как минимум две коллекции\n",
    "текстов разных стилей (например, коллекция текстов в публицистическом\n",
    "стиле и коллекция текстов в научном стиле). Коллекции текстов\n",
    "должны быть достаточно большие (порядка 5000 токенов). Посчитайте\n",
    "количество токенов и типов в каждой коллекции."
   ]
  },
  {
   "cell_type": "code",
   "execution_count": 3,
   "metadata": {
    "collapsed": true
   },
   "outputs": [],
   "source": [
    "def remove_control_characters(text_string):\n",
    "    return ''.join(filter(None, text_string.splitlines()))"
   ]
  },
  {
   "cell_type": "markdown",
   "metadata": {},
   "source": [
    "### 1.1 Reading fiction text from file (War and Peace by Leo Tolstoy)"
   ]
  },
  {
   "cell_type": "code",
   "execution_count": 4,
   "metadata": {
    "collapsed": false
   },
   "outputs": [],
   "source": [
    "fiction = open('data/wap.txt', encoding='utf-8').read()\n",
    "fiction = remove_control_characters(fiction)"
   ]
  },
  {
   "cell_type": "markdown",
   "metadata": {},
   "source": [
    "### 1.2 Parsing journalistic style texts from Returers article corpus"
   ]
  },
  {
   "cell_type": "code",
   "execution_count": 12,
   "metadata": {
    "collapsed": true
   },
   "outputs": [],
   "source": [
    "tags_to_remove = ['date', 'topics', 'places', 'people', 'orgs', 'exchanges', 'companies', \n",
    "                  'unknown', 'title', 'dateline']\n",
    "reuters_stopwords = ['reuters']"
   ]
  },
  {
   "cell_type": "code",
   "execution_count": 13,
   "metadata": {
    "collapsed": true
   },
   "outputs": [],
   "source": [
    "def parseXmlFile(path, tags, stopwords):\n",
    "    xml_soup = BeautifulSoup(open(path), 'lxml')\n",
    "    \n",
    "    for trash in xml_soup(tags):\n",
    "        trash.extract()\n",
    "        \n",
    "    parsed_text = xml_soup.get_text() # getting text from file \n",
    "    parsed_text = remove_control_characters(parsed_text) # removing control characters    \n",
    "    parsed_text_words = [word for word in parsed_text.split() if word.lower() not in stopwords] # removing stop words\n",
    "    return ' '.join(parsed_text_words)"
   ]
  },
  {
   "cell_type": "code",
   "execution_count": 14,
   "metadata": {
    "collapsed": false
   },
   "outputs": [],
   "source": [
    "journalistic = parseXmlFile('data/reuters.txt', tags=tags_to_remove, stopwords=reuters_stopwords)"
   ]
  },
  {
   "cell_type": "markdown",
   "metadata": {
    "collapsed": false
   },
   "source": [
    "### 1.3 Counting tokens and types"
   ]
  },
  {
   "cell_type": "markdown",
   "metadata": {},
   "source": [
    "#### Fiction"
   ]
  },
  {
   "cell_type": "code",
   "execution_count": 18,
   "metadata": {
    "collapsed": false
   },
   "outputs": [],
   "source": [
    "exclude = set(punctuation + '0123456789'+u'–—'+u'«»'+u'“')\n",
    "fiction_merged_text = ''.join(ch for ch in fiction if ch not in exclude)\n",
    "fiction_tokens = WhitespaceTokenizer().tokenize(fiction_merged_text.lower())"
   ]
  },
  {
   "cell_type": "code",
   "execution_count": 19,
   "metadata": {
    "collapsed": false
   },
   "outputs": [
    {
     "name": "stdout",
     "output_type": "stream",
     "text": [
      "well\n",
      "prince\n",
      "so\n",
      "genoa\n",
      "and\n",
      "lucca\n",
      "are\n",
      "now\n",
      "just\n",
      "family\n"
     ]
    }
   ],
   "source": [
    "for i in fiction_tokens[:10]: \n",
    "    print(i) "
   ]
  },
  {
   "cell_type": "code",
   "execution_count": 20,
   "metadata": {
    "collapsed": false
   },
   "outputs": [
    {
     "name": "stdout",
     "output_type": "stream",
     "text": [
      "N of tokens:  510360\n",
      "N of types: 56583\n",
      "<FreqDist with 56583 samples and 510360 outcomes>\n"
     ]
    }
   ],
   "source": [
    "print('N of tokens: ', len(fiction_tokens))\n",
    "fiction_types = nltk.FreqDist(fiction_tokens)\n",
    "print('N of types:', len(fiction_types))\n",
    "print(fiction_types)"
   ]
  },
  {
   "cell_type": "markdown",
   "metadata": {},
   "source": [
    "#### Journalistic"
   ]
  },
  {
   "cell_type": "code",
   "execution_count": 21,
   "metadata": {
    "collapsed": false
   },
   "outputs": [],
   "source": [
    "exclude = set(punctuation + '0123456789'+u'–—'+u'«»'+u'“')\n",
    "journalistic_merged_text = ''.join(ch for ch in journalistic if ch not in exclude)\n",
    "journalistic_tokens = WhitespaceTokenizer().tokenize(journalistic_merged_text.lower())"
   ]
  },
  {
   "cell_type": "code",
   "execution_count": 22,
   "metadata": {
    "collapsed": false
   },
   "outputs": [
    {
     "name": "stdout",
     "output_type": "stream",
     "text": [
      "showers\n",
      "continued\n",
      "throughout\n",
      "the\n",
      "week\n",
      "inthe\n",
      "bahia\n",
      "cocoa\n",
      "zone\n",
      "alleviating\n"
     ]
    }
   ],
   "source": [
    "for i in journalistic_tokens[:10]: \n",
    "    print(i) "
   ]
  },
  {
   "cell_type": "code",
   "execution_count": 23,
   "metadata": {
    "collapsed": false
   },
   "outputs": [
    {
     "name": "stdout",
     "output_type": "stream",
     "text": [
      "N of tokens:  308598\n",
      "N of types: 34354\n",
      "<FreqDist with 34354 samples and 308598 outcomes>\n"
     ]
    }
   ],
   "source": [
    "print('N of tokens: ', len(journalistic_tokens))\n",
    "journalistic_types = nltk.FreqDist(journalistic_tokens)\n",
    "print('N of types:', len(journalistic_types))\n",
    "print(journalistic_types)"
   ]
  }
 ],
 "metadata": {
  "anaconda-cloud": {},
  "kernelspec": {
   "display_name": "Python 3",
   "language": "python",
   "name": "python3"
  },
  "language_info": {
   "codemirror_mode": {
    "name": "ipython",
    "version": 3
   },
   "file_extension": ".py",
   "mimetype": "text/x-python",
   "name": "python",
   "nbconvert_exporter": "python",
   "pygments_lexer": "ipython3",
   "version": "3.5.1"
  }
 },
 "nbformat": 4,
 "nbformat_minor": 2
}
