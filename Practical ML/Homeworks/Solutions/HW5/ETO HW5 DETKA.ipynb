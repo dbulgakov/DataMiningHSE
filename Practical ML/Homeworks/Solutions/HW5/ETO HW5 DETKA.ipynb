{
 "cells": [
  {
   "cell_type": "code",
   "execution_count": 22,
   "metadata": {
    "collapsed": true
   },
   "outputs": [],
   "source": [
    "import pandas as pd\n",
    "import numpy as np"
   ]
  },
  {
   "cell_type": "markdown",
   "metadata": {},
   "source": [
    "# HW5:  Поиск закономерностей в данных (Pattern Mining).\n",
    "Частые (под)последовтельности\n",
    "### Выполнили:  \n",
    "\n",
    "* Булгаков Дмитрий\n",
    "\n",
    "* Тефикова Алие\n",
    "\n",
    "### Группа ИАД-2"
   ]
  },
  {
   "cell_type": "markdown",
   "metadata": {},
   "source": [
    "## Задание #1 Поиск частых событий"
   ]
  },
  {
   "cell_type": "markdown",
   "metadata": {},
   "source": [
    "Какое событие чаще всего является первым у каждого поколения? (можно построить гистограмму)"
   ]
  },
  {
   "cell_type": "code",
   "execution_count": 23,
   "metadata": {
    "collapsed": true
   },
   "outputs": [],
   "source": [
    "data = pd.read_csv('data/socAttrAndSeqFusion(full).csv', sep=';')"
   ]
  },
  {
   "cell_type": "code",
   "execution_count": 24,
   "metadata": {},
   "outputs": [
    {
     "data": {
      "text/html": [
       "<div>\n",
       "<table border=\"1\" class=\"dataframe\">\n",
       "  <thead>\n",
       "    <tr style=\"text-align: right;\">\n",
       "      <th></th>\n",
       "      <th>gender</th>\n",
       "      <th>generation</th>\n",
       "      <th>education</th>\n",
       "      <th>place</th>\n",
       "      <th>event1</th>\n",
       "      <th>event2</th>\n",
       "      <th>event3</th>\n",
       "      <th>event4</th>\n",
       "      <th>event5</th>\n",
       "      <th>last_event</th>\n",
       "    </tr>\n",
       "  </thead>\n",
       "  <tbody>\n",
       "    <tr>\n",
       "      <th>0</th>\n",
       "      <td>1</td>\n",
       "      <td>6</td>\n",
       "      <td>1.0</td>\n",
       "      <td>1.0</td>\n",
       "      <td>work separation</td>\n",
       "      <td>partner</td>\n",
       "      <td>marriage</td>\n",
       "      <td>children</td>\n",
       "      <td>NaN</td>\n",
       "      <td>children</td>\n",
       "    </tr>\n",
       "    <tr>\n",
       "      <th>1</th>\n",
       "      <td>1</td>\n",
       "      <td>6</td>\n",
       "      <td>2.0</td>\n",
       "      <td>1.0</td>\n",
       "      <td>work</td>\n",
       "      <td>separation</td>\n",
       "      <td>NaN</td>\n",
       "      <td>NaN</td>\n",
       "      <td>NaN</td>\n",
       "      <td>separation</td>\n",
       "    </tr>\n",
       "    <tr>\n",
       "      <th>2</th>\n",
       "      <td>0</td>\n",
       "      <td>0</td>\n",
       "      <td>1.0</td>\n",
       "      <td>1.0</td>\n",
       "      <td>NaN</td>\n",
       "      <td>NaN</td>\n",
       "      <td>NaN</td>\n",
       "      <td>NaN</td>\n",
       "      <td>NaN</td>\n",
       "      <td>NaN</td>\n",
       "    </tr>\n",
       "    <tr>\n",
       "      <th>3</th>\n",
       "      <td>1</td>\n",
       "      <td>3</td>\n",
       "      <td>1.0</td>\n",
       "      <td>1.0</td>\n",
       "      <td>work</td>\n",
       "      <td>separation</td>\n",
       "      <td>marriage</td>\n",
       "      <td>children</td>\n",
       "      <td>NaN</td>\n",
       "      <td>children</td>\n",
       "    </tr>\n",
       "    <tr>\n",
       "      <th>4</th>\n",
       "      <td>0</td>\n",
       "      <td>5</td>\n",
       "      <td>1.0</td>\n",
       "      <td>1.0</td>\n",
       "      <td>separation</td>\n",
       "      <td>work</td>\n",
       "      <td>marriage</td>\n",
       "      <td>children</td>\n",
       "      <td>partner</td>\n",
       "      <td>partner</td>\n",
       "    </tr>\n",
       "  </tbody>\n",
       "</table>\n",
       "</div>"
      ],
      "text/plain": [
       "   gender  generation  education  place           event1      event2  \\\n",
       "0       1           6        1.0    1.0  work separation     partner   \n",
       "1       1           6        2.0    1.0             work  separation   \n",
       "2       0           0        1.0    1.0              NaN         NaN   \n",
       "3       1           3        1.0    1.0             work  separation   \n",
       "4       0           5        1.0    1.0       separation        work   \n",
       "\n",
       "     event3    event4   event5  last_event  \n",
       "0  marriage  children      NaN    children  \n",
       "1       NaN       NaN      NaN  separation  \n",
       "2       NaN       NaN      NaN         NaN  \n",
       "3  marriage  children      NaN    children  \n",
       "4  marriage  children  partner     partner  "
      ]
     },
     "execution_count": 24,
     "metadata": {},
     "output_type": "execute_result"
    }
   ],
   "source": [
    "data.head()"
   ]
  },
  {
   "cell_type": "code",
   "execution_count": 7,
   "metadata": {},
   "outputs": [
    {
     "name": "stdout",
     "output_type": "stream",
     "text": [
      "Всего в рассматриваемом датасете присутствуют 7 поколений.\n"
     ]
    }
   ],
   "source": [
    "generations = np.sort(data['generation'].unique())\n",
    "print('Всего в рассматриваемом датасете присутствуют ' + str(len(generations)) + ' поколений.')"
   ]
  },
  {
   "cell_type": "code",
   "execution_count": 8,
   "metadata": {},
   "outputs": [
    {
     "name": "stdout",
     "output_type": "stream",
     "text": [
      "Самое частое первое событие для поколения #0 - work\n",
      "Самое частое первое событие для поколения #1 - work\n",
      "Самое частое первое событие для поколения #2 - work\n",
      "Самое частое первое событие для поколения #3 - work\n",
      "Самое частое первое событие для поколения #4 - work\n",
      "Самое частое первое событие для поколения #5 - work\n",
      "Самое частое первое событие для поколения #6 - work\n"
     ]
    }
   ],
   "source": [
    "for generation in generations:\n",
    "    print('Самое частое первое событие для поколения #{0} - {1}'.format(generation, data[data.generation == generation]['event1'].value_counts().keys()[0]))"
   ]
  },
  {
   "cell_type": "markdown",
   "metadata": {
    "collapsed": true
   },
   "source": [
    "Какое событие чаще всего является последним у каждого поколения? (можнопостроить гистограмму)"
   ]
  },
  {
   "cell_type": "code",
   "execution_count": 30,
   "metadata": {},
   "outputs": [
    {
     "name": "stdout",
     "output_type": "stream",
     "text": [
      "Самое частое последнее событие для поколения #0 - work\n",
      "Самое частое последнее событие для поколения #1 - children\n",
      "Самое частое последнее событие для поколения #2 - children\n",
      "Самое частое последнее событие для поколения #3 - children\n",
      "Самое частое последнее событие для поколения #4 - children\n",
      "Самое частое последнее событие для поколения #5 - children\n",
      "Самое частое последнее событие для поколения #6 - children\n"
     ]
    }
   ],
   "source": [
    "for generation in generations:\n",
    "    print('Самое частое последнее событие для поколения #{0} - {1}'.format(generation, data[data.generation == generation]['last_event'].value_counts().keys()[0]))"
   ]
  },
  {
   "cell_type": "markdown",
   "metadata": {},
   "source": [
    "Аналогичные вопросы для признака “пол” и комбинаций признаков “поколение”и “пол”."
   ]
  },
  {
   "cell_type": "code",
   "execution_count": 32,
   "metadata": {
    "collapsed": true
   },
   "outputs": [],
   "source": [
    "gender_types = [0, 1]"
   ]
  },
  {
   "cell_type": "code",
   "execution_count": 33,
   "metadata": {},
   "outputs": [
    {
     "name": "stdout",
     "output_type": "stream",
     "text": [
      "Самое частое первое событие для пола #0 - work\n",
      "Самое частое первое событие для пола #1 - work\n"
     ]
    }
   ],
   "source": [
    "for gender in gender_types:\n",
    "    print('Самое частое первое событие для пола #{0} - {1}'.format(gender, data[data.gender == gender]['event1'].value_counts().keys()[0]))"
   ]
  },
  {
   "cell_type": "code",
   "execution_count": 57,
   "metadata": {},
   "outputs": [
    {
     "name": "stdout",
     "output_type": "stream",
     "text": [
      "Самое частое последнее событие для пола #0 - children\n",
      "Самое частое последнее событие для пола #1 - children\n"
     ]
    }
   ],
   "source": [
    "for gender in gender_types:\n",
    "    print('Самое частое последнее событие для пола #{0} - {1}'.format(gender, data[data.gender == gender]['last_event'].value_counts().keys()[0]))"
   ]
  },
  {
   "cell_type": "code",
   "execution_count": 67,
   "metadata": {},
   "outputs": [
    {
     "name": "stdout",
     "output_type": "stream",
     "text": [
      "Самое частое первое событие для пола 0 в поколении #0 - work\n",
      "Самое частое первое событие для пола 0 в поколении #1 - work\n",
      "Самое частое первое событие для пола 0 в поколении #2 - work\n",
      "Самое частое первое событие для пола 0 в поколении #3 - work\n",
      "Самое частое первое событие для пола 0 в поколении #4 - work\n",
      "Самое частое первое событие для пола 0 в поколении #5 - work\n",
      "Самое частое первое событие для пола 0 в поколении #6 - work\n",
      "Самое частое первое событие для пола 1 в поколении #0 - work\n",
      "Самое частое первое событие для пола 1 в поколении #1 - work\n",
      "Самое частое первое событие для пола 1 в поколении #2 - work\n",
      "Самое частое первое событие для пола 1 в поколении #3 - work\n",
      "Самое частое первое событие для пола 1 в поколении #4 - work\n",
      "Самое частое первое событие для пола 1 в поколении #5 - work\n",
      "Самое частое первое событие для пола 1 в поколении #6 - work\n"
     ]
    }
   ],
   "source": [
    "for gender in gender_types:\n",
    "    for generation in generations:\n",
    "        print('Самое частое первое событие для пола {0} в поколении #{1} - {2}'.format(gender, generation, data[(data['gender'] == gender) & (data['generation'] == generation)]['event1'].value_counts().keys()[0]))"
   ]
  },
  {
   "cell_type": "code",
   "execution_count": 68,
   "metadata": {},
   "outputs": [
    {
     "name": "stdout",
     "output_type": "stream",
     "text": [
      "Самое частое последнее событие для пола 0 в поколении #0 - work\n",
      "Самое частое последнее событие для пола 0 в поколении #1 - children\n",
      "Самое частое последнее событие для пола 0 в поколении #2 - children\n",
      "Самое частое последнее событие для пола 0 в поколении #3 - children\n",
      "Самое частое последнее событие для пола 0 в поколении #4 - children\n",
      "Самое частое последнее событие для пола 0 в поколении #5 - children\n",
      "Самое частое последнее событие для пола 0 в поколении #6 - children\n",
      "Самое частое последнее событие для пола 1 в поколении #0 - work\n",
      "Самое частое последнее событие для пола 1 в поколении #1 - children\n",
      "Самое частое последнее событие для пола 1 в поколении #2 - children\n",
      "Самое частое последнее событие для пола 1 в поколении #3 - children\n",
      "Самое частое последнее событие для пола 1 в поколении #4 - children\n",
      "Самое частое последнее событие для пола 1 в поколении #5 - children\n",
      "Самое частое последнее событие для пола 1 в поколении #6 - children\n"
     ]
    }
   ],
   "source": [
    "for gender in gender_types:\n",
    "    for generation in generations:\n",
    "        print('Самое частое последнее событие для пола {0} в поколении #{1} - {2}'.format(gender, generation, data[(data['gender'] == gender) & (data['generation'] == generation)]['last_event'].value_counts().keys()[0]))"
   ]
  },
  {
   "cell_type": "code",
   "execution_count": null,
   "metadata": {
    "collapsed": true
   },
   "outputs": [],
   "source": []
  }
 ],
 "metadata": {
  "kernelspec": {
   "display_name": "Python [conda root]",
   "language": "python",
   "name": "conda-root-py"
  },
  "language_info": {
   "codemirror_mode": {
    "name": "ipython",
    "version": 3
   },
   "file_extension": ".py",
   "mimetype": "text/x-python",
   "name": "python",
   "nbconvert_exporter": "python",
   "pygments_lexer": "ipython3",
   "version": "3.5.2"
  }
 },
 "nbformat": 4,
 "nbformat_minor": 2
}
