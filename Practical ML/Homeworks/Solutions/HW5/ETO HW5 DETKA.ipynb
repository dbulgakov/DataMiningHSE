{
 "cells": [
  {
   "cell_type": "code",
   "execution_count": 28,
   "metadata": {
    "collapsed": true
   },
   "outputs": [],
   "source": [
    "import pandas as pd\n",
    "import numpy as np\n",
    "import matplotlib.pyplot as plt\n",
    "import scipy.stats as sts\n",
    "%matplotlib inline\n",
    "import seaborn as sns\n",
    "sns.set_style(\"whitegrid\")"
   ]
  },
  {
   "cell_type": "markdown",
   "metadata": {},
   "source": [
    "# HW5:  Поиск закономерностей в данных (Pattern Mining).\n",
    "Частые (под)последовтельности\n",
    "### Выполнили:  \n",
    "\n",
    "* Булгаков Дмитрий\n",
    "\n",
    "* Тефикова Алие\n",
    "\n",
    "### Группа ИАД-2"
   ]
  },
  {
   "cell_type": "code",
   "execution_count": 29,
   "metadata": {
    "collapsed": true
   },
   "outputs": [],
   "source": [
    "data = pd.read_csv('data/socAttrAndSeqFusion(full).csv', sep=';')"
   ]
  },
  {
   "cell_type": "code",
   "execution_count": 30,
   "metadata": {
    "collapsed": false
   },
   "outputs": [
    {
     "data": {
      "text/html": [
       "<div>\n",
       "<table border=\"1\" class=\"dataframe\">\n",
       "  <thead>\n",
       "    <tr style=\"text-align: right;\">\n",
       "      <th></th>\n",
       "      <th>gender</th>\n",
       "      <th>generation</th>\n",
       "      <th>education</th>\n",
       "      <th>place</th>\n",
       "      <th>event1</th>\n",
       "      <th>event2</th>\n",
       "      <th>event3</th>\n",
       "      <th>event4</th>\n",
       "      <th>event5</th>\n",
       "    </tr>\n",
       "  </thead>\n",
       "  <tbody>\n",
       "    <tr>\n",
       "      <th>0</th>\n",
       "      <td>1</td>\n",
       "      <td>6</td>\n",
       "      <td>1.0</td>\n",
       "      <td>1.0</td>\n",
       "      <td>work separation</td>\n",
       "      <td>partner</td>\n",
       "      <td>marriage</td>\n",
       "      <td>children</td>\n",
       "      <td>NaN</td>\n",
       "    </tr>\n",
       "    <tr>\n",
       "      <th>1</th>\n",
       "      <td>1</td>\n",
       "      <td>6</td>\n",
       "      <td>2.0</td>\n",
       "      <td>1.0</td>\n",
       "      <td>work</td>\n",
       "      <td>separation</td>\n",
       "      <td>NaN</td>\n",
       "      <td>NaN</td>\n",
       "      <td>NaN</td>\n",
       "    </tr>\n",
       "    <tr>\n",
       "      <th>2</th>\n",
       "      <td>0</td>\n",
       "      <td>0</td>\n",
       "      <td>1.0</td>\n",
       "      <td>1.0</td>\n",
       "      <td>NaN</td>\n",
       "      <td>NaN</td>\n",
       "      <td>NaN</td>\n",
       "      <td>NaN</td>\n",
       "      <td>NaN</td>\n",
       "    </tr>\n",
       "    <tr>\n",
       "      <th>3</th>\n",
       "      <td>1</td>\n",
       "      <td>3</td>\n",
       "      <td>1.0</td>\n",
       "      <td>1.0</td>\n",
       "      <td>work</td>\n",
       "      <td>separation</td>\n",
       "      <td>marriage</td>\n",
       "      <td>children</td>\n",
       "      <td>NaN</td>\n",
       "    </tr>\n",
       "    <tr>\n",
       "      <th>4</th>\n",
       "      <td>0</td>\n",
       "      <td>5</td>\n",
       "      <td>1.0</td>\n",
       "      <td>1.0</td>\n",
       "      <td>separation</td>\n",
       "      <td>work</td>\n",
       "      <td>marriage</td>\n",
       "      <td>children</td>\n",
       "      <td>partner</td>\n",
       "    </tr>\n",
       "  </tbody>\n",
       "</table>\n",
       "</div>"
      ],
      "text/plain": [
       "   gender  generation  education  place           event1      event2  \\\n",
       "0       1           6        1.0    1.0  work separation     partner   \n",
       "1       1           6        2.0    1.0             work  separation   \n",
       "2       0           0        1.0    1.0              NaN         NaN   \n",
       "3       1           3        1.0    1.0             work  separation   \n",
       "4       0           5        1.0    1.0       separation        work   \n",
       "\n",
       "     event3    event4   event5  \n",
       "0  marriage  children      NaN  \n",
       "1       NaN       NaN      NaN  \n",
       "2       NaN       NaN      NaN  \n",
       "3  marriage  children      NaN  \n",
       "4  marriage  children  partner  "
      ]
     },
     "execution_count": 30,
     "metadata": {},
     "output_type": "execute_result"
    }
   ],
   "source": [
    "data.head()"
   ]
  },
  {
   "cell_type": "code",
   "execution_count": 31,
   "metadata": {
    "collapsed": false
   },
   "outputs": [
    {
     "name": "stdout",
     "output_type": "stream",
     "text": [
      "Всего в рассматриваемом датасете присутствуют 7 поколений.\n"
     ]
    }
   ],
   "source": [
    "generations = np.sort(data['generation'].unique())\n",
    "print('Всего в рассматриваемом датасете присутствуют ' + str(len(generations)) + ' поколений.')"
   ]
  },
  {
   "cell_type": "code",
   "execution_count": 32,
   "metadata": {
    "collapsed": false
   },
   "outputs": [
    {
     "name": "stdout",
     "output_type": "stream",
     "text": [
      "Самое частое первое событие для поколения #0 - work\n",
      "Самое частое первое событие для поколения #1 - work\n",
      "Самое частое первое событие для поколения #2 - work\n",
      "Самое частое первое событие для поколения #3 - work\n",
      "Самое частое первое событие для поколения #4 - work\n",
      "Самое частое первое событие для поколения #5 - work\n",
      "Самое частое первое событие для поколения #6 - work\n"
     ]
    }
   ],
   "source": [
    "for generation in generations:\n",
    "    print('Самое частое первое событие для поколения #{0} - {1}'.format(generation, data[data.generation == generation]['event1'].value_counts().keys()[0]))"
   ]
  },
  {
   "cell_type": "code",
   "execution_count": 44,
   "metadata": {
    "collapsed": false,
    "scrolled": false
   },
   "outputs": [
    {
     "data": {
      "text/plain": [
       "<matplotlib.text.Text at 0x1218525c0>"
      ]
     },
     "execution_count": 44,
     "metadata": {},
     "output_type": "execute_result"
    },
    {
     "data": {
      "image/png": "[encoded data removed]",
      "text/plain": [
       "<matplotlib.figure.Figure at 0x12479b630>"
      ]
     },
     "metadata": {},
     "output_type": "display_data"
    }
   ],
   "source": [
    "f, ax = plt.subplots(2, 2, figsize=(12, 8))\n",
    "ax[0, 0].hist(data[data.generation == 0]['event1'].value_counts(),facecolor='#A082B5', alpha=0.9)\n",
    "ax[0, 0].set_title('')\n",
    "#ax[0, 0].set_xlim([-3.5, 3.5])\n",
    "#ax[0, 0].set_ylim([0, 0.55])\n",
    "\n",
    "ax[0, 1].hist(data[data.generation == 1]['event1'].value_counts(),facecolor='#ECD5B6', alpha=0.9)\n",
    "ax[0, 1].set_title('')\n",
    "#ax[0, 1].set_xlim([-3.5, 3.5])\n",
    "#ax[0, 1].set_ylim([0, 0.55])\n",
    "\n",
    "ax[1, 0].hist(data[data.generation == 2]['event1'].value_counts(),facecolor='#A97979', alpha=0.9)\n",
    "ax[1, 0].set_title('')\n",
    "#ax[1, 0].set_xlim([-3.5, 3.5])\n",
    "#ax[1, 0].set_ylim([0, 0.55])\n",
    "\n",
    "ax[1, 1].hist(data[data.generation == 3]['event1'].value_counts(),facecolor='#685C70', alpha=0.9)\n",
    "ax[1, 1].set_title('')\n",
    "#ax[1, 1].set_xlim([-3.5, 3.5])\n",
    "#ax[1, 1].set_ylim([0, 0.55])"
   ]
  },
  {
   "cell_type": "code",
   "execution_count": null,
   "metadata": {
    "collapsed": true
   },
   "outputs": [],
   "source": []
  }
 ],
 "metadata": {
  "kernelspec": {
   "display_name": "Python 3",
   "language": "python",
   "name": "python3"
  },
  "language_info": {
   "codemirror_mode": {
    "name": "ipython",
    "version": 3
   },
   "file_extension": ".py",
   "mimetype": "text/x-python",
   "name": "python",
   "nbconvert_exporter": "python",
   "pygments_lexer": "ipython3",
   "version": "3.5.1"
  }
 },
 "nbformat": 4,
 "nbformat_minor": 2
}
