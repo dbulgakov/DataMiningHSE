{
 "cells": [
  {
   "cell_type": "code",
   "execution_count": 4,
   "metadata": {
    "collapsed": true
   },
   "outputs": [],
   "source": [
    "import pandas as pd\n",
    "import numpy as np"
   ]
  },
  {
   "cell_type": "markdown",
   "metadata": {},
   "source": [
    "# HW5:  Поиск закономерностей в данных (Pattern Mining).\n",
    "Частые (под)последовтельности\n",
    "### Выполнили:  \n",
    "\n",
    "* Булгаков Дмитрий\n",
    "\n",
    "* Тефикова Алие\n",
    "\n",
    "### Группа ИАД-2"
   ]
  },
  {
   "cell_type": "code",
   "execution_count": 14,
   "metadata": {},
   "outputs": [],
   "source": [
    "data = pd.read_csv('data/socAttrAndSeqFusion(full).csv', sep=';')"
   ]
  },
  {
   "cell_type": "code",
   "execution_count": 17,
   "metadata": {},
   "outputs": [
    {
     "data": {
      "text/html": [
       "<div>\n",
       "<table border=\"1\" class=\"dataframe\">\n",
       "  <thead>\n",
       "    <tr style=\"text-align: right;\">\n",
       "      <th></th>\n",
       "      <th>gender</th>\n",
       "      <th>generation</th>\n",
       "      <th>education</th>\n",
       "      <th>place</th>\n",
       "      <th>event1</th>\n",
       "      <th>event2</th>\n",
       "      <th>event3</th>\n",
       "      <th>event4</th>\n",
       "      <th>event5</th>\n",
       "    </tr>\n",
       "  </thead>\n",
       "  <tbody>\n",
       "    <tr>\n",
       "      <th>0</th>\n",
       "      <td>1</td>\n",
       "      <td>6</td>\n",
       "      <td>1.0</td>\n",
       "      <td>1.0</td>\n",
       "      <td>work separation</td>\n",
       "      <td>partner</td>\n",
       "      <td>marriage</td>\n",
       "      <td>children</td>\n",
       "      <td>NaN</td>\n",
       "    </tr>\n",
       "    <tr>\n",
       "      <th>1</th>\n",
       "      <td>1</td>\n",
       "      <td>6</td>\n",
       "      <td>2.0</td>\n",
       "      <td>1.0</td>\n",
       "      <td>work</td>\n",
       "      <td>separation</td>\n",
       "      <td>NaN</td>\n",
       "      <td>NaN</td>\n",
       "      <td>NaN</td>\n",
       "    </tr>\n",
       "    <tr>\n",
       "      <th>2</th>\n",
       "      <td>0</td>\n",
       "      <td>0</td>\n",
       "      <td>1.0</td>\n",
       "      <td>1.0</td>\n",
       "      <td>NaN</td>\n",
       "      <td>NaN</td>\n",
       "      <td>NaN</td>\n",
       "      <td>NaN</td>\n",
       "      <td>NaN</td>\n",
       "    </tr>\n",
       "    <tr>\n",
       "      <th>3</th>\n",
       "      <td>1</td>\n",
       "      <td>3</td>\n",
       "      <td>1.0</td>\n",
       "      <td>1.0</td>\n",
       "      <td>work</td>\n",
       "      <td>separation</td>\n",
       "      <td>marriage</td>\n",
       "      <td>children</td>\n",
       "      <td>NaN</td>\n",
       "    </tr>\n",
       "    <tr>\n",
       "      <th>4</th>\n",
       "      <td>0</td>\n",
       "      <td>5</td>\n",
       "      <td>1.0</td>\n",
       "      <td>1.0</td>\n",
       "      <td>separation</td>\n",
       "      <td>work</td>\n",
       "      <td>marriage</td>\n",
       "      <td>children</td>\n",
       "      <td>partner</td>\n",
       "    </tr>\n",
       "  </tbody>\n",
       "</table>\n",
       "</div>"
      ],
      "text/plain": [
       "   gender  generation  education  place           event1      event2  \\\n",
       "0       1           6        1.0    1.0  work separation     partner   \n",
       "1       1           6        2.0    1.0             work  separation   \n",
       "2       0           0        1.0    1.0              NaN         NaN   \n",
       "3       1           3        1.0    1.0             work  separation   \n",
       "4       0           5        1.0    1.0       separation        work   \n",
       "\n",
       "     event3    event4   event5  \n",
       "0  marriage  children      NaN  \n",
       "1       NaN       NaN      NaN  \n",
       "2       NaN       NaN      NaN  \n",
       "3  marriage  children      NaN  \n",
       "4  marriage  children  partner  "
      ]
     },
     "execution_count": 17,
     "metadata": {},
     "output_type": "execute_result"
    }
   ],
   "source": [
    "data.head()"
   ]
  },
  {
   "cell_type": "code",
   "execution_count": 35,
   "metadata": {},
   "outputs": [
    {
     "name": "stdout",
     "output_type": "stream",
     "text": [
      "Всего в рассматриваемом датасете присутствуют 7 поколений.\n"
     ]
    }
   ],
   "source": [
    "generations = np.sort(data['generation'].unique())\n",
    "print('Всего в рассматриваемом датасете присутствуют ' + str(len(generations)) + ' поколений.')"
   ]
  },
  {
   "cell_type": "code",
   "execution_count": 57,
   "metadata": {},
   "outputs": [
    {
     "name": "stdout",
     "output_type": "stream",
     "text": [
      "Самое частое первое событие для поколения #0 - work\n",
      "Самое частое первое событие для поколения #1 - work\n",
      "Самое частое первое событие для поколения #2 - work\n",
      "Самое частое первое событие для поколения #3 - work\n",
      "Самое частое первое событие для поколения #4 - work\n",
      "Самое частое первое событие для поколения #5 - work\n",
      "Самое частое первое событие для поколения #6 - work\n"
     ]
    }
   ],
   "source": [
    "for generation in generations:\n",
    "    print('Самое частое первое событие для поколения #{0} - {1}'.format(generation, data[data.generation == generation]['event1'].value_counts().keys()[0]))"
   ]
  },
  {
   "cell_type": "code",
   "execution_count": null,
   "metadata": {
    "collapsed": true
   },
   "outputs": [],
   "source": []
  }
 ],
 "metadata": {
  "kernelspec": {
   "display_name": "Python [conda root]",
   "language": "python",
   "name": "conda-root-py"
  },
  "language_info": {
   "codemirror_mode": {
    "name": "ipython",
    "version": 3
   },
   "file_extension": ".py",
   "mimetype": "text/x-python",
   "name": "python",
   "nbconvert_exporter": "python",
   "pygments_lexer": "ipython3",
   "version": "3.5.2"
  }
 },
 "nbformat": 4,
 "nbformat_minor": 2
}
